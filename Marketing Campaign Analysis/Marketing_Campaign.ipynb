{
  "nbformat": 4,
  "nbformat_minor": 0,
  "metadata": {
    "colab": {
      "provenance": [],
      "gpuType": "T4"
    },
    "kernelspec": {
      "name": "python3",
      "display_name": "Python 3"
    },
    "language_info": {
      "name": "python"
    },
    "accelerator": "GPU"
  },
  "cells": [
    {
      "cell_type": "markdown",
      "source": [
        "# **Marketing Campaign A/B Testing and Regression Analysis**"
      ],
      "metadata": {
        "id": "jneJGYvNNIFa"
      }
    },
    {
      "cell_type": "markdown",
      "source": [
        "## **Problem Statement**  \n",
        "Marketing campaigns are a crucial tool for driving product sales, but their success often depends on careful planning and evaluation. To determine the effectiveness of a new advertising campaign, a randomized A/B test was conducted. The test aims to compare the performance of a group exposed to advertisements (experimental group) against a control group exposed to public service announcements (PSAs). This analysis will identify whether the campaign successfully drives conversions and the potential financial impact of the ads. Furthermore, regression analysis will be performed to explore the relationship between user behaviors (e.g., number of ads seen) and conversion rates.\n",
        "\n",
        "---\n",
        "\n",
        "## **Objectives**  \n",
        "1. Evaluate the effectiveness of the ad campaign compared to the PSA control group through A/B testing.  \n",
        "2. Determine whether the difference in conversion rates between the experimental and control groups is statistically significant.  \n",
        "3. Quantify the success attributable to the ads by estimating the financial impact.  \n",
        "4. Perform regression analysis to:  \n",
        "   - Identify the key predictors of user conversions (e.g., total ads seen, time of day).  \n",
        "   - Develop a predictive model for conversion likelihood based on user behavior.  \n",
        "\n",
        "---\n",
        "\n",
        "## **Research Questions**  \n",
        "1. **A/B Testing Questions:**  \n",
        "   - Does the experimental group (ads) have a significantly higher conversion rate than the control group (PSAs)?  \n",
        "   - What is the magnitude of the impact of ads on conversion rates?  \n",
        "\n",
        "2. **Regression Analysis Questions:**  \n",
        "   - Will be folmulated based on the Hypothesis Testing Result\n"
      ],
      "metadata": {
        "id": "vdkwqIKDNDtC"
      }
    },
    {
      "cell_type": "markdown",
      "source": [
        "# **Loading Dependencies and Data**"
      ],
      "metadata": {
        "id": "icVDH_b3-Xhw"
      }
    },
    {
      "cell_type": "code",
      "execution_count": null,
      "metadata": {
        "id": "RkIK5EUtB0CD"
      },
      "outputs": [],
      "source": [
        "# Basic libraries\n",
        "import pandas as pd   # For data manipulation and analysis\n",
        "import numpy as np    # For numerical computations\n",
        "\n",
        "# Visualization libraries\n",
        "import matplotlib.pyplot as plt   # For creating static visualizations\n",
        "import seaborn as sns             # For advanced statistical visualizations\n",
        "\n",
        "# Statistical analysis\n",
        "import scipy.stats as stats       # For A/B testing and statistical tests\n",
        "from statsmodels.stats.proportion import proportions_ztest  # For Z-tests on proportions\n",
        "import statsmodels.api as sm      # For regression analysis\n",
        "import statsmodels.formula.api as smf  # For formula-based regression models\n",
        "\n",
        "# Machine learning for predictive modeling (if required later)\n",
        "from sklearn.model_selection import train_test_split  # For splitting data\n",
        "from sklearn.metrics import mean_squared_error, r2_score  # For model evaluation\n",
        "from sklearn.preprocessing import MinMaxScaler # For scale the features\n",
        "import tensorflow as tf # For neural network model\n",
        "\n",
        "# Other utilities\n",
        "import warnings\n",
        "warnings.filterwarnings('ignore')  # To suppress unnecessary warnings\n",
        "\n",
        "plt.style.use('ggplot')"
      ]
    },
    {
      "cell_type": "code",
      "source": [
        "df = pd.read_csv('/content/drive/MyDrive/A B Test/Marketing Campaign/marketing_AB.csv')\n",
        "df.head()"
      ],
      "metadata": {
        "colab": {
          "base_uri": "https://localhost:8080/",
          "height": 206
        },
        "id": "GGUeCsN4lnog",
        "outputId": "2c41a922-7d0c-43f1-fe10-cf6e74d7b006"
      },
      "execution_count": null,
      "outputs": [
        {
          "output_type": "execute_result",
          "data": {
            "text/plain": [
              "   Unnamed: 0  user id test group  converted  total ads most ads day  \\\n",
              "0           0  1069124         ad      False        130       Monday   \n",
              "1           1  1119715         ad      False         93      Tuesday   \n",
              "2           2  1144181         ad      False         21      Tuesday   \n",
              "3           3  1435133         ad      False        355      Tuesday   \n",
              "4           4  1015700         ad      False        276       Friday   \n",
              "\n",
              "   most ads hour  \n",
              "0             20  \n",
              "1             22  \n",
              "2             18  \n",
              "3             10  \n",
              "4             14  "
            ],
            "text/html": [
              "\n",
              "  <div id=\"df-69a11e2b-0419-4aa4-8e6b-f4dd04ac3ff8\" class=\"colab-df-container\">\n",
              "    <div>\n",
              "<style scoped>\n",
              "    .dataframe tbody tr th:only-of-type {\n",
              "        vertical-align: middle;\n",
              "    }\n",
              "\n",
              "    .dataframe tbody tr th {\n",
              "        vertical-align: top;\n",
              "    }\n",
              "\n",
              "    .dataframe thead th {\n",
              "        text-align: right;\n",
              "    }\n",
              "</style>\n",
              "<table border=\"1\" class=\"dataframe\">\n",
              "  <thead>\n",
              "    <tr style=\"text-align: right;\">\n",
              "      <th></th>\n",
              "      <th>Unnamed: 0</th>\n",
              "      <th>user id</th>\n",
              "      <th>test group</th>\n",
              "      <th>converted</th>\n",
              "      <th>total ads</th>\n",
              "      <th>most ads day</th>\n",
              "      <th>most ads hour</th>\n",
              "    </tr>\n",
              "  </thead>\n",
              "  <tbody>\n",
              "    <tr>\n",
              "      <th>0</th>\n",
              "      <td>0</td>\n",
              "      <td>1069124</td>\n",
              "      <td>ad</td>\n",
              "      <td>False</td>\n",
              "      <td>130</td>\n",
              "      <td>Monday</td>\n",
              "      <td>20</td>\n",
              "    </tr>\n",
              "    <tr>\n",
              "      <th>1</th>\n",
              "      <td>1</td>\n",
              "      <td>1119715</td>\n",
              "      <td>ad</td>\n",
              "      <td>False</td>\n",
              "      <td>93</td>\n",
              "      <td>Tuesday</td>\n",
              "      <td>22</td>\n",
              "    </tr>\n",
              "    <tr>\n",
              "      <th>2</th>\n",
              "      <td>2</td>\n",
              "      <td>1144181</td>\n",
              "      <td>ad</td>\n",
              "      <td>False</td>\n",
              "      <td>21</td>\n",
              "      <td>Tuesday</td>\n",
              "      <td>18</td>\n",
              "    </tr>\n",
              "    <tr>\n",
              "      <th>3</th>\n",
              "      <td>3</td>\n",
              "      <td>1435133</td>\n",
              "      <td>ad</td>\n",
              "      <td>False</td>\n",
              "      <td>355</td>\n",
              "      <td>Tuesday</td>\n",
              "      <td>10</td>\n",
              "    </tr>\n",
              "    <tr>\n",
              "      <th>4</th>\n",
              "      <td>4</td>\n",
              "      <td>1015700</td>\n",
              "      <td>ad</td>\n",
              "      <td>False</td>\n",
              "      <td>276</td>\n",
              "      <td>Friday</td>\n",
              "      <td>14</td>\n",
              "    </tr>\n",
              "  </tbody>\n",
              "</table>\n",
              "</div>\n",
              "    <div class=\"colab-df-buttons\">\n",
              "\n",
              "  <div class=\"colab-df-container\">\n",
              "    <button class=\"colab-df-convert\" onclick=\"convertToInteractive('df-69a11e2b-0419-4aa4-8e6b-f4dd04ac3ff8')\"\n",
              "            title=\"Convert this dataframe to an interactive table.\"\n",
              "            style=\"display:none;\">\n",
              "\n",
              "  <svg xmlns=\"http://www.w3.org/2000/svg\" height=\"24px\" viewBox=\"0 -960 960 960\">\n",
              "    <path d=\"M120-120v-720h720v720H120Zm60-500h600v-160H180v160Zm220 220h160v-160H400v160Zm0 220h160v-160H400v160ZM180-400h160v-160H180v160Zm440 0h160v-160H620v160ZM180-180h160v-160H180v160Zm440 0h160v-160H620v160Z\"/>\n",
              "  </svg>\n",
              "    </button>\n",
              "\n",
              "  <style>\n",
              "    .colab-df-container {\n",
              "      display:flex;\n",
              "      gap: 12px;\n",
              "    }\n",
              "\n",
              "    .colab-df-convert {\n",
              "      background-color: #E8F0FE;\n",
              "      border: none;\n",
              "      border-radius: 50%;\n",
              "      cursor: pointer;\n",
              "      display: none;\n",
              "      fill: #1967D2;\n",
              "      height: 32px;\n",
              "      padding: 0 0 0 0;\n",
              "      width: 32px;\n",
              "    }\n",
              "\n",
              "    .colab-df-convert:hover {\n",
              "      background-color: #E2EBFA;\n",
              "      box-shadow: 0px 1px 2px rgba(60, 64, 67, 0.3), 0px 1px 3px 1px rgba(60, 64, 67, 0.15);\n",
              "      fill: #174EA6;\n",
              "    }\n",
              "\n",
              "    .colab-df-buttons div {\n",
              "      margin-bottom: 4px;\n",
              "    }\n",
              "\n",
              "    [theme=dark] .colab-df-convert {\n",
              "      background-color: #3B4455;\n",
              "      fill: #D2E3FC;\n",
              "    }\n",
              "\n",
              "    [theme=dark] .colab-df-convert:hover {\n",
              "      background-color: #434B5C;\n",
              "      box-shadow: 0px 1px 3px 1px rgba(0, 0, 0, 0.15);\n",
              "      filter: drop-shadow(0px 1px 2px rgba(0, 0, 0, 0.3));\n",
              "      fill: #FFFFFF;\n",
              "    }\n",
              "  </style>\n",
              "\n",
              "    <script>\n",
              "      const buttonEl =\n",
              "        document.querySelector('#df-69a11e2b-0419-4aa4-8e6b-f4dd04ac3ff8 button.colab-df-convert');\n",
              "      buttonEl.style.display =\n",
              "        google.colab.kernel.accessAllowed ? 'block' : 'none';\n",
              "\n",
              "      async function convertToInteractive(key) {\n",
              "        const element = document.querySelector('#df-69a11e2b-0419-4aa4-8e6b-f4dd04ac3ff8');\n",
              "        const dataTable =\n",
              "          await google.colab.kernel.invokeFunction('convertToInteractive',\n",
              "                                                    [key], {});\n",
              "        if (!dataTable) return;\n",
              "\n",
              "        const docLinkHtml = 'Like what you see? Visit the ' +\n",
              "          '<a target=\"_blank\" href=https://colab.research.google.com/notebooks/data_table.ipynb>data table notebook</a>'\n",
              "          + ' to learn more about interactive tables.';\n",
              "        element.innerHTML = '';\n",
              "        dataTable['output_type'] = 'display_data';\n",
              "        await google.colab.output.renderOutput(dataTable, element);\n",
              "        const docLink = document.createElement('div');\n",
              "        docLink.innerHTML = docLinkHtml;\n",
              "        element.appendChild(docLink);\n",
              "      }\n",
              "    </script>\n",
              "  </div>\n",
              "\n",
              "\n",
              "<div id=\"df-db5d866a-d022-44f2-a19b-de3cef6d1454\">\n",
              "  <button class=\"colab-df-quickchart\" onclick=\"quickchart('df-db5d866a-d022-44f2-a19b-de3cef6d1454')\"\n",
              "            title=\"Suggest charts\"\n",
              "            style=\"display:none;\">\n",
              "\n",
              "<svg xmlns=\"http://www.w3.org/2000/svg\" height=\"24px\"viewBox=\"0 0 24 24\"\n",
              "     width=\"24px\">\n",
              "    <g>\n",
              "        <path d=\"M19 3H5c-1.1 0-2 .9-2 2v14c0 1.1.9 2 2 2h14c1.1 0 2-.9 2-2V5c0-1.1-.9-2-2-2zM9 17H7v-7h2v7zm4 0h-2V7h2v10zm4 0h-2v-4h2v4z\"/>\n",
              "    </g>\n",
              "</svg>\n",
              "  </button>\n",
              "\n",
              "<style>\n",
              "  .colab-df-quickchart {\n",
              "      --bg-color: #E8F0FE;\n",
              "      --fill-color: #1967D2;\n",
              "      --hover-bg-color: #E2EBFA;\n",
              "      --hover-fill-color: #174EA6;\n",
              "      --disabled-fill-color: #AAA;\n",
              "      --disabled-bg-color: #DDD;\n",
              "  }\n",
              "\n",
              "  [theme=dark] .colab-df-quickchart {\n",
              "      --bg-color: #3B4455;\n",
              "      --fill-color: #D2E3FC;\n",
              "      --hover-bg-color: #434B5C;\n",
              "      --hover-fill-color: #FFFFFF;\n",
              "      --disabled-bg-color: #3B4455;\n",
              "      --disabled-fill-color: #666;\n",
              "  }\n",
              "\n",
              "  .colab-df-quickchart {\n",
              "    background-color: var(--bg-color);\n",
              "    border: none;\n",
              "    border-radius: 50%;\n",
              "    cursor: pointer;\n",
              "    display: none;\n",
              "    fill: var(--fill-color);\n",
              "    height: 32px;\n",
              "    padding: 0;\n",
              "    width: 32px;\n",
              "  }\n",
              "\n",
              "  .colab-df-quickchart:hover {\n",
              "    background-color: var(--hover-bg-color);\n",
              "    box-shadow: 0 1px 2px rgba(60, 64, 67, 0.3), 0 1px 3px 1px rgba(60, 64, 67, 0.15);\n",
              "    fill: var(--button-hover-fill-color);\n",
              "  }\n",
              "\n",
              "  .colab-df-quickchart-complete:disabled,\n",
              "  .colab-df-quickchart-complete:disabled:hover {\n",
              "    background-color: var(--disabled-bg-color);\n",
              "    fill: var(--disabled-fill-color);\n",
              "    box-shadow: none;\n",
              "  }\n",
              "\n",
              "  .colab-df-spinner {\n",
              "    border: 2px solid var(--fill-color);\n",
              "    border-color: transparent;\n",
              "    border-bottom-color: var(--fill-color);\n",
              "    animation:\n",
              "      spin 1s steps(1) infinite;\n",
              "  }\n",
              "\n",
              "  @keyframes spin {\n",
              "    0% {\n",
              "      border-color: transparent;\n",
              "      border-bottom-color: var(--fill-color);\n",
              "      border-left-color: var(--fill-color);\n",
              "    }\n",
              "    20% {\n",
              "      border-color: transparent;\n",
              "      border-left-color: var(--fill-color);\n",
              "      border-top-color: var(--fill-color);\n",
              "    }\n",
              "    30% {\n",
              "      border-color: transparent;\n",
              "      border-left-color: var(--fill-color);\n",
              "      border-top-color: var(--fill-color);\n",
              "      border-right-color: var(--fill-color);\n",
              "    }\n",
              "    40% {\n",
              "      border-color: transparent;\n",
              "      border-right-color: var(--fill-color);\n",
              "      border-top-color: var(--fill-color);\n",
              "    }\n",
              "    60% {\n",
              "      border-color: transparent;\n",
              "      border-right-color: var(--fill-color);\n",
              "    }\n",
              "    80% {\n",
              "      border-color: transparent;\n",
              "      border-right-color: var(--fill-color);\n",
              "      border-bottom-color: var(--fill-color);\n",
              "    }\n",
              "    90% {\n",
              "      border-color: transparent;\n",
              "      border-bottom-color: var(--fill-color);\n",
              "    }\n",
              "  }\n",
              "</style>\n",
              "\n",
              "  <script>\n",
              "    async function quickchart(key) {\n",
              "      const quickchartButtonEl =\n",
              "        document.querySelector('#' + key + ' button');\n",
              "      quickchartButtonEl.disabled = true;  // To prevent multiple clicks.\n",
              "      quickchartButtonEl.classList.add('colab-df-spinner');\n",
              "      try {\n",
              "        const charts = await google.colab.kernel.invokeFunction(\n",
              "            'suggestCharts', [key], {});\n",
              "      } catch (error) {\n",
              "        console.error('Error during call to suggestCharts:', error);\n",
              "      }\n",
              "      quickchartButtonEl.classList.remove('colab-df-spinner');\n",
              "      quickchartButtonEl.classList.add('colab-df-quickchart-complete');\n",
              "    }\n",
              "    (() => {\n",
              "      let quickchartButtonEl =\n",
              "        document.querySelector('#df-db5d866a-d022-44f2-a19b-de3cef6d1454 button');\n",
              "      quickchartButtonEl.style.display =\n",
              "        google.colab.kernel.accessAllowed ? 'block' : 'none';\n",
              "    })();\n",
              "  </script>\n",
              "</div>\n",
              "\n",
              "    </div>\n",
              "  </div>\n"
            ],
            "application/vnd.google.colaboratory.intrinsic+json": {
              "type": "dataframe",
              "variable_name": "df"
            }
          },
          "metadata": {},
          "execution_count": 2
        }
      ]
    },
    {
      "cell_type": "markdown",
      "source": [
        "# **Exploratory Data Analysis and Data Cleaning**"
      ],
      "metadata": {
        "id": "NdffegjMGfFe"
      }
    },
    {
      "cell_type": "markdown",
      "source": [
        "### **Checking Shapes, Data Types, Null & Duplicate Values, Unnecessary Columns**"
      ],
      "metadata": {
        "id": "yH6ipFYtQ6_r"
      }
    },
    {
      "cell_type": "code",
      "source": [
        "df.shape"
      ],
      "metadata": {
        "colab": {
          "base_uri": "https://localhost:8080/"
        },
        "id": "Gugsp5TGuyEr",
        "outputId": "f8ff0995-c7af-4d8d-e7b7-bf72f49bca6b"
      },
      "execution_count": null,
      "outputs": [
        {
          "output_type": "execute_result",
          "data": {
            "text/plain": [
              "(588101, 7)"
            ]
          },
          "metadata": {},
          "execution_count": 3
        }
      ]
    },
    {
      "cell_type": "code",
      "source": [
        "df.dtypes"
      ],
      "metadata": {
        "colab": {
          "base_uri": "https://localhost:8080/",
          "height": 304
        },
        "id": "YqZX65tFu40a",
        "outputId": "73db659e-a155-4ad8-b6a2-0408dd8f9e46"
      },
      "execution_count": null,
      "outputs": [
        {
          "output_type": "execute_result",
          "data": {
            "text/plain": [
              "Unnamed: 0        int64\n",
              "user id           int64\n",
              "test group       object\n",
              "converted          bool\n",
              "total ads         int64\n",
              "most ads day     object\n",
              "most ads hour     int64\n",
              "dtype: object"
            ],
            "text/html": [
              "<div>\n",
              "<style scoped>\n",
              "    .dataframe tbody tr th:only-of-type {\n",
              "        vertical-align: middle;\n",
              "    }\n",
              "\n",
              "    .dataframe tbody tr th {\n",
              "        vertical-align: top;\n",
              "    }\n",
              "\n",
              "    .dataframe thead th {\n",
              "        text-align: right;\n",
              "    }\n",
              "</style>\n",
              "<table border=\"1\" class=\"dataframe\">\n",
              "  <thead>\n",
              "    <tr style=\"text-align: right;\">\n",
              "      <th></th>\n",
              "      <th>0</th>\n",
              "    </tr>\n",
              "  </thead>\n",
              "  <tbody>\n",
              "    <tr>\n",
              "      <th>Unnamed: 0</th>\n",
              "      <td>int64</td>\n",
              "    </tr>\n",
              "    <tr>\n",
              "      <th>user id</th>\n",
              "      <td>int64</td>\n",
              "    </tr>\n",
              "    <tr>\n",
              "      <th>test group</th>\n",
              "      <td>object</td>\n",
              "    </tr>\n",
              "    <tr>\n",
              "      <th>converted</th>\n",
              "      <td>bool</td>\n",
              "    </tr>\n",
              "    <tr>\n",
              "      <th>total ads</th>\n",
              "      <td>int64</td>\n",
              "    </tr>\n",
              "    <tr>\n",
              "      <th>most ads day</th>\n",
              "      <td>object</td>\n",
              "    </tr>\n",
              "    <tr>\n",
              "      <th>most ads hour</th>\n",
              "      <td>int64</td>\n",
              "    </tr>\n",
              "  </tbody>\n",
              "</table>\n",
              "</div><br><label><b>dtype:</b> object</label>"
            ]
          },
          "metadata": {},
          "execution_count": 4
        }
      ]
    },
    {
      "cell_type": "markdown",
      "source": [
        "**All columns data types are appropriate**"
      ],
      "metadata": {
        "id": "YVYlWehuLUsF"
      }
    },
    {
      "cell_type": "code",
      "source": [
        "df.isna().sum()"
      ],
      "metadata": {
        "colab": {
          "base_uri": "https://localhost:8080/",
          "height": 304
        },
        "id": "T6AO45Mju74a",
        "outputId": "ac79bb72-35c4-4a7a-bcd1-897122e7b55f"
      },
      "execution_count": null,
      "outputs": [
        {
          "output_type": "execute_result",
          "data": {
            "text/plain": [
              "Unnamed: 0       0\n",
              "user id          0\n",
              "test group       0\n",
              "converted        0\n",
              "total ads        0\n",
              "most ads day     0\n",
              "most ads hour    0\n",
              "dtype: int64"
            ],
            "text/html": [
              "<div>\n",
              "<style scoped>\n",
              "    .dataframe tbody tr th:only-of-type {\n",
              "        vertical-align: middle;\n",
              "    }\n",
              "\n",
              "    .dataframe tbody tr th {\n",
              "        vertical-align: top;\n",
              "    }\n",
              "\n",
              "    .dataframe thead th {\n",
              "        text-align: right;\n",
              "    }\n",
              "</style>\n",
              "<table border=\"1\" class=\"dataframe\">\n",
              "  <thead>\n",
              "    <tr style=\"text-align: right;\">\n",
              "      <th></th>\n",
              "      <th>0</th>\n",
              "    </tr>\n",
              "  </thead>\n",
              "  <tbody>\n",
              "    <tr>\n",
              "      <th>Unnamed: 0</th>\n",
              "      <td>0</td>\n",
              "    </tr>\n",
              "    <tr>\n",
              "      <th>user id</th>\n",
              "      <td>0</td>\n",
              "    </tr>\n",
              "    <tr>\n",
              "      <th>test group</th>\n",
              "      <td>0</td>\n",
              "    </tr>\n",
              "    <tr>\n",
              "      <th>converted</th>\n",
              "      <td>0</td>\n",
              "    </tr>\n",
              "    <tr>\n",
              "      <th>total ads</th>\n",
              "      <td>0</td>\n",
              "    </tr>\n",
              "    <tr>\n",
              "      <th>most ads day</th>\n",
              "      <td>0</td>\n",
              "    </tr>\n",
              "    <tr>\n",
              "      <th>most ads hour</th>\n",
              "      <td>0</td>\n",
              "    </tr>\n",
              "  </tbody>\n",
              "</table>\n",
              "</div><br><label><b>dtype:</b> int64</label>"
            ]
          },
          "metadata": {},
          "execution_count": 5
        }
      ]
    },
    {
      "cell_type": "markdown",
      "source": [
        "**There is no null values present in the dataset**"
      ],
      "metadata": {
        "id": "-8kCUqgELg2S"
      }
    },
    {
      "cell_type": "code",
      "source": [
        "df.duplicated().sum()"
      ],
      "metadata": {
        "colab": {
          "base_uri": "https://localhost:8080/"
        },
        "id": "ToPn3wHAvB_i",
        "outputId": "65398aa0-52c5-43a1-b24f-f2164dd71f3c"
      },
      "execution_count": null,
      "outputs": [
        {
          "output_type": "execute_result",
          "data": {
            "text/plain": [
              "0"
            ]
          },
          "metadata": {},
          "execution_count": 6
        }
      ]
    },
    {
      "cell_type": "markdown",
      "source": [
        "**There is no duplicate rows**"
      ],
      "metadata": {
        "id": "hmkLY8uSLmn6"
      }
    },
    {
      "cell_type": "code",
      "source": [
        "df['user id'].nunique() == len(df)"
      ],
      "metadata": {
        "colab": {
          "base_uri": "https://localhost:8080/"
        },
        "id": "jQTyDXZJvhAF",
        "outputId": "1b4bd550-d38b-440e-f994-b3eb41e022e0"
      },
      "execution_count": null,
      "outputs": [
        {
          "output_type": "execute_result",
          "data": {
            "text/plain": [
              "True"
            ]
          },
          "metadata": {},
          "execution_count": 7
        }
      ]
    },
    {
      "cell_type": "markdown",
      "source": [
        "**User ID is unique in each rows that means each row represents a single user. So it is not necessary to analyze with the User ID further.**"
      ],
      "metadata": {
        "id": "4T_ZXgG-Lu2c"
      }
    },
    {
      "cell_type": "code",
      "source": [
        "# Drop the unnecessary columns\n",
        "\n",
        "df.drop(['Unnamed: 0', 'user id'], axis = 1, inplace = True)\n",
        "df.head()"
      ],
      "metadata": {
        "colab": {
          "base_uri": "https://localhost:8080/",
          "height": 206
        },
        "id": "b9sHZsF5vFoi",
        "outputId": "a301b31b-8494-4052-8ac6-ea0e4dc6aad6"
      },
      "execution_count": null,
      "outputs": [
        {
          "output_type": "execute_result",
          "data": {
            "text/plain": [
              "  test group  converted  total ads most ads day  most ads hour\n",
              "0         ad      False        130       Monday             20\n",
              "1         ad      False         93      Tuesday             22\n",
              "2         ad      False         21      Tuesday             18\n",
              "3         ad      False        355      Tuesday             10\n",
              "4         ad      False        276       Friday             14"
            ],
            "text/html": [
              "\n",
              "  <div id=\"df-ab12c335-2864-41cc-95bf-40943458b0c7\" class=\"colab-df-container\">\n",
              "    <div>\n",
              "<style scoped>\n",
              "    .dataframe tbody tr th:only-of-type {\n",
              "        vertical-align: middle;\n",
              "    }\n",
              "\n",
              "    .dataframe tbody tr th {\n",
              "        vertical-align: top;\n",
              "    }\n",
              "\n",
              "    .dataframe thead th {\n",
              "        text-align: right;\n",
              "    }\n",
              "</style>\n",
              "<table border=\"1\" class=\"dataframe\">\n",
              "  <thead>\n",
              "    <tr style=\"text-align: right;\">\n",
              "      <th></th>\n",
              "      <th>test group</th>\n",
              "      <th>converted</th>\n",
              "      <th>total ads</th>\n",
              "      <th>most ads day</th>\n",
              "      <th>most ads hour</th>\n",
              "    </tr>\n",
              "  </thead>\n",
              "  <tbody>\n",
              "    <tr>\n",
              "      <th>0</th>\n",
              "      <td>ad</td>\n",
              "      <td>False</td>\n",
              "      <td>130</td>\n",
              "      <td>Monday</td>\n",
              "      <td>20</td>\n",
              "    </tr>\n",
              "    <tr>\n",
              "      <th>1</th>\n",
              "      <td>ad</td>\n",
              "      <td>False</td>\n",
              "      <td>93</td>\n",
              "      <td>Tuesday</td>\n",
              "      <td>22</td>\n",
              "    </tr>\n",
              "    <tr>\n",
              "      <th>2</th>\n",
              "      <td>ad</td>\n",
              "      <td>False</td>\n",
              "      <td>21</td>\n",
              "      <td>Tuesday</td>\n",
              "      <td>18</td>\n",
              "    </tr>\n",
              "    <tr>\n",
              "      <th>3</th>\n",
              "      <td>ad</td>\n",
              "      <td>False</td>\n",
              "      <td>355</td>\n",
              "      <td>Tuesday</td>\n",
              "      <td>10</td>\n",
              "    </tr>\n",
              "    <tr>\n",
              "      <th>4</th>\n",
              "      <td>ad</td>\n",
              "      <td>False</td>\n",
              "      <td>276</td>\n",
              "      <td>Friday</td>\n",
              "      <td>14</td>\n",
              "    </tr>\n",
              "  </tbody>\n",
              "</table>\n",
              "</div>\n",
              "    <div class=\"colab-df-buttons\">\n",
              "\n",
              "  <div class=\"colab-df-container\">\n",
              "    <button class=\"colab-df-convert\" onclick=\"convertToInteractive('df-ab12c335-2864-41cc-95bf-40943458b0c7')\"\n",
              "            title=\"Convert this dataframe to an interactive table.\"\n",
              "            style=\"display:none;\">\n",
              "\n",
              "  <svg xmlns=\"http://www.w3.org/2000/svg\" height=\"24px\" viewBox=\"0 -960 960 960\">\n",
              "    <path d=\"M120-120v-720h720v720H120Zm60-500h600v-160H180v160Zm220 220h160v-160H400v160Zm0 220h160v-160H400v160ZM180-400h160v-160H180v160Zm440 0h160v-160H620v160ZM180-180h160v-160H180v160Zm440 0h160v-160H620v160Z\"/>\n",
              "  </svg>\n",
              "    </button>\n",
              "\n",
              "  <style>\n",
              "    .colab-df-container {\n",
              "      display:flex;\n",
              "      gap: 12px;\n",
              "    }\n",
              "\n",
              "    .colab-df-convert {\n",
              "      background-color: #E8F0FE;\n",
              "      border: none;\n",
              "      border-radius: 50%;\n",
              "      cursor: pointer;\n",
              "      display: none;\n",
              "      fill: #1967D2;\n",
              "      height: 32px;\n",
              "      padding: 0 0 0 0;\n",
              "      width: 32px;\n",
              "    }\n",
              "\n",
              "    .colab-df-convert:hover {\n",
              "      background-color: #E2EBFA;\n",
              "      box-shadow: 0px 1px 2px rgba(60, 64, 67, 0.3), 0px 1px 3px 1px rgba(60, 64, 67, 0.15);\n",
              "      fill: #174EA6;\n",
              "    }\n",
              "\n",
              "    .colab-df-buttons div {\n",
              "      margin-bottom: 4px;\n",
              "    }\n",
              "\n",
              "    [theme=dark] .colab-df-convert {\n",
              "      background-color: #3B4455;\n",
              "      fill: #D2E3FC;\n",
              "    }\n",
              "\n",
              "    [theme=dark] .colab-df-convert:hover {\n",
              "      background-color: #434B5C;\n",
              "      box-shadow: 0px 1px 3px 1px rgba(0, 0, 0, 0.15);\n",
              "      filter: drop-shadow(0px 1px 2px rgba(0, 0, 0, 0.3));\n",
              "      fill: #FFFFFF;\n",
              "    }\n",
              "  </style>\n",
              "\n",
              "    <script>\n",
              "      const buttonEl =\n",
              "        document.querySelector('#df-ab12c335-2864-41cc-95bf-40943458b0c7 button.colab-df-convert');\n",
              "      buttonEl.style.display =\n",
              "        google.colab.kernel.accessAllowed ? 'block' : 'none';\n",
              "\n",
              "      async function convertToInteractive(key) {\n",
              "        const element = document.querySelector('#df-ab12c335-2864-41cc-95bf-40943458b0c7');\n",
              "        const dataTable =\n",
              "          await google.colab.kernel.invokeFunction('convertToInteractive',\n",
              "                                                    [key], {});\n",
              "        if (!dataTable) return;\n",
              "\n",
              "        const docLinkHtml = 'Like what you see? Visit the ' +\n",
              "          '<a target=\"_blank\" href=https://colab.research.google.com/notebooks/data_table.ipynb>data table notebook</a>'\n",
              "          + ' to learn more about interactive tables.';\n",
              "        element.innerHTML = '';\n",
              "        dataTable['output_type'] = 'display_data';\n",
              "        await google.colab.output.renderOutput(dataTable, element);\n",
              "        const docLink = document.createElement('div');\n",
              "        docLink.innerHTML = docLinkHtml;\n",
              "        element.appendChild(docLink);\n",
              "      }\n",
              "    </script>\n",
              "  </div>\n",
              "\n",
              "\n",
              "<div id=\"df-11ec4a15-a17c-47f4-981d-d399ddb02922\">\n",
              "  <button class=\"colab-df-quickchart\" onclick=\"quickchart('df-11ec4a15-a17c-47f4-981d-d399ddb02922')\"\n",
              "            title=\"Suggest charts\"\n",
              "            style=\"display:none;\">\n",
              "\n",
              "<svg xmlns=\"http://www.w3.org/2000/svg\" height=\"24px\"viewBox=\"0 0 24 24\"\n",
              "     width=\"24px\">\n",
              "    <g>\n",
              "        <path d=\"M19 3H5c-1.1 0-2 .9-2 2v14c0 1.1.9 2 2 2h14c1.1 0 2-.9 2-2V5c0-1.1-.9-2-2-2zM9 17H7v-7h2v7zm4 0h-2V7h2v10zm4 0h-2v-4h2v4z\"/>\n",
              "    </g>\n",
              "</svg>\n",
              "  </button>\n",
              "\n",
              "<style>\n",
              "  .colab-df-quickchart {\n",
              "      --bg-color: #E8F0FE;\n",
              "      --fill-color: #1967D2;\n",
              "      --hover-bg-color: #E2EBFA;\n",
              "      --hover-fill-color: #174EA6;\n",
              "      --disabled-fill-color: #AAA;\n",
              "      --disabled-bg-color: #DDD;\n",
              "  }\n",
              "\n",
              "  [theme=dark] .colab-df-quickchart {\n",
              "      --bg-color: #3B4455;\n",
              "      --fill-color: #D2E3FC;\n",
              "      --hover-bg-color: #434B5C;\n",
              "      --hover-fill-color: #FFFFFF;\n",
              "      --disabled-bg-color: #3B4455;\n",
              "      --disabled-fill-color: #666;\n",
              "  }\n",
              "\n",
              "  .colab-df-quickchart {\n",
              "    background-color: var(--bg-color);\n",
              "    border: none;\n",
              "    border-radius: 50%;\n",
              "    cursor: pointer;\n",
              "    display: none;\n",
              "    fill: var(--fill-color);\n",
              "    height: 32px;\n",
              "    padding: 0;\n",
              "    width: 32px;\n",
              "  }\n",
              "\n",
              "  .colab-df-quickchart:hover {\n",
              "    background-color: var(--hover-bg-color);\n",
              "    box-shadow: 0 1px 2px rgba(60, 64, 67, 0.3), 0 1px 3px 1px rgba(60, 64, 67, 0.15);\n",
              "    fill: var(--button-hover-fill-color);\n",
              "  }\n",
              "\n",
              "  .colab-df-quickchart-complete:disabled,\n",
              "  .colab-df-quickchart-complete:disabled:hover {\n",
              "    background-color: var(--disabled-bg-color);\n",
              "    fill: var(--disabled-fill-color);\n",
              "    box-shadow: none;\n",
              "  }\n",
              "\n",
              "  .colab-df-spinner {\n",
              "    border: 2px solid var(--fill-color);\n",
              "    border-color: transparent;\n",
              "    border-bottom-color: var(--fill-color);\n",
              "    animation:\n",
              "      spin 1s steps(1) infinite;\n",
              "  }\n",
              "\n",
              "  @keyframes spin {\n",
              "    0% {\n",
              "      border-color: transparent;\n",
              "      border-bottom-color: var(--fill-color);\n",
              "      border-left-color: var(--fill-color);\n",
              "    }\n",
              "    20% {\n",
              "      border-color: transparent;\n",
              "      border-left-color: var(--fill-color);\n",
              "      border-top-color: var(--fill-color);\n",
              "    }\n",
              "    30% {\n",
              "      border-color: transparent;\n",
              "      border-left-color: var(--fill-color);\n",
              "      border-top-color: var(--fill-color);\n",
              "      border-right-color: var(--fill-color);\n",
              "    }\n",
              "    40% {\n",
              "      border-color: transparent;\n",
              "      border-right-color: var(--fill-color);\n",
              "      border-top-color: var(--fill-color);\n",
              "    }\n",
              "    60% {\n",
              "      border-color: transparent;\n",
              "      border-right-color: var(--fill-color);\n",
              "    }\n",
              "    80% {\n",
              "      border-color: transparent;\n",
              "      border-right-color: var(--fill-color);\n",
              "      border-bottom-color: var(--fill-color);\n",
              "    }\n",
              "    90% {\n",
              "      border-color: transparent;\n",
              "      border-bottom-color: var(--fill-color);\n",
              "    }\n",
              "  }\n",
              "</style>\n",
              "\n",
              "  <script>\n",
              "    async function quickchart(key) {\n",
              "      const quickchartButtonEl =\n",
              "        document.querySelector('#' + key + ' button');\n",
              "      quickchartButtonEl.disabled = true;  // To prevent multiple clicks.\n",
              "      quickchartButtonEl.classList.add('colab-df-spinner');\n",
              "      try {\n",
              "        const charts = await google.colab.kernel.invokeFunction(\n",
              "            'suggestCharts', [key], {});\n",
              "      } catch (error) {\n",
              "        console.error('Error during call to suggestCharts:', error);\n",
              "      }\n",
              "      quickchartButtonEl.classList.remove('colab-df-spinner');\n",
              "      quickchartButtonEl.classList.add('colab-df-quickchart-complete');\n",
              "    }\n",
              "    (() => {\n",
              "      let quickchartButtonEl =\n",
              "        document.querySelector('#df-11ec4a15-a17c-47f4-981d-d399ddb02922 button');\n",
              "      quickchartButtonEl.style.display =\n",
              "        google.colab.kernel.accessAllowed ? 'block' : 'none';\n",
              "    })();\n",
              "  </script>\n",
              "</div>\n",
              "\n",
              "    </div>\n",
              "  </div>\n"
            ],
            "application/vnd.google.colaboratory.intrinsic+json": {
              "type": "dataframe",
              "variable_name": "df"
            }
          },
          "metadata": {},
          "execution_count": 8
        }
      ]
    },
    {
      "cell_type": "code",
      "source": [
        "df.describe()"
      ],
      "metadata": {
        "colab": {
          "base_uri": "https://localhost:8080/",
          "height": 300
        },
        "id": "BjiVBrZavVLa",
        "outputId": "28039753-d164-4481-a8de-dbec159650e4"
      },
      "execution_count": null,
      "outputs": [
        {
          "output_type": "execute_result",
          "data": {
            "text/plain": [
              "           total ads  most ads hour\n",
              "count  588101.000000  588101.000000\n",
              "mean       24.820876      14.469061\n",
              "std        43.715181       4.834634\n",
              "min         1.000000       0.000000\n",
              "25%         4.000000      11.000000\n",
              "50%        13.000000      14.000000\n",
              "75%        27.000000      18.000000\n",
              "max      2065.000000      23.000000"
            ],
            "text/html": [
              "\n",
              "  <div id=\"df-e0aa8db6-39e4-4dc2-9509-e5b267035cd2\" class=\"colab-df-container\">\n",
              "    <div>\n",
              "<style scoped>\n",
              "    .dataframe tbody tr th:only-of-type {\n",
              "        vertical-align: middle;\n",
              "    }\n",
              "\n",
              "    .dataframe tbody tr th {\n",
              "        vertical-align: top;\n",
              "    }\n",
              "\n",
              "    .dataframe thead th {\n",
              "        text-align: right;\n",
              "    }\n",
              "</style>\n",
              "<table border=\"1\" class=\"dataframe\">\n",
              "  <thead>\n",
              "    <tr style=\"text-align: right;\">\n",
              "      <th></th>\n",
              "      <th>total ads</th>\n",
              "      <th>most ads hour</th>\n",
              "    </tr>\n",
              "  </thead>\n",
              "  <tbody>\n",
              "    <tr>\n",
              "      <th>count</th>\n",
              "      <td>588101.000000</td>\n",
              "      <td>588101.000000</td>\n",
              "    </tr>\n",
              "    <tr>\n",
              "      <th>mean</th>\n",
              "      <td>24.820876</td>\n",
              "      <td>14.469061</td>\n",
              "    </tr>\n",
              "    <tr>\n",
              "      <th>std</th>\n",
              "      <td>43.715181</td>\n",
              "      <td>4.834634</td>\n",
              "    </tr>\n",
              "    <tr>\n",
              "      <th>min</th>\n",
              "      <td>1.000000</td>\n",
              "      <td>0.000000</td>\n",
              "    </tr>\n",
              "    <tr>\n",
              "      <th>25%</th>\n",
              "      <td>4.000000</td>\n",
              "      <td>11.000000</td>\n",
              "    </tr>\n",
              "    <tr>\n",
              "      <th>50%</th>\n",
              "      <td>13.000000</td>\n",
              "      <td>14.000000</td>\n",
              "    </tr>\n",
              "    <tr>\n",
              "      <th>75%</th>\n",
              "      <td>27.000000</td>\n",
              "      <td>18.000000</td>\n",
              "    </tr>\n",
              "    <tr>\n",
              "      <th>max</th>\n",
              "      <td>2065.000000</td>\n",
              "      <td>23.000000</td>\n",
              "    </tr>\n",
              "  </tbody>\n",
              "</table>\n",
              "</div>\n",
              "    <div class=\"colab-df-buttons\">\n",
              "\n",
              "  <div class=\"colab-df-container\">\n",
              "    <button class=\"colab-df-convert\" onclick=\"convertToInteractive('df-e0aa8db6-39e4-4dc2-9509-e5b267035cd2')\"\n",
              "            title=\"Convert this dataframe to an interactive table.\"\n",
              "            style=\"display:none;\">\n",
              "\n",
              "  <svg xmlns=\"http://www.w3.org/2000/svg\" height=\"24px\" viewBox=\"0 -960 960 960\">\n",
              "    <path d=\"M120-120v-720h720v720H120Zm60-500h600v-160H180v160Zm220 220h160v-160H400v160Zm0 220h160v-160H400v160ZM180-400h160v-160H180v160Zm440 0h160v-160H620v160ZM180-180h160v-160H180v160Zm440 0h160v-160H620v160Z\"/>\n",
              "  </svg>\n",
              "    </button>\n",
              "\n",
              "  <style>\n",
              "    .colab-df-container {\n",
              "      display:flex;\n",
              "      gap: 12px;\n",
              "    }\n",
              "\n",
              "    .colab-df-convert {\n",
              "      background-color: #E8F0FE;\n",
              "      border: none;\n",
              "      border-radius: 50%;\n",
              "      cursor: pointer;\n",
              "      display: none;\n",
              "      fill: #1967D2;\n",
              "      height: 32px;\n",
              "      padding: 0 0 0 0;\n",
              "      width: 32px;\n",
              "    }\n",
              "\n",
              "    .colab-df-convert:hover {\n",
              "      background-color: #E2EBFA;\n",
              "      box-shadow: 0px 1px 2px rgba(60, 64, 67, 0.3), 0px 1px 3px 1px rgba(60, 64, 67, 0.15);\n",
              "      fill: #174EA6;\n",
              "    }\n",
              "\n",
              "    .colab-df-buttons div {\n",
              "      margin-bottom: 4px;\n",
              "    }\n",
              "\n",
              "    [theme=dark] .colab-df-convert {\n",
              "      background-color: #3B4455;\n",
              "      fill: #D2E3FC;\n",
              "    }\n",
              "\n",
              "    [theme=dark] .colab-df-convert:hover {\n",
              "      background-color: #434B5C;\n",
              "      box-shadow: 0px 1px 3px 1px rgba(0, 0, 0, 0.15);\n",
              "      filter: drop-shadow(0px 1px 2px rgba(0, 0, 0, 0.3));\n",
              "      fill: #FFFFFF;\n",
              "    }\n",
              "  </style>\n",
              "\n",
              "    <script>\n",
              "      const buttonEl =\n",
              "        document.querySelector('#df-e0aa8db6-39e4-4dc2-9509-e5b267035cd2 button.colab-df-convert');\n",
              "      buttonEl.style.display =\n",
              "        google.colab.kernel.accessAllowed ? 'block' : 'none';\n",
              "\n",
              "      async function convertToInteractive(key) {\n",
              "        const element = document.querySelector('#df-e0aa8db6-39e4-4dc2-9509-e5b267035cd2');\n",
              "        const dataTable =\n",
              "          await google.colab.kernel.invokeFunction('convertToInteractive',\n",
              "                                                    [key], {});\n",
              "        if (!dataTable) return;\n",
              "\n",
              "        const docLinkHtml = 'Like what you see? Visit the ' +\n",
              "          '<a target=\"_blank\" href=https://colab.research.google.com/notebooks/data_table.ipynb>data table notebook</a>'\n",
              "          + ' to learn more about interactive tables.';\n",
              "        element.innerHTML = '';\n",
              "        dataTable['output_type'] = 'display_data';\n",
              "        await google.colab.output.renderOutput(dataTable, element);\n",
              "        const docLink = document.createElement('div');\n",
              "        docLink.innerHTML = docLinkHtml;\n",
              "        element.appendChild(docLink);\n",
              "      }\n",
              "    </script>\n",
              "  </div>\n",
              "\n",
              "\n",
              "<div id=\"df-bab744b2-8562-4df5-9b59-a873bb65f4ad\">\n",
              "  <button class=\"colab-df-quickchart\" onclick=\"quickchart('df-bab744b2-8562-4df5-9b59-a873bb65f4ad')\"\n",
              "            title=\"Suggest charts\"\n",
              "            style=\"display:none;\">\n",
              "\n",
              "<svg xmlns=\"http://www.w3.org/2000/svg\" height=\"24px\"viewBox=\"0 0 24 24\"\n",
              "     width=\"24px\">\n",
              "    <g>\n",
              "        <path d=\"M19 3H5c-1.1 0-2 .9-2 2v14c0 1.1.9 2 2 2h14c1.1 0 2-.9 2-2V5c0-1.1-.9-2-2-2zM9 17H7v-7h2v7zm4 0h-2V7h2v10zm4 0h-2v-4h2v4z\"/>\n",
              "    </g>\n",
              "</svg>\n",
              "  </button>\n",
              "\n",
              "<style>\n",
              "  .colab-df-quickchart {\n",
              "      --bg-color: #E8F0FE;\n",
              "      --fill-color: #1967D2;\n",
              "      --hover-bg-color: #E2EBFA;\n",
              "      --hover-fill-color: #174EA6;\n",
              "      --disabled-fill-color: #AAA;\n",
              "      --disabled-bg-color: #DDD;\n",
              "  }\n",
              "\n",
              "  [theme=dark] .colab-df-quickchart {\n",
              "      --bg-color: #3B4455;\n",
              "      --fill-color: #D2E3FC;\n",
              "      --hover-bg-color: #434B5C;\n",
              "      --hover-fill-color: #FFFFFF;\n",
              "      --disabled-bg-color: #3B4455;\n",
              "      --disabled-fill-color: #666;\n",
              "  }\n",
              "\n",
              "  .colab-df-quickchart {\n",
              "    background-color: var(--bg-color);\n",
              "    border: none;\n",
              "    border-radius: 50%;\n",
              "    cursor: pointer;\n",
              "    display: none;\n",
              "    fill: var(--fill-color);\n",
              "    height: 32px;\n",
              "    padding: 0;\n",
              "    width: 32px;\n",
              "  }\n",
              "\n",
              "  .colab-df-quickchart:hover {\n",
              "    background-color: var(--hover-bg-color);\n",
              "    box-shadow: 0 1px 2px rgba(60, 64, 67, 0.3), 0 1px 3px 1px rgba(60, 64, 67, 0.15);\n",
              "    fill: var(--button-hover-fill-color);\n",
              "  }\n",
              "\n",
              "  .colab-df-quickchart-complete:disabled,\n",
              "  .colab-df-quickchart-complete:disabled:hover {\n",
              "    background-color: var(--disabled-bg-color);\n",
              "    fill: var(--disabled-fill-color);\n",
              "    box-shadow: none;\n",
              "  }\n",
              "\n",
              "  .colab-df-spinner {\n",
              "    border: 2px solid var(--fill-color);\n",
              "    border-color: transparent;\n",
              "    border-bottom-color: var(--fill-color);\n",
              "    animation:\n",
              "      spin 1s steps(1) infinite;\n",
              "  }\n",
              "\n",
              "  @keyframes spin {\n",
              "    0% {\n",
              "      border-color: transparent;\n",
              "      border-bottom-color: var(--fill-color);\n",
              "      border-left-color: var(--fill-color);\n",
              "    }\n",
              "    20% {\n",
              "      border-color: transparent;\n",
              "      border-left-color: var(--fill-color);\n",
              "      border-top-color: var(--fill-color);\n",
              "    }\n",
              "    30% {\n",
              "      border-color: transparent;\n",
              "      border-left-color: var(--fill-color);\n",
              "      border-top-color: var(--fill-color);\n",
              "      border-right-color: var(--fill-color);\n",
              "    }\n",
              "    40% {\n",
              "      border-color: transparent;\n",
              "      border-right-color: var(--fill-color);\n",
              "      border-top-color: var(--fill-color);\n",
              "    }\n",
              "    60% {\n",
              "      border-color: transparent;\n",
              "      border-right-color: var(--fill-color);\n",
              "    }\n",
              "    80% {\n",
              "      border-color: transparent;\n",
              "      border-right-color: var(--fill-color);\n",
              "      border-bottom-color: var(--fill-color);\n",
              "    }\n",
              "    90% {\n",
              "      border-color: transparent;\n",
              "      border-bottom-color: var(--fill-color);\n",
              "    }\n",
              "  }\n",
              "</style>\n",
              "\n",
              "  <script>\n",
              "    async function quickchart(key) {\n",
              "      const quickchartButtonEl =\n",
              "        document.querySelector('#' + key + ' button');\n",
              "      quickchartButtonEl.disabled = true;  // To prevent multiple clicks.\n",
              "      quickchartButtonEl.classList.add('colab-df-spinner');\n",
              "      try {\n",
              "        const charts = await google.colab.kernel.invokeFunction(\n",
              "            'suggestCharts', [key], {});\n",
              "      } catch (error) {\n",
              "        console.error('Error during call to suggestCharts:', error);\n",
              "      }\n",
              "      quickchartButtonEl.classList.remove('colab-df-spinner');\n",
              "      quickchartButtonEl.classList.add('colab-df-quickchart-complete');\n",
              "    }\n",
              "    (() => {\n",
              "      let quickchartButtonEl =\n",
              "        document.querySelector('#df-bab744b2-8562-4df5-9b59-a873bb65f4ad button');\n",
              "      quickchartButtonEl.style.display =\n",
              "        google.colab.kernel.accessAllowed ? 'block' : 'none';\n",
              "    })();\n",
              "  </script>\n",
              "</div>\n",
              "\n",
              "    </div>\n",
              "  </div>\n"
            ],
            "application/vnd.google.colaboratory.intrinsic+json": {
              "type": "dataframe",
              "summary": "{\n  \"name\": \"df\",\n  \"rows\": 8,\n  \"fields\": [\n    {\n      \"column\": \"total ads\",\n      \"properties\": {\n        \"dtype\": \"number\",\n        \"std\": 207816.30368195256,\n        \"min\": 1.0,\n        \"max\": 588101.0,\n        \"num_unique_values\": 8,\n        \"samples\": [\n          24.82087600599217,\n          13.0,\n          588101.0\n        ],\n        \"semantic_type\": \"\",\n        \"description\": \"\"\n      }\n    },\n    {\n      \"column\": \"most ads hour\",\n      \"properties\": {\n        \"dtype\": \"number\",\n        \"std\": 207920.79419886248,\n        \"min\": 0.0,\n        \"max\": 588101.0,\n        \"num_unique_values\": 8,\n        \"samples\": [\n          14.469060586531905,\n          14.0,\n          588101.0\n        ],\n        \"semantic_type\": \"\",\n        \"description\": \"\"\n      }\n    }\n  ]\n}"
            }
          },
          "metadata": {},
          "execution_count": 9
        }
      ]
    },
    {
      "cell_type": "markdown",
      "source": [
        "#### **Summary**\n",
        "\n",
        "**Variables:**\n",
        "\n",
        "* **total:** This variable likely represents the total number of ads viewed by each user.\n",
        "* **most_ads:** This variable could represent the maximum number of ads viewed by a user within a specific time period (e.g., a day, week).\n",
        "* **hour:** This variable might represent the average number of hours per day that users spend viewing ads.\n",
        "\n",
        "**Summary Statistics:**\n",
        "\n",
        "* **count:** This shows that there are 588,101 data points for each variable.\n",
        "* **mean:**\n",
        "    * The average total number of ads viewed per user is 24.82.\n",
        "    * The average maximum number of ads viewed within a given time period is 14.47.\n",
        "    * The average number of hours spent viewing ads per day is not provided.\n",
        "* **std:**\n",
        "    * The standard deviation for the total number of ads viewed is 43.72, indicating a high degree of variability in the number of ads viewed across users.\n",
        "    * The standard deviation for the maximum number of ads viewed is 4.83, suggesting less variability in the maximum number of ads viewed compared to the total number of ads.\n",
        "    * The standard deviation for the average number of hours spent viewing ads is not provided.\n",
        "* **min:**\n",
        "    * The minimum total number of ads viewed by a user is 1.\n",
        "    * The minimum maximum number of ads viewed within a given time period is 0.\n",
        "    * The minimum average number of hours spent viewing ads is not provided.\n",
        "* **25%:**\n",
        "    * 25% of users viewed 4 or fewer ads.\n",
        "    * 25% of users viewed a maximum of 11 ads within a given time period.\n",
        "    * The 25th percentile for the average number of hours spent viewing ads is not provided.\n",
        "* **50%:**\n",
        "    * 50% of users viewed 13 or fewer ads.\n",
        "    * 50% of users viewed a maximum of 14 ads within a given time period.\n",
        "    * The 50th percentile (median) for the average number of hours spent viewing ads is not provided.\n",
        "* **75%:**\n",
        "    * 75% of users viewed 27 or fewer ads.\n",
        "    * 75% of users viewed a maximum of 18 ads within a given time period.\n",
        "    * The 75th percentile for the average number of hours spent viewing ads is not provided.\n",
        "* **max:**\n",
        "    * The maximum number of ads viewed by a single user is 2065.\n",
        "    * The maximum number of ads viewed by a user within a given time period is 23.\n",
        "    * The maximum average number of hours spent viewing ads is not provided.\n",
        "\n",
        "**Overall, the summary statistics suggest that there is a wide range in the number of ads viewed by users, with some users viewing very few ads and others viewing a large number.**\n"
      ],
      "metadata": {
        "id": "Q0gD3PzoMd3t"
      }
    },
    {
      "cell_type": "code",
      "source": [
        "df['test group'].value_counts(normalize=True)"
      ],
      "metadata": {
        "colab": {
          "base_uri": "https://localhost:8080/",
          "height": 178
        },
        "id": "TnFoGybLvXri",
        "outputId": "32b77d02-0c3f-4547-ee68-b07335a265f3"
      },
      "execution_count": null,
      "outputs": [
        {
          "output_type": "execute_result",
          "data": {
            "text/plain": [
              "test group\n",
              "ad     0.96\n",
              "psa    0.04\n",
              "Name: proportion, dtype: float64"
            ],
            "text/html": [
              "<div>\n",
              "<style scoped>\n",
              "    .dataframe tbody tr th:only-of-type {\n",
              "        vertical-align: middle;\n",
              "    }\n",
              "\n",
              "    .dataframe tbody tr th {\n",
              "        vertical-align: top;\n",
              "    }\n",
              "\n",
              "    .dataframe thead th {\n",
              "        text-align: right;\n",
              "    }\n",
              "</style>\n",
              "<table border=\"1\" class=\"dataframe\">\n",
              "  <thead>\n",
              "    <tr style=\"text-align: right;\">\n",
              "      <th></th>\n",
              "      <th>proportion</th>\n",
              "    </tr>\n",
              "    <tr>\n",
              "      <th>test group</th>\n",
              "      <th></th>\n",
              "    </tr>\n",
              "  </thead>\n",
              "  <tbody>\n",
              "    <tr>\n",
              "      <th>ad</th>\n",
              "      <td>0.96</td>\n",
              "    </tr>\n",
              "    <tr>\n",
              "      <th>psa</th>\n",
              "      <td>0.04</td>\n",
              "    </tr>\n",
              "  </tbody>\n",
              "</table>\n",
              "</div><br><label><b>dtype:</b> float64</label>"
            ]
          },
          "metadata": {},
          "execution_count": 10
        }
      ]
    },
    {
      "cell_type": "markdown",
      "source": [
        "#### **Inferences:**\n",
        "\n",
        "* The \"test group\" is heavily skewed towards \"ad\" content.\n",
        "* Only 4% of the content in the test group is \"psa.\"\n",
        "\n"
      ],
      "metadata": {
        "id": "DHJ4ZQ4pM518"
      }
    },
    {
      "cell_type": "markdown",
      "source": [
        "### **Checking for Outliers**"
      ],
      "metadata": {
        "id": "y7X0Il6hQ1aL"
      }
    },
    {
      "cell_type": "code",
      "source": [
        "# Create a figure and two subplots with a specific size\n",
        "\n",
        "fig, ax = plt.subplots(1, 2, figsize = (15, 6))\n",
        "\n",
        "# Create a histogram for the 'total ads' variable with hue based on 'test group'\n",
        "# Use kernel density estimation (kde=True) for a smoother curve\n",
        "# Set the number of bins to 5 and assign the plot to the first subplot (ax[0])\n",
        "sns.histplot(data = df, x = 'total ads', kde = True, hue = 'test group', bins = 5, ax = ax[0])\n",
        "ax[0].set_title('Total Ads Views Distribution per Group') # Set a title for the first subplot\n",
        "\n",
        "\n",
        "# Create a histogram for the 'most ads hour' variable with hue based on 'test group'\n",
        "# Use kernel density estimation (kde=True) for a smoother curve\n",
        "# Set the number of bins to 5 and assign the plot to the second subplot (ax[1])\n",
        "sns.histplot(data = df, x = 'most ads hour', kde = True, hue = 'test group', bins = 5, ax = ax[1])\n",
        "ax[1].set_title('Most Ads Hour Distribution per Group') # Set a title for the second subplot\n",
        "\n",
        "# Adjust spacing between subplots to prevent overlapping elements\n",
        "plt.tight_layout()\n",
        "plt.show()"
      ],
      "metadata": {
        "colab": {
          "base_uri": "https://localhost:8080/",
          "height": 607
        },
        "id": "3w9WqxVDv6Ga",
        "outputId": "e43daccd-ffe0-482b-e59c-6f1b73821e0f"
      },
      "execution_count": null,
      "outputs": [
        {
          "output_type": "display_data",
          "data": {
            "text/plain": [
              "<Figure size 1500x600 with 2 Axes>"
            ],
            "image/png": "[encoded data removed]"
          },
          "metadata": {}
        }
      ]
    },
    {
      "cell_type": "markdown",
      "source": [
        "#### **Summary of Findings:**\n",
        "\n",
        "The plot presents two histograms:\n",
        "\n",
        "1. **Total Ads Views Distribution per Group:** This histogram displays the distribution of the total number of ads viewed by users in each group (\"ad\" and \"psa\").\n",
        "\n",
        "   - **Observations:**\n",
        "      - The distribution appears to be right-skewed for both groups, with a long tail towards higher values. This indicates that a majority of users view a relatively small number of ads, while a smaller portion views a large number of ads.\n",
        "      - The \"ad\" group seems to have a slightly higher proportion of users viewing a large number of ads compared to the \"psa\" group.\n",
        "\n",
        "2. **Most Ads Hour Distribution per Group:** This histogram shows the distribution of the hour at which users viewed the most ads.\n",
        "\n",
        "   - **Observations:**\n",
        "      - The distribution appears to be multimodal for both groups, with multiple peaks suggesting that users tend to view the most ads at specific times of the day.\n",
        "      - The peak for the \"ad\" group is slightly shifted to the right compared to the \"psa\" group, indicating that users in the \"ad\" group may be viewing more ads later in the day.\n",
        "\n",
        "**Overall:**\n",
        "\n",
        "The plot suggests that there are some differences in the ad viewing behavior between the \"ad\" and \"psa\" groups. Users in the \"ad\" group tend to view more ads overall and may have a slightly different pattern of ad viewing throughout the day compared to users in the \"psa\" group.\n"
      ],
      "metadata": {
        "id": "G8HiFCGzN049"
      }
    },
    {
      "cell_type": "code",
      "source": [
        "# Loops through all numeric columns in the DataFrame.\n",
        "\n",
        "for col in df.select_dtypes(include = np.number).columns:\n",
        "    print(f\"Fpr column: {col}\\n\") # Prints the name of the column being analyzed.\n",
        "    print(f\"Minimum Value is: {df[col].min()}\")  # Prints the minimum value in the column.\n",
        "    print(f\"1st Quantile is: {df[col].quantile(0.01)}\") # Prints the 1st quantile (1st percentile) value in the column.\n",
        "    print(f\"10th Quantile is: {df[col].quantile(0.10)}\") # Prints the 10th quantile (10th percentile) value in the column.\n",
        "    print(f\"25th Quantile is: {df[col].quantile(0.25)}\") # Prints the 25th quantile (first quartile) value in the column.\n",
        "    print(f\"50th Quantile is: {df[col].quantile(0.50)}\") # Prints the 50th quantile (median) value in the column.\n",
        "    print(f\"75th Quantile is: {df[col].quantile(0.75)}\") # Prints the 75th quantile (third quartile) value in the column.\n",
        "    print(f\"90th Quantile is: {df[col].quantile(0.90)}\") # Prints the 90th quantile value in the column.\n",
        "    print(f\"95th Quantile is: {df[col].quantile(0.95)}\") # Prints the 95th quantile value in the column.\n",
        "    print(f\"99th Quantile is: {df[col].quantile(0.99)}\") # Prints the 99th quantile value in the column.\n",
        "    print(f\"99.5th Quantile is: {df[col].quantile(0.995)}\") # Prints the 99.5th quantile value in the column.\n",
        "    print(f\"Maximum Value is: {df[col].max()}\\n\") # Prints the maximum value in the column and adds a blank line for readability."
      ],
      "metadata": {
        "colab": {
          "base_uri": "https://localhost:8080/"
        },
        "id": "pdCyLzj3xu52",
        "outputId": "26910f3e-ea2b-4ea4-def4-e449110363cf"
      },
      "execution_count": null,
      "outputs": [
        {
          "output_type": "stream",
          "name": "stdout",
          "text": [
            "Fpr column: total ads\n",
            "\n",
            "Minimum Value is: 1\n",
            "1st Quantile is: 1.0\n",
            "10th Quantile is: 2.0\n",
            "25th Quantile is: 4.0\n",
            "50th Quantile is: 13.0\n",
            "75th Quantile is: 27.0\n",
            "90th Quantile is: 57.0\n",
            "95th Quantile is: 88.0\n",
            "99th Quantile is: 202.0\n",
            "99.5th Quantile is: 276.0\n",
            "Maximum Value is: 2065\n",
            "\n",
            "Fpr column: most ads hour\n",
            "\n",
            "Minimum Value is: 0\n",
            "1st Quantile is: 1.0\n",
            "10th Quantile is: 9.0\n",
            "25th Quantile is: 11.0\n",
            "50th Quantile is: 14.0\n",
            "75th Quantile is: 18.0\n",
            "90th Quantile is: 21.0\n",
            "95th Quantile is: 22.0\n",
            "99th Quantile is: 23.0\n",
            "99.5th Quantile is: 23.0\n",
            "Maximum Value is: 23\n",
            "\n"
          ]
        }
      ]
    },
    {
      "cell_type": "markdown",
      "source": [
        "**From domain knowledge, the ```most ads hour``` column does not contain outliers as it ranges from 0 to 23 hours. However, in the ```total ads``` column, the 99.5th percentile value is 276, which seems plausible for a single day. In contrast, the maximum (100th percentile) value is 2065, which is highly illogical for the number of ads a person can view in a single day. Therefore, values exceeding the 99.5th percentile can be considered outliers.**"
      ],
      "metadata": {
        "id": "01R4hdWdOGfM"
      }
    },
    {
      "cell_type": "code",
      "source": [
        "before = df.shape[0] # Data shape before removing the outliers"
      ],
      "metadata": {
        "id": "m42s_MIbxzf9"
      },
      "execution_count": null,
      "outputs": []
    },
    {
      "cell_type": "code",
      "source": [
        "df = df[df['total ads'] <= 276] # Filters the DataFrame to remove rows where 'total ads' exceeds the 99.5th percentile\n",
        "df.reset_index(drop = True, inplace = True) # Resets the index\n",
        "after = df.shape[0] # Data shape before removing the outliers"
      ],
      "metadata": {
        "id": "fQ_B2VWFxzi9"
      },
      "execution_count": null,
      "outputs": []
    },
    {
      "cell_type": "code",
      "source": [
        "print(f\"\"\"Total data before removing the outliers is: {before} and after removing the outlier is {after}\\n\n",
        "Difference is {before - after} that means {np.round(((before - after)/before) * 100, 2)}% data has been removed\"\"\")"
      ],
      "metadata": {
        "colab": {
          "base_uri": "https://localhost:8080/"
        },
        "id": "9GRF-pFhymSv",
        "outputId": "599953d2-ee1c-4986-a9c8-06d894e5d12a"
      },
      "execution_count": null,
      "outputs": [
        {
          "output_type": "stream",
          "name": "stdout",
          "text": [
            "Total data before removing the outliers is: 588101 and after removing the outlier is 585173\n",
            "\n",
            "Difference is 2928 that means 0.5% data has been removed\n"
          ]
        }
      ]
    },
    {
      "cell_type": "code",
      "source": [
        "# Repeats the quantile calculations for the filtered numeric columns.\n",
        "for col in df.select_dtypes(include = np.number).columns:\n",
        "    print(f\"Fpr column: {col}\\n\")\n",
        "    print(f\"Minimum Value is: {df[col].min()}\")\n",
        "    print(f\"1st Quantile is: {df[col].quantile(0.01)}\")\n",
        "    print(f\"10th Quantile is: {df[col].quantile(0.10)}\")\n",
        "    print(f\"25th Quantile is: {df[col].quantile(0.25)}\")\n",
        "    print(f\"50th Quantile is: {df[col].quantile(0.50)}\")\n",
        "    print(f\"75th Quantile is: {df[col].quantile(0.75)}\")\n",
        "    print(f\"90th Quantile is: {df[col].quantile(0.90)}\")\n",
        "    print(f\"95th Quantile is: {df[col].quantile(0.95)}\")\n",
        "    print(f\"99th Quantile is: {df[col].quantile(0.99)}\")\n",
        "    print(f\"99.5th Quantile is: {df[col].quantile(0.995)}\")\n",
        "    print(f\"Maximum Value is: {df[col].max()}\\n\")"
      ],
      "metadata": {
        "colab": {
          "base_uri": "https://localhost:8080/"
        },
        "id": "sdvcKpo_z2LW",
        "outputId": "d4a54391-48f4-4c6f-e89a-93e47cdbc4e1"
      },
      "execution_count": null,
      "outputs": [
        {
          "output_type": "stream",
          "name": "stdout",
          "text": [
            "Fpr column: total ads\n",
            "\n",
            "Minimum Value is: 1\n",
            "1st Quantile is: 1.0\n",
            "10th Quantile is: 2.0\n",
            "25th Quantile is: 4.0\n",
            "50th Quantile is: 13.0\n",
            "75th Quantile is: 27.0\n",
            "90th Quantile is: 55.0\n",
            "95th Quantile is: 83.0\n",
            "99th Quantile is: 166.0\n",
            "99.5th Quantile is: 202.0\n",
            "Maximum Value is: 276\n",
            "\n",
            "Fpr column: most ads hour\n",
            "\n",
            "Minimum Value is: 0\n",
            "1st Quantile is: 1.0\n",
            "10th Quantile is: 9.0\n",
            "25th Quantile is: 11.0\n",
            "50th Quantile is: 14.0\n",
            "75th Quantile is: 18.0\n",
            "90th Quantile is: 21.0\n",
            "95th Quantile is: 22.0\n",
            "99th Quantile is: 23.0\n",
            "99.5th Quantile is: 23.0\n",
            "Maximum Value is: 23\n",
            "\n"
          ]
        }
      ]
    },
    {
      "cell_type": "markdown",
      "source": [
        "**Now data looks much better or realistic**"
      ],
      "metadata": {
        "id": "2SmOni7ZQEyc"
      }
    },
    {
      "cell_type": "code",
      "source": [
        "# Plot the Histogram again\n",
        "\n",
        "fig, ax = plt.subplots(1, 2, figsize = (15, 6))\n",
        "\n",
        "sns.histplot(data = df, x = 'total ads', kde = True, hue = 'test group', bins = 5, ax = ax[0])\n",
        "ax[0].set_title('Total Ads Views Distribution per Group')\n",
        "\n",
        "sns.histplot(data = df, x = 'most ads hour', kde = True, hue = 'test group', bins = 5, ax = ax[1])\n",
        "ax[1].set_title('Most Ads Hour Distribution per Group')\n",
        "\n",
        "plt.tight_layout()\n",
        "plt.show()"
      ],
      "metadata": {
        "colab": {
          "base_uri": "https://localhost:8080/",
          "height": 607
        },
        "id": "mPSLKO6Ez9h-",
        "outputId": "66fae350-1040-4d44-8051-37078824666d"
      },
      "execution_count": null,
      "outputs": [
        {
          "output_type": "display_data",
          "data": {
            "text/plain": [
              "<Figure size 1500x600 with 2 Axes>"
            ],
            "image/png": "[encoded data removed]"
          },
          "metadata": {}
        }
      ]
    },
    {
      "cell_type": "markdown",
      "source": [
        "1. The plot shows two histograms: one for the distribution of \"Total Ads Views\" and another for \"Most Ads Hour.\"\n",
        "2. Each histogram is divided by \"test group,\" allowing us to compare \"ad\" and \"psa\" groups.\n",
        "3. For \"Total Ads Views,\" the distribution is skewed to the right for both groups, meaning most users view fewer ads, but some view many. The \"ad\" group might have more users viewing a large number of ads.\n",
        "4. For \"Most Ads Hour,\" the distribution has multiple peaks for both groups, suggesting users view most ads at specific times. The peak for the \"ad\" group seems slightly later than for the \"psa\" group.\n",
        "5. To understand the differences better, we should calculate statistics, run tests, and explore other factors influencing ad viewing."
      ],
      "metadata": {
        "id": "2UqlNpu3Qcos"
      }
    },
    {
      "cell_type": "code",
      "source": [
        "# Set the title of the plot\n",
        "plt.title('Most Ads Views Day')\n",
        "\n",
        "# Define colors for the seven days of the week\n",
        "colors = ['red', 'blue', 'green', 'yellow', 'purple', 'orange', 'pink']\n",
        "\n",
        "# Create a pie chart\n",
        "plt.pie(\n",
        "    df['most ads day'].value_counts(normalize=True),  # Proportions of each day\n",
        "    labels=df['most ads day'].value_counts().index,  # Labels for each day\n",
        "    startangle=90,  # Start the pie chart from a 90-degree angle\n",
        "    shadow=True,  # Add a shadow effect to the pie chart\n",
        "    autopct=lambda p: '{:.1f}%'.format(p),  # Display percentage values on the chart\n",
        "    colors=colors,  # Colors for each slice\n",
        "    textprops={'color': 'black', 'fontsize': 12}  # White text for percentages\n",
        ")\n",
        "\n",
        "# Display the pie chart\n",
        "plt.show()"
      ],
      "metadata": {
        "colab": {
          "base_uri": "https://localhost:8080/",
          "height": 429
        },
        "id": "dHjYATrRw4LD",
        "outputId": "7bd5dae3-1fd3-4d14-eeef-570b57f29b56"
      },
      "execution_count": null,
      "outputs": [
        {
          "output_type": "display_data",
          "data": {
            "text/plain": [
              "<Figure size 640x480 with 1 Axes>"
            ],
            "image/png": "[encoded data removed]"
          },
          "metadata": {}
        }
      ]
    },
    {
      "cell_type": "markdown",
      "source": [
        "#### **Inferences**\n",
        "\n",
        "The pie chart shows the distribution of days when people view the most ads.\n",
        "\n",
        "Here are the key takeaways:\n",
        "\n",
        "* **Friday is the peak day for ad views:** With 15.7% of users viewing the most ads on Friday, it stands out as the day with the highest proportion.\n",
        "* **Consistent distribution across other days:** The remaining days show a relatively even distribution, with percentages ranging from 13.2% (Tuesday) to 14.8% (Monday).\n",
        "* **No significant outliers:** There are no days with significantly lower or higher ad views compared to the others.\n",
        "\n",
        "This information could be useful for advertisers to plan their ad campaigns more effectively by targeting specific days with higher ad engagement.\n"
      ],
      "metadata": {
        "id": "14hPfx-sQmOr"
      }
    },
    {
      "cell_type": "markdown",
      "source": [
        "# **A/B Test**"
      ],
      "metadata": {
        "id": "YYuyQ_e-G7jF"
      }
    },
    {
      "cell_type": "markdown",
      "source": [
        "#### **Divide the Data into Control Group (Users who saw Ads) and Test Group (Users who saw PSA)**"
      ],
      "metadata": {
        "id": "iU44Aq-HT7Wb"
      }
    },
    {
      "cell_type": "code",
      "source": [
        "df.head()"
      ],
      "metadata": {
        "colab": {
          "base_uri": "https://localhost:8080/",
          "height": 206
        },
        "id": "0NzuULVr0k4c",
        "outputId": "c75b7f3e-a149-41c0-f61a-d03bb252e6ed"
      },
      "execution_count": null,
      "outputs": [
        {
          "output_type": "execute_result",
          "data": {
            "text/plain": [
              "  test group  converted  total ads most ads day  most ads hour\n",
              "0         ad      False        130       Monday             20\n",
              "1         ad      False         93      Tuesday             22\n",
              "2         ad      False         21      Tuesday             18\n",
              "3         ad      False        276       Friday             14\n",
              "4         ad      False        264    Wednesday             13"
            ],
            "text/html": [
              "\n",
              "  <div id=\"df-d3c46ea0-f41d-4fe8-9731-d22ca863b698\" class=\"colab-df-container\">\n",
              "    <div>\n",
              "<style scoped>\n",
              "    .dataframe tbody tr th:only-of-type {\n",
              "        vertical-align: middle;\n",
              "    }\n",
              "\n",
              "    .dataframe tbody tr th {\n",
              "        vertical-align: top;\n",
              "    }\n",
              "\n",
              "    .dataframe thead th {\n",
              "        text-align: right;\n",
              "    }\n",
              "</style>\n",
              "<table border=\"1\" class=\"dataframe\">\n",
              "  <thead>\n",
              "    <tr style=\"text-align: right;\">\n",
              "      <th></th>\n",
              "      <th>test group</th>\n",
              "      <th>converted</th>\n",
              "      <th>total ads</th>\n",
              "      <th>most ads day</th>\n",
              "      <th>most ads hour</th>\n",
              "    </tr>\n",
              "  </thead>\n",
              "  <tbody>\n",
              "    <tr>\n",
              "      <th>0</th>\n",
              "      <td>ad</td>\n",
              "      <td>False</td>\n",
              "      <td>130</td>\n",
              "      <td>Monday</td>\n",
              "      <td>20</td>\n",
              "    </tr>\n",
              "    <tr>\n",
              "      <th>1</th>\n",
              "      <td>ad</td>\n",
              "      <td>False</td>\n",
              "      <td>93</td>\n",
              "      <td>Tuesday</td>\n",
              "      <td>22</td>\n",
              "    </tr>\n",
              "    <tr>\n",
              "      <th>2</th>\n",
              "      <td>ad</td>\n",
              "      <td>False</td>\n",
              "      <td>21</td>\n",
              "      <td>Tuesday</td>\n",
              "      <td>18</td>\n",
              "    </tr>\n",
              "    <tr>\n",
              "      <th>3</th>\n",
              "      <td>ad</td>\n",
              "      <td>False</td>\n",
              "      <td>276</td>\n",
              "      <td>Friday</td>\n",
              "      <td>14</td>\n",
              "    </tr>\n",
              "    <tr>\n",
              "      <th>4</th>\n",
              "      <td>ad</td>\n",
              "      <td>False</td>\n",
              "      <td>264</td>\n",
              "      <td>Wednesday</td>\n",
              "      <td>13</td>\n",
              "    </tr>\n",
              "  </tbody>\n",
              "</table>\n",
              "</div>\n",
              "    <div class=\"colab-df-buttons\">\n",
              "\n",
              "  <div class=\"colab-df-container\">\n",
              "    <button class=\"colab-df-convert\" onclick=\"convertToInteractive('df-d3c46ea0-f41d-4fe8-9731-d22ca863b698')\"\n",
              "            title=\"Convert this dataframe to an interactive table.\"\n",
              "            style=\"display:none;\">\n",
              "\n",
              "  <svg xmlns=\"http://www.w3.org/2000/svg\" height=\"24px\" viewBox=\"0 -960 960 960\">\n",
              "    <path d=\"M120-120v-720h720v720H120Zm60-500h600v-160H180v160Zm220 220h160v-160H400v160Zm0 220h160v-160H400v160ZM180-400h160v-160H180v160Zm440 0h160v-160H620v160ZM180-180h160v-160H180v160Zm440 0h160v-160H620v160Z\"/>\n",
              "  </svg>\n",
              "    </button>\n",
              "\n",
              "  <style>\n",
              "    .colab-df-container {\n",
              "      display:flex;\n",
              "      gap: 12px;\n",
              "    }\n",
              "\n",
              "    .colab-df-convert {\n",
              "      background-color: #E8F0FE;\n",
              "      border: none;\n",
              "      border-radius: 50%;\n",
              "      cursor: pointer;\n",
              "      display: none;\n",
              "      fill: #1967D2;\n",
              "      height: 32px;\n",
              "      padding: 0 0 0 0;\n",
              "      width: 32px;\n",
              "    }\n",
              "\n",
              "    .colab-df-convert:hover {\n",
              "      background-color: #E2EBFA;\n",
              "      box-shadow: 0px 1px 2px rgba(60, 64, 67, 0.3), 0px 1px 3px 1px rgba(60, 64, 67, 0.15);\n",
              "      fill: #174EA6;\n",
              "    }\n",
              "\n",
              "    .colab-df-buttons div {\n",
              "      margin-bottom: 4px;\n",
              "    }\n",
              "\n",
              "    [theme=dark] .colab-df-convert {\n",
              "      background-color: #3B4455;\n",
              "      fill: #D2E3FC;\n",
              "    }\n",
              "\n",
              "    [theme=dark] .colab-df-convert:hover {\n",
              "      background-color: #434B5C;\n",
              "      box-shadow: 0px 1px 3px 1px rgba(0, 0, 0, 0.15);\n",
              "      filter: drop-shadow(0px 1px 2px rgba(0, 0, 0, 0.3));\n",
              "      fill: #FFFFFF;\n",
              "    }\n",
              "  </style>\n",
              "\n",
              "    <script>\n",
              "      const buttonEl =\n",
              "        document.querySelector('#df-d3c46ea0-f41d-4fe8-9731-d22ca863b698 button.colab-df-convert');\n",
              "      buttonEl.style.display =\n",
              "        google.colab.kernel.accessAllowed ? 'block' : 'none';\n",
              "\n",
              "      async function convertToInteractive(key) {\n",
              "        const element = document.querySelector('#df-d3c46ea0-f41d-4fe8-9731-d22ca863b698');\n",
              "        const dataTable =\n",
              "          await google.colab.kernel.invokeFunction('convertToInteractive',\n",
              "                                                    [key], {});\n",
              "        if (!dataTable) return;\n",
              "\n",
              "        const docLinkHtml = 'Like what you see? Visit the ' +\n",
              "          '<a target=\"_blank\" href=https://colab.research.google.com/notebooks/data_table.ipynb>data table notebook</a>'\n",
              "          + ' to learn more about interactive tables.';\n",
              "        element.innerHTML = '';\n",
              "        dataTable['output_type'] = 'display_data';\n",
              "        await google.colab.output.renderOutput(dataTable, element);\n",
              "        const docLink = document.createElement('div');\n",
              "        docLink.innerHTML = docLinkHtml;\n",
              "        element.appendChild(docLink);\n",
              "      }\n",
              "    </script>\n",
              "  </div>\n",
              "\n",
              "\n",
              "<div id=\"df-a3143473-15a2-4c00-a9c0-ca935d84fa65\">\n",
              "  <button class=\"colab-df-quickchart\" onclick=\"quickchart('df-a3143473-15a2-4c00-a9c0-ca935d84fa65')\"\n",
              "            title=\"Suggest charts\"\n",
              "            style=\"display:none;\">\n",
              "\n",
              "<svg xmlns=\"http://www.w3.org/2000/svg\" height=\"24px\"viewBox=\"0 0 24 24\"\n",
              "     width=\"24px\">\n",
              "    <g>\n",
              "        <path d=\"M19 3H5c-1.1 0-2 .9-2 2v14c0 1.1.9 2 2 2h14c1.1 0 2-.9 2-2V5c0-1.1-.9-2-2-2zM9 17H7v-7h2v7zm4 0h-2V7h2v10zm4 0h-2v-4h2v4z\"/>\n",
              "    </g>\n",
              "</svg>\n",
              "  </button>\n",
              "\n",
              "<style>\n",
              "  .colab-df-quickchart {\n",
              "      --bg-color: #E8F0FE;\n",
              "      --fill-color: #1967D2;\n",
              "      --hover-bg-color: #E2EBFA;\n",
              "      --hover-fill-color: #174EA6;\n",
              "      --disabled-fill-color: #AAA;\n",
              "      --disabled-bg-color: #DDD;\n",
              "  }\n",
              "\n",
              "  [theme=dark] .colab-df-quickchart {\n",
              "      --bg-color: #3B4455;\n",
              "      --fill-color: #D2E3FC;\n",
              "      --hover-bg-color: #434B5C;\n",
              "      --hover-fill-color: #FFFFFF;\n",
              "      --disabled-bg-color: #3B4455;\n",
              "      --disabled-fill-color: #666;\n",
              "  }\n",
              "\n",
              "  .colab-df-quickchart {\n",
              "    background-color: var(--bg-color);\n",
              "    border: none;\n",
              "    border-radius: 50%;\n",
              "    cursor: pointer;\n",
              "    display: none;\n",
              "    fill: var(--fill-color);\n",
              "    height: 32px;\n",
              "    padding: 0;\n",
              "    width: 32px;\n",
              "  }\n",
              "\n",
              "  .colab-df-quickchart:hover {\n",
              "    background-color: var(--hover-bg-color);\n",
              "    box-shadow: 0 1px 2px rgba(60, 64, 67, 0.3), 0 1px 3px 1px rgba(60, 64, 67, 0.15);\n",
              "    fill: var(--button-hover-fill-color);\n",
              "  }\n",
              "\n",
              "  .colab-df-quickchart-complete:disabled,\n",
              "  .colab-df-quickchart-complete:disabled:hover {\n",
              "    background-color: var(--disabled-bg-color);\n",
              "    fill: var(--disabled-fill-color);\n",
              "    box-shadow: none;\n",
              "  }\n",
              "\n",
              "  .colab-df-spinner {\n",
              "    border: 2px solid var(--fill-color);\n",
              "    border-color: transparent;\n",
              "    border-bottom-color: var(--fill-color);\n",
              "    animation:\n",
              "      spin 1s steps(1) infinite;\n",
              "  }\n",
              "\n",
              "  @keyframes spin {\n",
              "    0% {\n",
              "      border-color: transparent;\n",
              "      border-bottom-color: var(--fill-color);\n",
              "      border-left-color: var(--fill-color);\n",
              "    }\n",
              "    20% {\n",
              "      border-color: transparent;\n",
              "      border-left-color: var(--fill-color);\n",
              "      border-top-color: var(--fill-color);\n",
              "    }\n",
              "    30% {\n",
              "      border-color: transparent;\n",
              "      border-left-color: var(--fill-color);\n",
              "      border-top-color: var(--fill-color);\n",
              "      border-right-color: var(--fill-color);\n",
              "    }\n",
              "    40% {\n",
              "      border-color: transparent;\n",
              "      border-right-color: var(--fill-color);\n",
              "      border-top-color: var(--fill-color);\n",
              "    }\n",
              "    60% {\n",
              "      border-color: transparent;\n",
              "      border-right-color: var(--fill-color);\n",
              "    }\n",
              "    80% {\n",
              "      border-color: transparent;\n",
              "      border-right-color: var(--fill-color);\n",
              "      border-bottom-color: var(--fill-color);\n",
              "    }\n",
              "    90% {\n",
              "      border-color: transparent;\n",
              "      border-bottom-color: var(--fill-color);\n",
              "    }\n",
              "  }\n",
              "</style>\n",
              "\n",
              "  <script>\n",
              "    async function quickchart(key) {\n",
              "      const quickchartButtonEl =\n",
              "        document.querySelector('#' + key + ' button');\n",
              "      quickchartButtonEl.disabled = true;  // To prevent multiple clicks.\n",
              "      quickchartButtonEl.classList.add('colab-df-spinner');\n",
              "      try {\n",
              "        const charts = await google.colab.kernel.invokeFunction(\n",
              "            'suggestCharts', [key], {});\n",
              "      } catch (error) {\n",
              "        console.error('Error during call to suggestCharts:', error);\n",
              "      }\n",
              "      quickchartButtonEl.classList.remove('colab-df-spinner');\n",
              "      quickchartButtonEl.classList.add('colab-df-quickchart-complete');\n",
              "    }\n",
              "    (() => {\n",
              "      let quickchartButtonEl =\n",
              "        document.querySelector('#df-a3143473-15a2-4c00-a9c0-ca935d84fa65 button');\n",
              "      quickchartButtonEl.style.display =\n",
              "        google.colab.kernel.accessAllowed ? 'block' : 'none';\n",
              "    })();\n",
              "  </script>\n",
              "</div>\n",
              "\n",
              "    </div>\n",
              "  </div>\n"
            ],
            "application/vnd.google.colaboratory.intrinsic+json": {
              "type": "dataframe",
              "variable_name": "df"
            }
          },
          "metadata": {},
          "execution_count": 19
        }
      ]
    },
    {
      "cell_type": "code",
      "source": [
        "control_group = df[df['test group'] == 'ad']\n",
        "test_group = df[df['test group'] == 'psa']\n",
        "\n",
        "control_group.shape, test_group.shape"
      ],
      "metadata": {
        "colab": {
          "base_uri": "https://localhost:8080/"
        },
        "id": "y6K6ifDO1cIs",
        "outputId": "e95817c2-78ee-46ac-c940-a5676380603c"
      },
      "execution_count": null,
      "outputs": [
        {
          "output_type": "execute_result",
          "data": {
            "text/plain": [
              "((561765, 5), (23408, 5))"
            ]
          },
          "metadata": {},
          "execution_count": 20
        }
      ]
    },
    {
      "cell_type": "markdown",
      "source": [
        "## **Test for Conversion Rate**"
      ],
      "metadata": {
        "id": "tzxxl5YsHKDN"
      }
    },
    {
      "cell_type": "markdown",
      "source": [
        "### **Hypotheses Formulation:**\n",
        "\n",
        "**Null Hypothesis (H₀):**  \n",
        "The conversion rate of ads (control group) is less than or equal to that of PSAs (test group).\n",
        "\n",
        "**Alternative Hypothesis (H₁):**  \n",
        "The conversion rate of ads (control group) is greater than that of PSAs (test group)."
      ],
      "metadata": {
        "id": "vtQ_QepDHSKO"
      }
    },
    {
      "cell_type": "code",
      "source": [
        "# Calculate the total number of users in the control and test groups\n",
        "control_group_n, test_group_n = control_group.shape[0], test_group.shape[0]\n",
        "control_group_n, test_group_n"
      ],
      "metadata": {
        "colab": {
          "base_uri": "https://localhost:8080/"
        },
        "id": "SVIhlSca2bTd",
        "outputId": "0c5b9aac-5d82-4e95-ff65-053bd776ac3b"
      },
      "execution_count": null,
      "outputs": [
        {
          "output_type": "execute_result",
          "data": {
            "text/plain": [
              "(561765, 23408)"
            ]
          },
          "metadata": {},
          "execution_count": 21
        }
      ]
    },
    {
      "cell_type": "code",
      "source": [
        "control_group_converted = control_group[control_group['converted'] == True] # Filter the control group to get only the users who converted\n",
        "\n",
        "test_group_converted = test_group[test_group['converted'] == True] # Filter the test group to get only the users who converted\n",
        "\n",
        "# Count the number of converted users in the control group and the test group\n",
        "control_group_converted_n, test_group_converted_n = control_group_converted.shape[0], test_group_converted.shape[0]\n",
        "\n",
        "control_group_converted_n, test_group_converted_n"
      ],
      "metadata": {
        "colab": {
          "base_uri": "https://localhost:8080/"
        },
        "id": "q--6e0vS2x4E",
        "outputId": "bc048908-fa30-442e-d7ec-817a71fa30fb"
      },
      "execution_count": null,
      "outputs": [
        {
          "output_type": "execute_result",
          "data": {
            "text/plain": [
              "(13978, 405)"
            ]
          },
          "metadata": {},
          "execution_count": 22
        }
      ]
    },
    {
      "cell_type": "code",
      "source": [
        "control_group_CR = np.round((control_group_converted_n/control_group_n) * 100, 3) # Calculate the conversion rate for the control group and round to 3 decimal places\n",
        "test_group_CR = np.round((test_group_converted_n/test_group_n) * 100, 3) # Calculate the conversion rate for the test group and round to 3 decimal places\n",
        "difference = np.round(test_group_CR - control_group_CR, 3) # Calculate the difference in conversion rates between test and control groups\n",
        "\n",
        "# Check if the test group conversion rate is higher than the control group\n",
        "if difference > 0:\n",
        "  print(f\"\"\"Conversion Rate in Control Group (User Saw Ads) is {control_group_CR}% and Conversion Rate in Test Group (User Saw Public Service Announcment) is {test_group_CR}%. The Conversion Rate in Test Group is {difference}% Higher Than the Control Group\"\"\")\n",
        "\n",
        "elif difference < 0:\n",
        "  print(f\"\"\"Conversion Rate in Control Group (User Saw Ads) is {control_group_CR}% and Conversion Rate in Test Group (User Saw Public Service Announcment) is {test_group_CR}%. The Conversion Rate in Test Group is {np.abs(difference)}% Lower Than the Control Group\"\"\")\n",
        "\n",
        "else:\n",
        "  print(f\"\"\"Conversion Rate in Control Group (User Saw Ads) is {control_group_CR}% and Conversion Rate in Test Group (User Saw Public Service Announcment) is {test_group_CR}%. The Conversion Rate in Test Group is Equal to the Control Group\"\"\")"
      ],
      "metadata": {
        "colab": {
          "base_uri": "https://localhost:8080/"
        },
        "id": "sklP3mtP3gy9",
        "outputId": "04681fd2-1b8d-4693-8e95-dc98edbeb945"
      },
      "execution_count": null,
      "outputs": [
        {
          "output_type": "stream",
          "name": "stdout",
          "text": [
            "Conversion Rate in Control Group (User Saw Ads) is 2.488% and Conversion Rate in Test Group (User Saw Public Service Announcment) is 1.73%. The Conversion Rate in Test Group is 0.758% Lower Than the Control Group\n"
          ]
        }
      ]
    },
    {
      "cell_type": "code",
      "source": [
        "def proportion_ztest(n_converted_control, n_converted_test, n_total_control, n_total_test, alpha = 0.05):\n",
        "  \"\"\"\n",
        "  Performs a two-sample z-test for proportions to compare the conversion rates of two groups.\n",
        "\n",
        "  Args:\n",
        "    n_converted_control: Number of conversions in the control group.\n",
        "    n_converted_test: Number of conversions in the test group.\n",
        "    n_total_control: Total number of users in the control group.\n",
        "    n_total_test: Total number of users in the test group.\n",
        "    alpha: Significance level for the test (default: 0.05).\n",
        "\n",
        "  Returns:\n",
        "    None\n",
        "\n",
        "  This function performs the following:\n",
        "\n",
        "    1. Calculates the z-statistic and p-value using `statsmodels.stats.proportion.proportions_ztest`.\n",
        "    2. Prints the calculated z-statistic and p-value.\n",
        "    3. Interprets the results based on the p-value and the significance level:\n",
        "      - If p-value < alpha: Rejects the null hypothesis and concludes that the conversion rate\n",
        "        in the control group is significantly greater than the conversion rate in the test group.\n",
        "      - If p-value >= alpha: Fails to reject the null hypothesis and concludes that the conversion rate\n",
        "        in the test group is less than or equal to the conversion rate in the control group.\n",
        "\n",
        "  Note: This function assumes that the samples are independent and that the sample sizes are sufficiently large\n",
        "  to meet the assumptions of the z-test.\n",
        "  \"\"\"\n",
        "  conversions = [n_converted_control, n_converted_test] # Number of conversions in each group\n",
        "  sample_sizes = [n_total_control, n_total_test] # Total number of users in each group\n",
        "\n",
        "  # Perform the Z-test\n",
        "  z_stat, p_value = proportions_ztest(conversions, sample_sizes, alternative='larger')\n",
        "\n",
        "  # Print test statistic and p-value\n",
        "  print(f\"Z-statistic: {z_stat}\")\n",
        "  print(f\"P-value: {p_value}\")\n",
        "\n",
        "  # Interpret Results\n",
        "  if p_value < alpha:\n",
        "    print(\"Reject the null hypothesis (H0).\")\n",
        "    print(\"There is sufficient evidence to conclude that the conversion rate for the control group is significantly greater than the conversion rate for the test group.\")\n",
        "  else:\n",
        "    print(\"Fail to reject the null hypothesis (H0).\")\n",
        "    print(\"There is not enough evidence to conclude that the conversion rate for the test group is significantly greater than the conversion rate for the control group.\")"
      ],
      "metadata": {
        "id": "rvQ3i-YB5wlm"
      },
      "execution_count": null,
      "outputs": []
    },
    {
      "cell_type": "code",
      "source": [
        "proportion_ztest(n_converted_control = control_group_converted_n, n_converted_test = test_group_converted_n,\n",
        "                 n_total_control = control_group_n, n_total_test = test_group_n)"
      ],
      "metadata": {
        "colab": {
          "base_uri": "https://localhost:8080/"
        },
        "id": "bAVDKgsQ6sj3",
        "outputId": "6ed94370-5255-4ef9-9030-2f29ecf2955d"
      },
      "execution_count": null,
      "outputs": [
        {
          "output_type": "stream",
          "name": "stdout",
          "text": [
            "Z-statistic: 7.339007616376538\n",
            "P-value: 1.0759168427441878e-13\n",
            "Reject the null hypothesis (H0).\n",
            "There is sufficient evidence to conclude that the conversion rate for ads is greater than the conversion rate for PSA.\n"
          ]
        }
      ]
    },
    {
      "cell_type": "markdown",
      "source": [
        "#### **Statistical Analysis**\n",
        "- **Z-statistic**: The calculated Z-statistic is 7.339, which is significantly high. This indicates a strong deviation from the null hypothesis.\n",
        "- **P-value**: The p-value is extremely small (\\(1.076 \\times 10^{-13}\\)), well below the standard significance level (e.g., 0.05 or 0.01). This suggests that the observed difference in conversion rates is highly unlikely to have occurred by random chance.\n",
        "\n",
        "#### **Conclusion**\n",
        "- **Null Hypothesis (H₀)**: The null hypothesis states that the conversion rate for users who saw ads is equal to or less than the conversion rate for users who saw the public service announcement (PSA).\n",
        "- **Result**: Since the p-value is much smaller than the significance threshold, we reject the null hypothesis. This provides strong evidence that the conversion rate for ads is **greater** than the conversion rate for PSAs.\n",
        "\n",
        "#### **Practical Implication**\n",
        "- The data indicates that the test group (PSA viewers) had a **conversion rate 0.758% lower** than the control group (ad viewers). This means the ads were more effective at converting users compared to the PSA.\n",
        "- The difference in conversion rates, though statistically significant, is relatively small. Depending on the context, such as costs and campaign goals, this small difference might or might not justify continuing with ads over PSAs.\n",
        "\n",
        "#### **Recommendations**\n",
        "1. If the goal is purely to maximize conversions, continuing with the ad-based campaign is recommended.\n",
        "2. However, if the PSA aligns better with broader organizational objectives (e.g., public awareness or corporate social responsibility), further analysis may be required to weight these benefits against the lower conversion rate.\n",
        "3. Conduct a cost-benefit analysis to evaluate the financial implications of maintaining the ad campaign versus running PSAs."
      ],
      "metadata": {
        "id": "nKVz4OIra7DY"
      }
    },
    {
      "cell_type": "markdown",
      "source": [
        "## **Test for Total Ads Views**"
      ],
      "metadata": {
        "id": "01SlwzOVH3Gt"
      }
    },
    {
      "cell_type": "markdown",
      "source": [
        "**Null Hypothesis (H₀):**  \n",
        "There is no difference in the average ad views between customers who saw ads and those who saw psa.\n",
        "\n",
        "**Alternative Hypothesis (H₁):**  \n",
        "There is a significant difference in the average ad views between customers who saw ads and those who saw psa."
      ],
      "metadata": {
        "id": "hZ4k9tfVAFtj"
      }
    },
    {
      "cell_type": "code",
      "source": [
        "df.head()"
      ],
      "metadata": {
        "id": "IRcilP138Ptd",
        "colab": {
          "base_uri": "https://localhost:8080/",
          "height": 206
        },
        "outputId": "105bab7c-9cff-4a74-9277-e3edc461a7e4"
      },
      "execution_count": null,
      "outputs": [
        {
          "output_type": "execute_result",
          "data": {
            "text/plain": [
              "  test group  converted  total ads most ads day  most ads hour\n",
              "0         ad      False        130       Monday             20\n",
              "1         ad      False         93      Tuesday             22\n",
              "2         ad      False         21      Tuesday             18\n",
              "3         ad      False        276       Friday             14\n",
              "4         ad      False        264    Wednesday             13"
            ],
            "text/html": [
              "\n",
              "  <div id=\"df-702b68b0-ad6f-4beb-b289-b9573033683b\" class=\"colab-df-container\">\n",
              "    <div>\n",
              "<style scoped>\n",
              "    .dataframe tbody tr th:only-of-type {\n",
              "        vertical-align: middle;\n",
              "    }\n",
              "\n",
              "    .dataframe tbody tr th {\n",
              "        vertical-align: top;\n",
              "    }\n",
              "\n",
              "    .dataframe thead th {\n",
              "        text-align: right;\n",
              "    }\n",
              "</style>\n",
              "<table border=\"1\" class=\"dataframe\">\n",
              "  <thead>\n",
              "    <tr style=\"text-align: right;\">\n",
              "      <th></th>\n",
              "      <th>test group</th>\n",
              "      <th>converted</th>\n",
              "      <th>total ads</th>\n",
              "      <th>most ads day</th>\n",
              "      <th>most ads hour</th>\n",
              "    </tr>\n",
              "  </thead>\n",
              "  <tbody>\n",
              "    <tr>\n",
              "      <th>0</th>\n",
              "      <td>ad</td>\n",
              "      <td>False</td>\n",
              "      <td>130</td>\n",
              "      <td>Monday</td>\n",
              "      <td>20</td>\n",
              "    </tr>\n",
              "    <tr>\n",
              "      <th>1</th>\n",
              "      <td>ad</td>\n",
              "      <td>False</td>\n",
              "      <td>93</td>\n",
              "      <td>Tuesday</td>\n",
              "      <td>22</td>\n",
              "    </tr>\n",
              "    <tr>\n",
              "      <th>2</th>\n",
              "      <td>ad</td>\n",
              "      <td>False</td>\n",
              "      <td>21</td>\n",
              "      <td>Tuesday</td>\n",
              "      <td>18</td>\n",
              "    </tr>\n",
              "    <tr>\n",
              "      <th>3</th>\n",
              "      <td>ad</td>\n",
              "      <td>False</td>\n",
              "      <td>276</td>\n",
              "      <td>Friday</td>\n",
              "      <td>14</td>\n",
              "    </tr>\n",
              "    <tr>\n",
              "      <th>4</th>\n",
              "      <td>ad</td>\n",
              "      <td>False</td>\n",
              "      <td>264</td>\n",
              "      <td>Wednesday</td>\n",
              "      <td>13</td>\n",
              "    </tr>\n",
              "  </tbody>\n",
              "</table>\n",
              "</div>\n",
              "    <div class=\"colab-df-buttons\">\n",
              "\n",
              "  <div class=\"colab-df-container\">\n",
              "    <button class=\"colab-df-convert\" onclick=\"convertToInteractive('df-702b68b0-ad6f-4beb-b289-b9573033683b')\"\n",
              "            title=\"Convert this dataframe to an interactive table.\"\n",
              "            style=\"display:none;\">\n",
              "\n",
              "  <svg xmlns=\"http://www.w3.org/2000/svg\" height=\"24px\" viewBox=\"0 -960 960 960\">\n",
              "    <path d=\"M120-120v-720h720v720H120Zm60-500h600v-160H180v160Zm220 220h160v-160H400v160Zm0 220h160v-160H400v160ZM180-400h160v-160H180v160Zm440 0h160v-160H620v160ZM180-180h160v-160H180v160Zm440 0h160v-160H620v160Z\"/>\n",
              "  </svg>\n",
              "    </button>\n",
              "\n",
              "  <style>\n",
              "    .colab-df-container {\n",
              "      display:flex;\n",
              "      gap: 12px;\n",
              "    }\n",
              "\n",
              "    .colab-df-convert {\n",
              "      background-color: #E8F0FE;\n",
              "      border: none;\n",
              "      border-radius: 50%;\n",
              "      cursor: pointer;\n",
              "      display: none;\n",
              "      fill: #1967D2;\n",
              "      height: 32px;\n",
              "      padding: 0 0 0 0;\n",
              "      width: 32px;\n",
              "    }\n",
              "\n",
              "    .colab-df-convert:hover {\n",
              "      background-color: #E2EBFA;\n",
              "      box-shadow: 0px 1px 2px rgba(60, 64, 67, 0.3), 0px 1px 3px 1px rgba(60, 64, 67, 0.15);\n",
              "      fill: #174EA6;\n",
              "    }\n",
              "\n",
              "    .colab-df-buttons div {\n",
              "      margin-bottom: 4px;\n",
              "    }\n",
              "\n",
              "    [theme=dark] .colab-df-convert {\n",
              "      background-color: #3B4455;\n",
              "      fill: #D2E3FC;\n",
              "    }\n",
              "\n",
              "    [theme=dark] .colab-df-convert:hover {\n",
              "      background-color: #434B5C;\n",
              "      box-shadow: 0px 1px 3px 1px rgba(0, 0, 0, 0.15);\n",
              "      filter: drop-shadow(0px 1px 2px rgba(0, 0, 0, 0.3));\n",
              "      fill: #FFFFFF;\n",
              "    }\n",
              "  </style>\n",
              "\n",
              "    <script>\n",
              "      const buttonEl =\n",
              "        document.querySelector('#df-702b68b0-ad6f-4beb-b289-b9573033683b button.colab-df-convert');\n",
              "      buttonEl.style.display =\n",
              "        google.colab.kernel.accessAllowed ? 'block' : 'none';\n",
              "\n",
              "      async function convertToInteractive(key) {\n",
              "        const element = document.querySelector('#df-702b68b0-ad6f-4beb-b289-b9573033683b');\n",
              "        const dataTable =\n",
              "          await google.colab.kernel.invokeFunction('convertToInteractive',\n",
              "                                                    [key], {});\n",
              "        if (!dataTable) return;\n",
              "\n",
              "        const docLinkHtml = 'Like what you see? Visit the ' +\n",
              "          '<a target=\"_blank\" href=https://colab.research.google.com/notebooks/data_table.ipynb>data table notebook</a>'\n",
              "          + ' to learn more about interactive tables.';\n",
              "        element.innerHTML = '';\n",
              "        dataTable['output_type'] = 'display_data';\n",
              "        await google.colab.output.renderOutput(dataTable, element);\n",
              "        const docLink = document.createElement('div');\n",
              "        docLink.innerHTML = docLinkHtml;\n",
              "        element.appendChild(docLink);\n",
              "      }\n",
              "    </script>\n",
              "  </div>\n",
              "\n",
              "\n",
              "<div id=\"df-866e942e-bac7-4dff-927b-f60c59d3470d\">\n",
              "  <button class=\"colab-df-quickchart\" onclick=\"quickchart('df-866e942e-bac7-4dff-927b-f60c59d3470d')\"\n",
              "            title=\"Suggest charts\"\n",
              "            style=\"display:none;\">\n",
              "\n",
              "<svg xmlns=\"http://www.w3.org/2000/svg\" height=\"24px\"viewBox=\"0 0 24 24\"\n",
              "     width=\"24px\">\n",
              "    <g>\n",
              "        <path d=\"M19 3H5c-1.1 0-2 .9-2 2v14c0 1.1.9 2 2 2h14c1.1 0 2-.9 2-2V5c0-1.1-.9-2-2-2zM9 17H7v-7h2v7zm4 0h-2V7h2v10zm4 0h-2v-4h2v4z\"/>\n",
              "    </g>\n",
              "</svg>\n",
              "  </button>\n",
              "\n",
              "<style>\n",
              "  .colab-df-quickchart {\n",
              "      --bg-color: #E8F0FE;\n",
              "      --fill-color: #1967D2;\n",
              "      --hover-bg-color: #E2EBFA;\n",
              "      --hover-fill-color: #174EA6;\n",
              "      --disabled-fill-color: #AAA;\n",
              "      --disabled-bg-color: #DDD;\n",
              "  }\n",
              "\n",
              "  [theme=dark] .colab-df-quickchart {\n",
              "      --bg-color: #3B4455;\n",
              "      --fill-color: #D2E3FC;\n",
              "      --hover-bg-color: #434B5C;\n",
              "      --hover-fill-color: #FFFFFF;\n",
              "      --disabled-bg-color: #3B4455;\n",
              "      --disabled-fill-color: #666;\n",
              "  }\n",
              "\n",
              "  .colab-df-quickchart {\n",
              "    background-color: var(--bg-color);\n",
              "    border: none;\n",
              "    border-radius: 50%;\n",
              "    cursor: pointer;\n",
              "    display: none;\n",
              "    fill: var(--fill-color);\n",
              "    height: 32px;\n",
              "    padding: 0;\n",
              "    width: 32px;\n",
              "  }\n",
              "\n",
              "  .colab-df-quickchart:hover {\n",
              "    background-color: var(--hover-bg-color);\n",
              "    box-shadow: 0 1px 2px rgba(60, 64, 67, 0.3), 0 1px 3px 1px rgba(60, 64, 67, 0.15);\n",
              "    fill: var(--button-hover-fill-color);\n",
              "  }\n",
              "\n",
              "  .colab-df-quickchart-complete:disabled,\n",
              "  .colab-df-quickchart-complete:disabled:hover {\n",
              "    background-color: var(--disabled-bg-color);\n",
              "    fill: var(--disabled-fill-color);\n",
              "    box-shadow: none;\n",
              "  }\n",
              "\n",
              "  .colab-df-spinner {\n",
              "    border: 2px solid var(--fill-color);\n",
              "    border-color: transparent;\n",
              "    border-bottom-color: var(--fill-color);\n",
              "    animation:\n",
              "      spin 1s steps(1) infinite;\n",
              "  }\n",
              "\n",
              "  @keyframes spin {\n",
              "    0% {\n",
              "      border-color: transparent;\n",
              "      border-bottom-color: var(--fill-color);\n",
              "      border-left-color: var(--fill-color);\n",
              "    }\n",
              "    20% {\n",
              "      border-color: transparent;\n",
              "      border-left-color: var(--fill-color);\n",
              "      border-top-color: var(--fill-color);\n",
              "    }\n",
              "    30% {\n",
              "      border-color: transparent;\n",
              "      border-left-color: var(--fill-color);\n",
              "      border-top-color: var(--fill-color);\n",
              "      border-right-color: var(--fill-color);\n",
              "    }\n",
              "    40% {\n",
              "      border-color: transparent;\n",
              "      border-right-color: var(--fill-color);\n",
              "      border-top-color: var(--fill-color);\n",
              "    }\n",
              "    60% {\n",
              "      border-color: transparent;\n",
              "      border-right-color: var(--fill-color);\n",
              "    }\n",
              "    80% {\n",
              "      border-color: transparent;\n",
              "      border-right-color: var(--fill-color);\n",
              "      border-bottom-color: var(--fill-color);\n",
              "    }\n",
              "    90% {\n",
              "      border-color: transparent;\n",
              "      border-bottom-color: var(--fill-color);\n",
              "    }\n",
              "  }\n",
              "</style>\n",
              "\n",
              "  <script>\n",
              "    async function quickchart(key) {\n",
              "      const quickchartButtonEl =\n",
              "        document.querySelector('#' + key + ' button');\n",
              "      quickchartButtonEl.disabled = true;  // To prevent multiple clicks.\n",
              "      quickchartButtonEl.classList.add('colab-df-spinner');\n",
              "      try {\n",
              "        const charts = await google.colab.kernel.invokeFunction(\n",
              "            'suggestCharts', [key], {});\n",
              "      } catch (error) {\n",
              "        console.error('Error during call to suggestCharts:', error);\n",
              "      }\n",
              "      quickchartButtonEl.classList.remove('colab-df-spinner');\n",
              "      quickchartButtonEl.classList.add('colab-df-quickchart-complete');\n",
              "    }\n",
              "    (() => {\n",
              "      let quickchartButtonEl =\n",
              "        document.querySelector('#df-866e942e-bac7-4dff-927b-f60c59d3470d button');\n",
              "      quickchartButtonEl.style.display =\n",
              "        google.colab.kernel.accessAllowed ? 'block' : 'none';\n",
              "    })();\n",
              "  </script>\n",
              "</div>\n",
              "\n",
              "    </div>\n",
              "  </div>\n"
            ],
            "application/vnd.google.colaboratory.intrinsic+json": {
              "type": "dataframe",
              "variable_name": "df"
            }
          },
          "metadata": {},
          "execution_count": 26
        }
      ]
    },
    {
      "cell_type": "code",
      "source": [
        "control_group.head(), test_group.head()"
      ],
      "metadata": {
        "colab": {
          "base_uri": "https://localhost:8080/"
        },
        "id": "EgrkOVAK8voT",
        "outputId": "509404eb-5cfb-487b-8cca-d90fa1ad2478"
      },
      "execution_count": null,
      "outputs": [
        {
          "output_type": "execute_result",
          "data": {
            "text/plain": [
              "(  test group  converted  total ads most ads day  most ads hour\n",
              " 0         ad      False        130       Monday             20\n",
              " 1         ad      False         93      Tuesday             22\n",
              " 2         ad      False         21      Tuesday             18\n",
              " 3         ad      False        276       Friday             14\n",
              " 4         ad      False        264    Wednesday             13,\n",
              "     test group  converted  total ads most ads day  most ads hour\n",
              " 16         psa      False        248     Saturday             19\n",
              " 32         psa      False         27     Thursday              8\n",
              " 60         psa      False         13      Tuesday             19\n",
              " 124        psa      False         32    Wednesday             19\n",
              " 137        psa      False        105      Tuesday             19)"
            ]
          },
          "metadata": {},
          "execution_count": 27
        }
      ]
    },
    {
      "cell_type": "code",
      "source": [
        "control_group_mean = np.round(control_group['total ads'].mean(), 3) # Calculate the mean of the 'total ads' column for the control group and round to 3 decimal places\n",
        "test_group_mean = np.round(test_group['total ads'].mean(), 3) # Calculate the mean of the 'total ads' column for the test group and round to 3 decimal places\n",
        "difference = np.round(test_group_mean - control_group_mean, 3) # Calculate the difference between the test group mean and the control group mean, rounded to 3 decimal places\n",
        "\n",
        "# Check if the test group's ads view rate is higher than the control group's\n",
        "if difference > 0:\n",
        "  print(f\"\"\"Ads View Rate in Control Group (User Saw Ads) is {control_group_mean} and Ads View Rate in Test Group (User Saw Public Service Announcment) is {test_group_mean}. The Ads View Rate in Test Group is {difference} Higher Than the Control Group\"\"\")\n",
        "\n",
        "elif difference < 0:\n",
        "  print(f\"\"\"Ads View Rate in Control Group (User Saw Ads) is {control_group_mean} and Ads View Rate in Test Group (User Saw Public Service Announcment) is {test_group_mean}. The Ads View Rate in Test Group is {np.abs(difference)} Lower Than the Control Group\"\"\")\n",
        "\n",
        "else:\n",
        "  print(f\"\"\"Ads View Rate in Control Group (User Saw Ads) is {control_group_mean} and Ads View Rate in Test Group (User Saw Public Service Announcment) is {test_group_mean}. The Ads View Rate in Test Group is Equal to the Control Group\"\"\")"
      ],
      "metadata": {
        "colab": {
          "base_uri": "https://localhost:8080/"
        },
        "id": "z9P01Z0KDSoj",
        "outputId": "b519b7c7-73c0-414f-e418-8bf52904d38a"
      },
      "execution_count": null,
      "outputs": [
        {
          "output_type": "stream",
          "name": "stdout",
          "text": [
            "Ads View Rate in Control Group (User Saw Ads) is 22.849 and Ads View Rate in Test Group (User Saw Public Service Announcment) is 22.936. The Ads View Rate in Test Group is 0.087 Higher Than the Control Group\n"
          ]
        }
      ]
    },
    {
      "cell_type": "markdown",
      "source": [
        "### **Check for Data Normality**"
      ],
      "metadata": {
        "id": "czw74cNybqOh"
      }
    },
    {
      "cell_type": "markdown",
      "source": [
        "#### **Using Distribution Plot**"
      ],
      "metadata": {
        "id": "TjollnTMcR__"
      }
    },
    {
      "cell_type": "code",
      "source": [
        "# Plot Histogram for each group to see the distribution\n",
        "\n",
        "fig, ax = plt.subplots(1, 2, figsize = (15, 6))\n",
        "\n",
        "sns.histplot(data = control_group, x = 'total ads', kde = True, bins = 5, ax = ax[0])\n",
        "ax[0].set_title('Total Ads Views Distribution in Control Group')\n",
        "\n",
        "sns.histplot(data = test_group, x = 'most ads hour', kde = True, bins = 5, ax = ax[1])\n",
        "ax[1].set_title('Most Ads Hour Distribution Test Group')\n",
        "\n",
        "plt.tight_layout()\n",
        "plt.show()"
      ],
      "metadata": {
        "colab": {
          "base_uri": "https://localhost:8080/",
          "height": 607
        },
        "id": "FDGQVZaH821q",
        "outputId": "9439eca6-8d01-4926-8204-65fa31bf4036"
      },
      "execution_count": null,
      "outputs": [
        {
          "output_type": "display_data",
          "data": {
            "text/plain": [
              "<Figure size 1500x600 with 2 Axes>"
            ],
            "image/png": "[encoded data removed]"
          },
          "metadata": {}
        }
      ]
    },
    {
      "cell_type": "markdown",
      "source": [
        "#### **Summary of Findings:**\n",
        "\n",
        "The plot presents two histograms:\n",
        "\n",
        "1. **Total Ads Views Distribution in Control Group:** This histogram displays the distribution of the total number of ads viewed by users in the control group.\n",
        "\n",
        "   - **Observations:**\n",
        "      - The distribution appears to be right-skewed, with a long tail towards higher values. This indicates that a majority of users view a relatively small number of ads, while a smaller portion views a large number of ads.\n",
        "\n",
        "2. **Most Ads Hour Distribution Test Group:** This histogram shows the distribution of the hour at which users in the test group viewed the most ads.\n",
        "\n",
        "   - **Observations:**\n",
        "      - The distribution appears to be multimodal, with multiple peaks suggesting that users tend to view the most ads at specific times of the day.\n",
        "\n",
        "**Overall:**\n",
        "\n",
        "The plot provides insights into the ad viewing behavior of users in the control group and the test group. The right-skewed distribution of \"Total Ads Views\" in the control group suggests that a majority of users in this group view a limited number of ads. The multimodal distribution of \"Most Ads Hour\" in the test group indicates that users in this group tend to have specific peak hours for ad viewing."
      ],
      "metadata": {
        "id": "ei7yQGKBb9aw"
      }
    },
    {
      "cell_type": "markdown",
      "source": [
        "#### **Using Q-Q Plot**"
      ],
      "metadata": {
        "id": "NsfxezIpcfdg"
      }
    },
    {
      "cell_type": "code",
      "source": [
        "fig, axes = plt.subplots(1, 2, figsize=(12, 6))  # Create a figure with 1 row and 2 columns\n",
        "\n",
        "# QQ plot for credit card payment method\n",
        "sm.qqplot(control_group['total ads'], line='45', ax=axes[0])\n",
        "axes[0].set_title('Normality Check for Total Ads Views in Control Group')\n",
        "\n",
        "# QQ plot for PayPal payment method\n",
        "sm.qqplot(test_group['total ads'], line='45', ax=axes[1])\n",
        "axes[1].set_title('Normality Check for Total Ads Views in Test Group')\n",
        "\n",
        "plt.tight_layout()  # Adjust layout to prevent overlap\n",
        "plt.show()"
      ],
      "metadata": {
        "colab": {
          "base_uri": "https://localhost:8080/",
          "height": 607
        },
        "id": "zZ8peBRn9Qzj",
        "outputId": "bfcc1606-160f-4f85-96b3-6da234e1a4f8"
      },
      "execution_count": null,
      "outputs": [
        {
          "output_type": "display_data",
          "data": {
            "text/plain": [
              "<Figure size 1200x600 with 2 Axes>"
            ],
            "image/png": "[encoded data removed]"
          },
          "metadata": {}
        }
      ]
    },
    {
      "cell_type": "markdown",
      "source": [
        "Certainly, let's analyze the findings from the provided QQ plot.\n",
        "\n",
        "**Summary of Findings:**\n",
        "\n",
        "The plot presents two Q-Q plots:\n",
        "\n",
        "1. **Normality Check for Total Ads Views in Control Group:** This plot compares the quantiles of the \"Total Ads Views\" distribution in the control group to the quantiles of a theoretical normal distribution.\n",
        "\n",
        "   - **Observations:**\n",
        "      - The points in the plot deviate significantly from the diagonal line, especially in the tails.\n",
        "      - This indicates that the distribution of \"Total Ads Views\" in the control group is not normally distributed.\n",
        "\n",
        "2. **Normality Check for Total Ads Views in Test Group:** This plot compares the quantiles of the \"Total Ads Views\" distribution in the test group to the quantiles of a theoretical normal distribution.\n",
        "\n",
        "   - **Observations:**\n",
        "      - Similar to the control group, the points deviate significantly from the diagonal line, particularly in the tails.\n",
        "      - This suggests that the distribution of \"Total Ads Views\" in the test group is also not normally distributed.\n",
        "\n",
        "**Overall:**\n",
        "\n",
        "The QQ plots demonstrate that the distribution of \"Total Ads Views\" in both the control group and the test group is not normally distributed. This information is crucial for selecting appropriate statistical tests. If the normality assumption is violated, parametric tests like t-tests may not be suitable, and non-parametric alternatives should be considered."
      ],
      "metadata": {
        "id": "HsoZO5vOcLpJ"
      }
    },
    {
      "cell_type": "markdown",
      "source": [
        "#### **Using Statistical Method**\n",
        "\n",
        "**Null and Alternative Hypotheses**:\n",
        "\n",
        "1. **Null Hypothesis (H₀)**:  \n",
        "   Data follow Normal Distribution.\n",
        "\n",
        "2. **Alternative Hypothesis (H₁)**:  \n",
        "   Data does not follow Normal Distribution"
      ],
      "metadata": {
        "id": "-bFMrLsd-EUj"
      }
    },
    {
      "cell_type": "code",
      "source": [
        "def normality_check(data1, data2, alpha=0.05, group1='', group2=''):\n",
        "  \"\"\"\n",
        "  Performs Shapiro-Wilk normality tests on two datasets and provides recommendations for subsequent statistical tests.\n",
        "\n",
        "  Args:\n",
        "    data1: The first dataset to be tested for normality.\n",
        "    data2: The second dataset to be tested for normality.\n",
        "    alpha: The significance level for the normality tests (default: 0.05).\n",
        "    group1: A string representing the label for the first dataset (optional).\n",
        "    group2: A string representing the label for the second dataset (optional).\n",
        "\n",
        "  Returns:\n",
        "    None. Prints test results and recommendations to the console.\n",
        "\n",
        "  This function conducts Shapiro-Wilk tests on both input datasets to assess their normality.\n",
        "  Based on the p-values from the tests, it provides recommendations for appropriate statistical tests:\n",
        "\n",
        "  - If both datasets are not normally distributed, it suggests using the Mann-Whitney U-test.\n",
        "  - If both datasets are normally distributed, it suggests proceeding to the Levene test to check for homogeneity of variances.\n",
        "  - If only one dataset is normally distributed, it recommends using a non-parametric test like the Mann-Whitney U-test.\n",
        "\n",
        "  **Note:** This function assumes that the input datasets are independent samples.\n",
        "  \"\"\"\n",
        "  stat1, p1 = stats.shapiro(data1)\n",
        "  stat2, p2 = stats.shapiro(data2)\n",
        "\n",
        "  # Print test results\n",
        "  print(f\"For {group1}\\nTest Statistic: {stat1} and P-Value: {p1}\\n\")\n",
        "  print(f\"For {group2}\\nTest Statistic: {stat2} and P-Value: {p2}\\n\")\n",
        "\n",
        "  # Evaluate normality conditions\n",
        "  if p1 < alpha and p2 < alpha:\n",
        "    print(f\"Both {group1} and {group2} have P < {alpha}. Data in both groups are not normally distributed. Go to Mann-Whitney U-Test.\")\n",
        "  elif p1 > alpha and p2 > alpha:\n",
        "    print(f\"Both {group1} and {group2} have P > {alpha}. Data in both groups are normally distributed. Go to Levene Test to test the homogeneity of variances.\")\n",
        "  elif p1 < alpha and p2 > alpha:\n",
        "    print(f\"{group1} has P < {alpha} (not normally distributed), but {group2} has P > {alpha} (normally distributed). Go to a non-parametric test like Mann-Whitney U-Test.\")\n",
        "  elif p1 > alpha and p2 < alpha:\n",
        "    print(f\"{group1} has P > {alpha} (normally distributed), but {group2} has P < {alpha} (not normally distributed). Go to a non-parametric test like Mann-Whitney U-Test.\")\n",
        "  else:\n",
        "    print(\"Unexpected behavior. Check your data and input values.\")"
      ],
      "metadata": {
        "id": "r3YLJqmy95-D"
      },
      "execution_count": null,
      "outputs": []
    },
    {
      "cell_type": "code",
      "source": [
        "normality_check(data1 = control_group['total ads'],\n",
        "                data2 = test_group['total ads'],\n",
        "                alpha=0.05, group1='Total Ads Views in Control Group', group2='Total Ads Views in Test Group')"
      ],
      "metadata": {
        "colab": {
          "base_uri": "https://localhost:8080/"
        },
        "id": "U6yvS9Cl-IMq",
        "outputId": "85851dbb-3d41-4e50-a083-4887a8928432"
      },
      "execution_count": null,
      "outputs": [
        {
          "output_type": "stream",
          "name": "stdout",
          "text": [
            "For Total Ads Views in Control Group\n",
            "Test Statistic: 0.6460636361717921 and P-Value: 8.537369801949885e-189\n",
            "\n",
            "For Total Ads Views in Test Group\n",
            "Test Statistic: 0.6365618960680122 and P-Value: 6.104176288051015e-112\n",
            "\n",
            "Both Total Ads Views in Control Group and Total Ads Views in Test Group have P < 0.05. Data in both groups are not normally distributed. Go to Mann-Whitney U-Test.\n"
          ]
        }
      ]
    },
    {
      "cell_type": "markdown",
      "source": [
        "### **Non-Parametric Test**"
      ],
      "metadata": {
        "id": "fG2C3zgAc2OA"
      }
    },
    {
      "cell_type": "code",
      "source": [
        "def mann_whitley_U(group1, group2, alpha = 0.05):\n",
        "  \"\"\"\n",
        "  Performs the Mann-Whitney U test to compare the distributions of two independent samples.\n",
        "\n",
        "  Args:\n",
        "    group1: The first group of data points.\n",
        "    group2: The second group of data points.\n",
        "    alpha: The significance level for the test (default: 0.05).\n",
        "\n",
        "  Returns:\n",
        "    None. Prints the test statistic, p-value, and a conclusion about the null hypothesis.\n",
        "\n",
        "  This function conducts the Mann-Whitney U test, a non-parametric test used to compare the distributions\n",
        "  of two independent groups when the assumption of normality is violated.\n",
        "\n",
        "  The test assesses whether the two groups are likely to have been drawn from the same population.\n",
        "\n",
        "  **Note:** This function assumes that the input datasets are independent samples.\n",
        "  \"\"\"\n",
        "  stat, p = stats.mannwhitneyu(group1, group2)\n",
        "\n",
        "  print(f\"Test Statistics: {stat} and P-Value: {p}\\n\")\n",
        "\n",
        "  if p < alpha:\n",
        "    print(f\"Given that P < {alpha}, we reject the null hypothesis. There is a significant difference in the distributions of the two groups.\")\n",
        "  else:\n",
        "    print(f\"Given that P > {alpha}, we fail to reject the null hypothesis. There is no significant difference in the distributions of the two groups.\")"
      ],
      "metadata": {
        "id": "k2KTgRF--bNi"
      },
      "execution_count": null,
      "outputs": []
    },
    {
      "cell_type": "code",
      "source": [
        "mann_whitley_U(group1 = control_group['total ads'], group2 = test_group['total ads'])"
      ],
      "metadata": {
        "colab": {
          "base_uri": "https://localhost:8080/"
        },
        "id": "x85ORRB2C3BK",
        "outputId": "0cb43f82-4eba-4245-fd09-c94f55698486"
      },
      "execution_count": null,
      "outputs": [
        {
          "output_type": "stream",
          "name": "stdout",
          "text": [
            "Test Statistics: 6742292304.5 and P-Value: 3.6798633952250706e-11\n",
            "\n",
            "Given that P < 0.05, we reject the null hypothesis. There is a significant difference in the distributions of the two groups.\n"
          ]
        }
      ]
    },
    {
      "cell_type": "markdown",
      "source": [
        "#### **Statistical Analysis Inference:**\n",
        "\n",
        "1. **Mann-Whitney U Test**:\n",
        "   - **Test Statistic**: The test statistic is \\(6742292304.5\\), which quantifies the rank-based differences between the distributions of the two groups.\n",
        "   - **P-value**: The p-value (\\(3.68 \\times 10^{-11}\\)) is far below the standard significance threshold (\\(p < 0.05\\)). This indicates that the observed difference in distributions is statistically significant.\n",
        "\n",
        "2. **Null Hypothesis (\\(H_0\\))**:\n",
        "   - The null hypothesis assumes that there is no difference in the distributions of the ads view rates between the control group (ads viewers) and the test group (PSA viewers).\n",
        "   - **Result**: Since the p-value is much smaller than 0.05, we reject the null hypothesis. This provides strong evidence that the distributions of ads view rates differ between the two groups.\n",
        "\n",
        "3. **Practical Difference**:\n",
        "   - The test group's ads view rate is **0.087 higher** than the control group’s ads view rate. This indicates that users in the test group (PSA viewers) viewed slightly more ads on average compared to those in the control group.\n",
        "\n",
        "\n",
        "#### **Practical Implications:**\n",
        "\n",
        "1. **Significant Difference**:\n",
        "   - Even though the test group has a slightly higher ads view rate (\\(+0.087\\)), the difference is statistically significant due to the large sample size.\n",
        "\n",
        "2. **Further Investigation**:\n",
        "   - Explore why PSA viewers are seeing more ads on average. This could involve:\n",
        "     - Analyzing user behavior patterns.\n",
        "     - Investigating the structure of the ad delivery mechanism during the experiment.\n",
        "\n",
        "3. **Campaign Strategy**:\n",
        "   - If the primary objective is to maximize ad impressions, the PSA approach could be considered effective despite its slightly lower conversion rate.\n",
        "   - Conduct a cost-benefit analysis to determine if the increase in ads viewed justifies changes to the campaign strategy.\n",
        "\n",
        "4. **Balance with Conversion Rates**:\n",
        "   - While the ads view rate is higher in the test group, the conversion rate for PSAs was previously noted to be lower than for ads. Carefully weigh both metrics when making a strategic decision.\n",
        "\n",
        "\n",
        "#### **Recommendation:**\n",
        "If maximizing user engagement with ads (ads view rate) is a priority, the PSA approach might offer some advantages. However, if the end goal is to drive conversions, the ad-based approach remains more effective."
      ],
      "metadata": {
        "id": "HOgUueXfdazo"
      }
    },
    {
      "cell_type": "markdown",
      "source": [
        "### **Summary of Hypothesis Testing Results:**\n",
        "\n",
        "1. **Conversion Rate Analysis (Z-Test)**:\n",
        "   - **Statistical Outcome**: The Z-test shows a significant difference in conversion rates, with the p-value (\\(1.076 \\times 10^{-13}\\)) well below the threshold (\\(p < 0.05\\)).\n",
        "   - **Key Finding**: The conversion rate for the control group (ads viewers) is **0.758% higher** than that of the test group (PSA viewers).\n",
        "   - **Implication**: Ads are more effective at driving conversions compared to PSAs, but the observed difference is relatively small.\n",
        "\n",
        "2. **Ads View Rate Analysis (Mann-Whitney U Test)**:\n",
        "   - **Statistical Outcome**: The Mann-Whitney U test indicates a significant difference in ads view rates, with a p-value (\\(3.68 \\times 10^{-11}\\)) far below \\(p < 0.05\\).\n",
        "   - **Key Finding**: The test group (PSA viewers) has an **ads view rate 0.087 higher** than the control group (ads viewers).\n",
        "   - **Implication**: PSA viewers engage slightly more with ads compared to the control group.\n",
        "\n",
        "\n",
        "#### **Combined Insights:**\n",
        "- **Trade-off Between Metrics**:\n",
        "  - The control group excels in conversion rates, making ads a better choice for driving immediate sales or sign-ups.\n",
        "  - The test group demonstrates slightly higher engagement with ads (ads view rate), suggesting PSAs might encourage broader user interaction.\n",
        "- **Statistical Significance**:\n",
        "  - Both differences (conversion rates and ads view rates) are statistically significant, underscoring that these findings are unlikely to be due to random chance.\n",
        "\n",
        "\n",
        "#### **Recommendations:**\n",
        "1. **If Conversions Are the Goal**:\n",
        "   - Stick with the ad-based campaign, as it performs better in driving user actions that result in conversions.\n",
        "2. **If Engagement Matters**:\n",
        "   - Consider the PSA approach, especially if the campaign goal is to increase awareness or promote social responsibility while maintaining high engagement.\n",
        "3. **Conduct a Cost-Benefit Analysis**:\n",
        "   - Weigh the financial and strategic implications of prioritizing conversions versus user engagement.\n",
        "4. **Future Research**:\n",
        "   - Investigate the factors contributing to the higher ads view rate for PSAs to potentially enhance ad performance in the control group.\n",
        "\n",
        "This dual analysis highlights the importance of aligning campaign strategies with specific business objectives."
      ],
      "metadata": {
        "id": "JXWcZ2cbTLG1"
      }
    },
    {
      "cell_type": "markdown",
      "source": [
        "# Regression Analysis"
      ],
      "metadata": {
        "id": "xKmCzzqCID09"
      }
    },
    {
      "cell_type": "markdown",
      "source": [
        "### **Regression Analysis Questions**\n",
        "As Total Ads seen has been increased for the test group (psa) so -\n",
        "-  What are the key factors that influence the total number of ads seen by a user?\n",
        "\n",
        "-  Does the day or hour with the highest number of ads seen significantly impact the total ads seen by a user?\n",
        "\n",
        "-  Is there a measurable difference in the total number of ads seen between users who converted versus those who did not?\n",
        "\n",
        "-  Can a predictive model be built to estimate the total number of ads a user might see based on their viewing patterns, day, and conversion status?"
      ],
      "metadata": {
        "id": "7vKBHa_BNxyf"
      }
    },
    {
      "cell_type": "code",
      "source": [
        "df.head()"
      ],
      "metadata": {
        "id": "hL57UCuVDC2S",
        "colab": {
          "base_uri": "https://localhost:8080/",
          "height": 206
        },
        "outputId": "5d9e01b6-207c-4142-8a54-9ab38e86a266"
      },
      "execution_count": null,
      "outputs": [
        {
          "output_type": "execute_result",
          "data": {
            "text/plain": [
              "  test group  converted  total ads most ads day  most ads hour\n",
              "0         ad      False        130       Monday             20\n",
              "1         ad      False         93      Tuesday             22\n",
              "2         ad      False         21      Tuesday             18\n",
              "3         ad      False        276       Friday             14\n",
              "4         ad      False        264    Wednesday             13"
            ],
            "text/html": [
              "\n",
              "  <div id=\"df-a5b1a7ba-496b-402a-86ab-6a5ba11cee51\" class=\"colab-df-container\">\n",
              "    <div>\n",
              "<style scoped>\n",
              "    .dataframe tbody tr th:only-of-type {\n",
              "        vertical-align: middle;\n",
              "    }\n",
              "\n",
              "    .dataframe tbody tr th {\n",
              "        vertical-align: top;\n",
              "    }\n",
              "\n",
              "    .dataframe thead th {\n",
              "        text-align: right;\n",
              "    }\n",
              "</style>\n",
              "<table border=\"1\" class=\"dataframe\">\n",
              "  <thead>\n",
              "    <tr style=\"text-align: right;\">\n",
              "      <th></th>\n",
              "      <th>test group</th>\n",
              "      <th>converted</th>\n",
              "      <th>total ads</th>\n",
              "      <th>most ads day</th>\n",
              "      <th>most ads hour</th>\n",
              "    </tr>\n",
              "  </thead>\n",
              "  <tbody>\n",
              "    <tr>\n",
              "      <th>0</th>\n",
              "      <td>ad</td>\n",
              "      <td>False</td>\n",
              "      <td>130</td>\n",
              "      <td>Monday</td>\n",
              "      <td>20</td>\n",
              "    </tr>\n",
              "    <tr>\n",
              "      <th>1</th>\n",
              "      <td>ad</td>\n",
              "      <td>False</td>\n",
              "      <td>93</td>\n",
              "      <td>Tuesday</td>\n",
              "      <td>22</td>\n",
              "    </tr>\n",
              "    <tr>\n",
              "      <th>2</th>\n",
              "      <td>ad</td>\n",
              "      <td>False</td>\n",
              "      <td>21</td>\n",
              "      <td>Tuesday</td>\n",
              "      <td>18</td>\n",
              "    </tr>\n",
              "    <tr>\n",
              "      <th>3</th>\n",
              "      <td>ad</td>\n",
              "      <td>False</td>\n",
              "      <td>276</td>\n",
              "      <td>Friday</td>\n",
              "      <td>14</td>\n",
              "    </tr>\n",
              "    <tr>\n",
              "      <th>4</th>\n",
              "      <td>ad</td>\n",
              "      <td>False</td>\n",
              "      <td>264</td>\n",
              "      <td>Wednesday</td>\n",
              "      <td>13</td>\n",
              "    </tr>\n",
              "  </tbody>\n",
              "</table>\n",
              "</div>\n",
              "    <div class=\"colab-df-buttons\">\n",
              "\n",
              "  <div class=\"colab-df-container\">\n",
              "    <button class=\"colab-df-convert\" onclick=\"convertToInteractive('df-a5b1a7ba-496b-402a-86ab-6a5ba11cee51')\"\n",
              "            title=\"Convert this dataframe to an interactive table.\"\n",
              "            style=\"display:none;\">\n",
              "\n",
              "  <svg xmlns=\"http://www.w3.org/2000/svg\" height=\"24px\" viewBox=\"0 -960 960 960\">\n",
              "    <path d=\"M120-120v-720h720v720H120Zm60-500h600v-160H180v160Zm220 220h160v-160H400v160Zm0 220h160v-160H400v160ZM180-400h160v-160H180v160Zm440 0h160v-160H620v160ZM180-180h160v-160H180v160Zm440 0h160v-160H620v160Z\"/>\n",
              "  </svg>\n",
              "    </button>\n",
              "\n",
              "  <style>\n",
              "    .colab-df-container {\n",
              "      display:flex;\n",
              "      gap: 12px;\n",
              "    }\n",
              "\n",
              "    .colab-df-convert {\n",
              "      background-color: #E8F0FE;\n",
              "      border: none;\n",
              "      border-radius: 50%;\n",
              "      cursor: pointer;\n",
              "      display: none;\n",
              "      fill: #1967D2;\n",
              "      height: 32px;\n",
              "      padding: 0 0 0 0;\n",
              "      width: 32px;\n",
              "    }\n",
              "\n",
              "    .colab-df-convert:hover {\n",
              "      background-color: #E2EBFA;\n",
              "      box-shadow: 0px 1px 2px rgba(60, 64, 67, 0.3), 0px 1px 3px 1px rgba(60, 64, 67, 0.15);\n",
              "      fill: #174EA6;\n",
              "    }\n",
              "\n",
              "    .colab-df-buttons div {\n",
              "      margin-bottom: 4px;\n",
              "    }\n",
              "\n",
              "    [theme=dark] .colab-df-convert {\n",
              "      background-color: #3B4455;\n",
              "      fill: #D2E3FC;\n",
              "    }\n",
              "\n",
              "    [theme=dark] .colab-df-convert:hover {\n",
              "      background-color: #434B5C;\n",
              "      box-shadow: 0px 1px 3px 1px rgba(0, 0, 0, 0.15);\n",
              "      filter: drop-shadow(0px 1px 2px rgba(0, 0, 0, 0.3));\n",
              "      fill: #FFFFFF;\n",
              "    }\n",
              "  </style>\n",
              "\n",
              "    <script>\n",
              "      const buttonEl =\n",
              "        document.querySelector('#df-a5b1a7ba-496b-402a-86ab-6a5ba11cee51 button.colab-df-convert');\n",
              "      buttonEl.style.display =\n",
              "        google.colab.kernel.accessAllowed ? 'block' : 'none';\n",
              "\n",
              "      async function convertToInteractive(key) {\n",
              "        const element = document.querySelector('#df-a5b1a7ba-496b-402a-86ab-6a5ba11cee51');\n",
              "        const dataTable =\n",
              "          await google.colab.kernel.invokeFunction('convertToInteractive',\n",
              "                                                    [key], {});\n",
              "        if (!dataTable) return;\n",
              "\n",
              "        const docLinkHtml = 'Like what you see? Visit the ' +\n",
              "          '<a target=\"_blank\" href=https://colab.research.google.com/notebooks/data_table.ipynb>data table notebook</a>'\n",
              "          + ' to learn more about interactive tables.';\n",
              "        element.innerHTML = '';\n",
              "        dataTable['output_type'] = 'display_data';\n",
              "        await google.colab.output.renderOutput(dataTable, element);\n",
              "        const docLink = document.createElement('div');\n",
              "        docLink.innerHTML = docLinkHtml;\n",
              "        element.appendChild(docLink);\n",
              "      }\n",
              "    </script>\n",
              "  </div>\n",
              "\n",
              "\n",
              "<div id=\"df-402613d3-0c39-44c8-9f7d-04c5a4f2d610\">\n",
              "  <button class=\"colab-df-quickchart\" onclick=\"quickchart('df-402613d3-0c39-44c8-9f7d-04c5a4f2d610')\"\n",
              "            title=\"Suggest charts\"\n",
              "            style=\"display:none;\">\n",
              "\n",
              "<svg xmlns=\"http://www.w3.org/2000/svg\" height=\"24px\"viewBox=\"0 0 24 24\"\n",
              "     width=\"24px\">\n",
              "    <g>\n",
              "        <path d=\"M19 3H5c-1.1 0-2 .9-2 2v14c0 1.1.9 2 2 2h14c1.1 0 2-.9 2-2V5c0-1.1-.9-2-2-2zM9 17H7v-7h2v7zm4 0h-2V7h2v10zm4 0h-2v-4h2v4z\"/>\n",
              "    </g>\n",
              "</svg>\n",
              "  </button>\n",
              "\n",
              "<style>\n",
              "  .colab-df-quickchart {\n",
              "      --bg-color: #E8F0FE;\n",
              "      --fill-color: #1967D2;\n",
              "      --hover-bg-color: #E2EBFA;\n",
              "      --hover-fill-color: #174EA6;\n",
              "      --disabled-fill-color: #AAA;\n",
              "      --disabled-bg-color: #DDD;\n",
              "  }\n",
              "\n",
              "  [theme=dark] .colab-df-quickchart {\n",
              "      --bg-color: #3B4455;\n",
              "      --fill-color: #D2E3FC;\n",
              "      --hover-bg-color: #434B5C;\n",
              "      --hover-fill-color: #FFFFFF;\n",
              "      --disabled-bg-color: #3B4455;\n",
              "      --disabled-fill-color: #666;\n",
              "  }\n",
              "\n",
              "  .colab-df-quickchart {\n",
              "    background-color: var(--bg-color);\n",
              "    border: none;\n",
              "    border-radius: 50%;\n",
              "    cursor: pointer;\n",
              "    display: none;\n",
              "    fill: var(--fill-color);\n",
              "    height: 32px;\n",
              "    padding: 0;\n",
              "    width: 32px;\n",
              "  }\n",
              "\n",
              "  .colab-df-quickchart:hover {\n",
              "    background-color: var(--hover-bg-color);\n",
              "    box-shadow: 0 1px 2px rgba(60, 64, 67, 0.3), 0 1px 3px 1px rgba(60, 64, 67, 0.15);\n",
              "    fill: var(--button-hover-fill-color);\n",
              "  }\n",
              "\n",
              "  .colab-df-quickchart-complete:disabled,\n",
              "  .colab-df-quickchart-complete:disabled:hover {\n",
              "    background-color: var(--disabled-bg-color);\n",
              "    fill: var(--disabled-fill-color);\n",
              "    box-shadow: none;\n",
              "  }\n",
              "\n",
              "  .colab-df-spinner {\n",
              "    border: 2px solid var(--fill-color);\n",
              "    border-color: transparent;\n",
              "    border-bottom-color: var(--fill-color);\n",
              "    animation:\n",
              "      spin 1s steps(1) infinite;\n",
              "  }\n",
              "\n",
              "  @keyframes spin {\n",
              "    0% {\n",
              "      border-color: transparent;\n",
              "      border-bottom-color: var(--fill-color);\n",
              "      border-left-color: var(--fill-color);\n",
              "    }\n",
              "    20% {\n",
              "      border-color: transparent;\n",
              "      border-left-color: var(--fill-color);\n",
              "      border-top-color: var(--fill-color);\n",
              "    }\n",
              "    30% {\n",
              "      border-color: transparent;\n",
              "      border-left-color: var(--fill-color);\n",
              "      border-top-color: var(--fill-color);\n",
              "      border-right-color: var(--fill-color);\n",
              "    }\n",
              "    40% {\n",
              "      border-color: transparent;\n",
              "      border-right-color: var(--fill-color);\n",
              "      border-top-color: var(--fill-color);\n",
              "    }\n",
              "    60% {\n",
              "      border-color: transparent;\n",
              "      border-right-color: var(--fill-color);\n",
              "    }\n",
              "    80% {\n",
              "      border-color: transparent;\n",
              "      border-right-color: var(--fill-color);\n",
              "      border-bottom-color: var(--fill-color);\n",
              "    }\n",
              "    90% {\n",
              "      border-color: transparent;\n",
              "      border-bottom-color: var(--fill-color);\n",
              "    }\n",
              "  }\n",
              "</style>\n",
              "\n",
              "  <script>\n",
              "    async function quickchart(key) {\n",
              "      const quickchartButtonEl =\n",
              "        document.querySelector('#' + key + ' button');\n",
              "      quickchartButtonEl.disabled = true;  // To prevent multiple clicks.\n",
              "      quickchartButtonEl.classList.add('colab-df-spinner');\n",
              "      try {\n",
              "        const charts = await google.colab.kernel.invokeFunction(\n",
              "            'suggestCharts', [key], {});\n",
              "      } catch (error) {\n",
              "        console.error('Error during call to suggestCharts:', error);\n",
              "      }\n",
              "      quickchartButtonEl.classList.remove('colab-df-spinner');\n",
              "      quickchartButtonEl.classList.add('colab-df-quickchart-complete');\n",
              "    }\n",
              "    (() => {\n",
              "      let quickchartButtonEl =\n",
              "        document.querySelector('#df-402613d3-0c39-44c8-9f7d-04c5a4f2d610 button');\n",
              "      quickchartButtonEl.style.display =\n",
              "        google.colab.kernel.accessAllowed ? 'block' : 'none';\n",
              "    })();\n",
              "  </script>\n",
              "</div>\n",
              "\n",
              "    </div>\n",
              "  </div>\n"
            ],
            "application/vnd.google.colaboratory.intrinsic+json": {
              "type": "dataframe",
              "variable_name": "df"
            }
          },
          "metadata": {},
          "execution_count": 35
        }
      ]
    },
    {
      "cell_type": "code",
      "source": [
        "def regression_analysis(columns, target, test_size):\n",
        "  \"\"\"\n",
        "  Performs linear regression analysis on a given DataFrame.\n",
        "\n",
        "  Args:\n",
        "    columns: A list of column names to use as independent variables.\n",
        "    target: The name of the target variable.\n",
        "    test_size: The proportion of the data to use for testing.\n",
        "\n",
        "  Returns:\n",
        "    A tuple containing:\n",
        "      - X: The DataFrame of independent variables after one-hot encoding.\n",
        "      - X_train: The training set of independent variables.\n",
        "      - X_test: The test set of independent variables.\n",
        "      - y_train: The training set of the target variable.\n",
        "      - y_test: The test set of the target variable.\n",
        "\n",
        "  This function performs the following steps:\n",
        "\n",
        "    1. Extracts the independent variables (X) and the target variable (y) from the DataFrame.\n",
        "    2. Performs one-hot encoding on the independent variables using `pd.get_dummies`.\n",
        "    3. Splits the data into training and testing sets using `train_test_split`.\n",
        "    4. Fits an Ordinary Least Squares (OLS) regression model using `statsmodels.OLS`.\n",
        "    5. Prints the regression summary.\n",
        "    6. Predicts the target variable for the test set.\n",
        "    7. Calculates and prints the Mean Squared Error (MSE) and R-squared.\n",
        "\n",
        "  \"\"\"\n",
        "  X = df[columns]\n",
        "  y = df[target]\n",
        "\n",
        "  X = pd.get_dummies(X, drop_first=True).astype(int)\n",
        "  print(\"Independent data:\\n\", X.head())\n",
        "  X_train, X_test, y_train, y_test = train_test_split(X, y, test_size=test_size, random_state=42)\n",
        "\n",
        "  print(\"\\nTrain set size:\", X_train.shape[0])\n",
        "  print(\"Test set size:\", X_test.shape[0])\n",
        "\n",
        "  X_train_const = sm.add_constant(X_train)\n",
        "\n",
        "  model = sm.OLS(y_train, X_train_const).fit()\n",
        "\n",
        "  print(f\"\\nRegression analysis with the columns: {columns}\\n\\n{model.summary()}\\n\")\n",
        "\n",
        "  # Add a constant to the test set\n",
        "  X_test_const = sm.add_constant(X_test)\n",
        "\n",
        "  # Predict the values of `total ads` for the test data\n",
        "  y_pred = model.predict(X_test_const)\n",
        "\n",
        "  mse = mean_squared_error(y_test, y_pred)\n",
        "  r2 = r2_score(y_test, y_pred)\n",
        "\n",
        "  print(\"\\nMean Squared Error (MSE):\", mse)\n",
        "  print(\"\\nR-squared:\", r2)\n",
        "\n",
        "  return X, X_train, X_test, y_train, y_test"
      ],
      "metadata": {
        "id": "Ard38J7vWN4R"
      },
      "execution_count": null,
      "outputs": []
    },
    {
      "cell_type": "markdown",
      "source": [
        "### **Analysis with a Single Variable ```most ads hour```**\n"
      ],
      "metadata": {
        "id": "t3RTJGCvIPsN"
      }
    },
    {
      "cell_type": "code",
      "source": [
        "X_single, X_train_single, X_test_single, y_train_single, y_test_single = regression_analysis(columns = ['most ads hour'], target = 'total ads',\n",
        "                                                                                             test_size = 0.10)"
      ],
      "metadata": {
        "colab": {
          "base_uri": "https://localhost:8080/"
        },
        "id": "qPLTYB34XHlh",
        "outputId": "576b7139-d6ad-4e4c-fa7b-fa1f8bafd761"
      },
      "execution_count": null,
      "outputs": [
        {
          "output_type": "stream",
          "name": "stdout",
          "text": [
            "Independent data:\n",
            "    most ads hour\n",
            "0             20\n",
            "1             22\n",
            "2             18\n",
            "3             14\n",
            "4             13\n",
            "\n",
            "Train set size: 526655\n",
            "Test set size: 58518\n",
            "\n",
            "Regression analysis with the columns: ['most ads hour']\n",
            "\n",
            "                            OLS Regression Results                            \n",
            "==============================================================================\n",
            "Dep. Variable:              total ads   R-squared:                       0.000\n",
            "Model:                            OLS   Adj. R-squared:                  0.000\n",
            "Method:                 Least Squares   F-statistic:                     15.44\n",
            "Date:                Mon, 06 Jan 2025   Prob (F-statistic):           8.53e-05\n",
            "Time:                        07:49:59   Log-Likelihood:            -2.5676e+06\n",
            "No. Observations:              526655   AIC:                         5.135e+06\n",
            "Df Residuals:                  526653   BIC:                         5.135e+06\n",
            "Df Model:                           1                                         \n",
            "Covariance Type:            nonrobust                                         \n",
            "=================================================================================\n",
            "                    coef    std err          t      P>|t|      [0.025      0.975]\n",
            "---------------------------------------------------------------------------------\n",
            "const            23.3560      0.138    169.354      0.000      23.086      23.626\n",
            "most ads hour    -0.0355      0.009     -3.929      0.000      -0.053      -0.018\n",
            "==============================================================================\n",
            "Omnibus:                   368075.445   Durbin-Watson:                   1.999\n",
            "Prob(Omnibus):                  0.000   Jarque-Bera (JB):          5441137.966\n",
            "Skew:                           3.282   Prob(JB):                         0.00\n",
            "Kurtosis:                      17.313   Cond. No.                         48.4\n",
            "==============================================================================\n",
            "\n",
            "Notes:\n",
            "[1] Standard Errors assume that the covariance matrix of the errors is correctly specified.\n",
            "\n",
            "\n",
            "Mean Squared Error (MSE): 1029.0116063906103\n",
            "\n",
            "R-squared: 0.00011014758332617003\n"
          ]
        }
      ]
    },
    {
      "cell_type": "markdown",
      "source": [
        "#### **Key Inferences with One Predictor:**\n",
        "\n",
        "1. **Weak Relationship:**\n",
        "   - The R-squared value is extremely low (0.0001). This indicates that the model explains only a tiny fraction of the variance in the dependent variable (\"total ads\") using the independent variable (\"most ads hour\").\n",
        "   - In other words, \"most ads hour\" has a very weak predictive power for \"total ads.\"\n",
        "\n",
        "2. **Statistically Significant Coefficient:**\n",
        "   - The coefficient for \"most ads hour\" is -0.0355, and its p-value is statistically significant (p < 0.001). This suggests that there is a statistically significant negative relationship between \"most ads hour\" and \"total ads.\"\n",
        "   - However, given the very low R-squared, the practical significance of this relationship is likely minimal.\n",
        "\n",
        "3. **Other Observations:**\n",
        "   - The intercept (const) is 23.3560.\n",
        "   - The standard errors for both the intercept and \"most ads hour\" are relatively small.\n",
        "   - The Durbin-Watson statistic is close to 2, suggesting little to no autocorrelation in the residuals.\n",
        "   - The Jarque-Bera test indicates that the residuals are not normally distributed.\n",
        "\n",
        "**Overall:**\n",
        "\n",
        "The regression analysis reveals a statistically significant but practically insignificant negative relationship between \"most ads hour\" and \"total ads.\" The model's ability to predict \"total ads\" based on \"most ads hour\" is very limited."
      ],
      "metadata": {
        "id": "NOfZtIKVUT9t"
      }
    },
    {
      "cell_type": "markdown",
      "source": [
        "### **Analysis with Two Variable ```most ads hour``` and ```most ads day```**"
      ],
      "metadata": {
        "id": "7GygMW0kIkT1"
      }
    },
    {
      "cell_type": "code",
      "source": [
        "X_double, X_train_double, X_test_double, y_train_double, y_test_double = regression_analysis(columns = ['most ads hour', 'most ads day'],\n",
        "                                                                                             target = 'total ads', test_size = 0.10)"
      ],
      "metadata": {
        "colab": {
          "base_uri": "https://localhost:8080/"
        },
        "id": "QmviQ18FVbW3",
        "outputId": "f7effe92-622f-4592-c657-186d3dac6496"
      },
      "execution_count": null,
      "outputs": [
        {
          "output_type": "stream",
          "name": "stdout",
          "text": [
            "Independent data:\n",
            "    most ads hour  most ads day_Monday  most ads day_Saturday  \\\n",
            "0             20                    1                      0   \n",
            "1             22                    0                      0   \n",
            "2             18                    0                      0   \n",
            "3             14                    0                      0   \n",
            "4             13                    0                      0   \n",
            "\n",
            "   most ads day_Sunday  most ads day_Thursday  most ads day_Tuesday  \\\n",
            "0                    0                      0                     0   \n",
            "1                    0                      0                     1   \n",
            "2                    0                      0                     1   \n",
            "3                    0                      0                     0   \n",
            "4                    0                      0                     0   \n",
            "\n",
            "   most ads day_Wednesday  \n",
            "0                       0  \n",
            "1                       0  \n",
            "2                       0  \n",
            "3                       0  \n",
            "4                       1  \n",
            "\n",
            "Train set size: 526655\n",
            "Test set size: 58518\n",
            "\n",
            "Regression analysis with the columns: ['most ads hour', 'most ads day']\n",
            "\n",
            "                            OLS Regression Results                            \n",
            "==============================================================================\n",
            "Dep. Variable:              total ads   R-squared:                       0.001\n",
            "Model:                            OLS   Adj. R-squared:                  0.001\n",
            "Method:                 Least Squares   F-statistic:                     43.45\n",
            "Date:                Mon, 06 Jan 2025   Prob (F-statistic):           8.28e-62\n",
            "Time:                        07:50:00   Log-Likelihood:            -2.5674e+06\n",
            "No. Observations:              526655   AIC:                         5.135e+06\n",
            "Df Residuals:                  526647   BIC:                         5.135e+06\n",
            "Df Model:                           7                                         \n",
            "Covariance Type:            nonrobust                                         \n",
            "==========================================================================================\n",
            "                             coef    std err          t      P>|t|      [0.025      0.975]\n",
            "------------------------------------------------------------------------------------------\n",
            "const                     24.4395      0.173    141.460      0.000      24.101      24.778\n",
            "most ads hour             -0.0392      0.009     -4.339      0.000      -0.057      -0.022\n",
            "most ads day_Monday       -1.0102      0.158     -6.382      0.000      -1.320      -0.700\n",
            "most ads day_Saturday     -0.3143      0.161     -1.954      0.051      -0.630       0.001\n",
            "most ads day_Sunday       -0.7349      0.159     -4.624      0.000      -1.046      -0.423\n",
            "most ads day_Thursday     -2.3553      0.160    -14.697      0.000      -2.669      -2.041\n",
            "most ads day_Tuesday      -1.4814      0.163     -9.071      0.000      -1.801      -1.161\n",
            "most ads day_Wednesday    -1.4638      0.161     -9.082      0.000      -1.780      -1.148\n",
            "==============================================================================\n",
            "Omnibus:                   368045.446   Durbin-Watson:                   1.999\n",
            "Prob(Omnibus):                  0.000   Jarque-Bera (JB):          5441527.218\n",
            "Skew:                           3.282   Prob(JB):                         0.00\n",
            "Kurtosis:                      17.314   Cond. No.                         111.\n",
            "==============================================================================\n",
            "\n",
            "Notes:\n",
            "[1] Standard Errors assume that the covariance matrix of the errors is correctly specified.\n",
            "\n",
            "\n",
            "Mean Squared Error (MSE): 1028.7013851181835\n",
            "\n",
            "R-squared: 0.00041158937501917237\n"
          ]
        }
      ]
    },
    {
      "cell_type": "markdown",
      "source": [
        "#### **Key Inferences with Two Predictors:**\n",
        "\n",
        "1. **Improved Model Fit:** Compared to the previous model with only \"most ads hour\", this model including \"most ads day\" shows a slight improvement in fit. The R-squared value has increased from 0.0001 to 0.001, indicating that the model now explains a slightly larger proportion of the variance in \"total ads\". However, the overall fit remains relatively weak.\n",
        "\n",
        "2. **Statistically Significant Coefficients:**\n",
        "   - Both \"most ads hour\" and the dummy variables for \"most ads day\" (Monday, Saturday, Sunday, Thursday, Tuesday, Wednesday) are statistically significant (p-values < 0.05). This suggests that both the hour of the day and the day of the week when the most ads were viewed are associated with the total number of ads viewed.\n",
        "\n",
        "3. **Interpretation of Coefficients:**\n",
        "   - The negative coefficient for \"most ads hour\" (-0.0392) indicates that, on average, for each additional hour later in the day when the most ads were viewed, the total number of ads viewed tends to decrease slightly.\n",
        "   - The negative coefficients for the \"most ads day\" dummy variables suggest that, compared to the reference category (which is likely \"Friday\" based on the previous pie chart analysis), users tend to view fewer total ads when their \"most ads day\" falls on these specific days.\n",
        "\n",
        "4. **Other Observations:**\n",
        "   - The intercept (const) is 24.4395.\n",
        "   - The standard errors for all coefficients are relatively small.\n",
        "   - The Durbin-Watson statistic is close to 2, suggesting little to no autocorrelation in the residuals.\n",
        "   - The Jarque-Bera test indicates that the residuals are not normally distributed.\n",
        "\n",
        "**Overall:**\n",
        "\n",
        "The regression analysis suggests that both the \"most ads hour\" and the \"most ads day\" are statistically significant predictors of \"total ads,\" although the overall model fit remains weak. Further analysis is needed to explore other potential predictors and improve model performance."
      ],
      "metadata": {
        "id": "3B10_IW5VEd9"
      }
    },
    {
      "cell_type": "markdown",
      "source": [
        "### **Analysis with All Variables ```most ads hour```, ```most ads day``` and ```converted```**\n",
        "\n",
        "The ```test group``` cannot be a valid predictor as it is created for A/B testing specificly."
      ],
      "metadata": {
        "id": "V8sWlGXjIu-k"
      }
    },
    {
      "cell_type": "code",
      "source": [
        "X_all, X_train_all, X_test_all, y_train_all, y_test_all = regression_analysis(columns = ['most ads hour', 'most ads day', 'converted'],\n",
        "                                                                              target = 'total ads', test_size = 0.10)"
      ],
      "metadata": {
        "colab": {
          "base_uri": "https://localhost:8080/"
        },
        "id": "XSd8jGPBY_qe",
        "outputId": "c4f8729b-0cac-4c6f-ab14-a7049acdfc85"
      },
      "execution_count": null,
      "outputs": [
        {
          "output_type": "stream",
          "name": "stdout",
          "text": [
            "Independent data:\n",
            "    most ads hour  converted  most ads day_Monday  most ads day_Saturday  \\\n",
            "0             20          0                    1                      0   \n",
            "1             22          0                    0                      0   \n",
            "2             18          0                    0                      0   \n",
            "3             14          0                    0                      0   \n",
            "4             13          0                    0                      0   \n",
            "\n",
            "   most ads day_Sunday  most ads day_Thursday  most ads day_Tuesday  \\\n",
            "0                    0                      0                     0   \n",
            "1                    0                      0                     1   \n",
            "2                    0                      0                     1   \n",
            "3                    0                      0                     0   \n",
            "4                    0                      0                     0   \n",
            "\n",
            "   most ads day_Wednesday  \n",
            "0                       0  \n",
            "1                       0  \n",
            "2                       0  \n",
            "3                       0  \n",
            "4                       1  \n",
            "\n",
            "Train set size: 526655\n",
            "Test set size: 58518\n",
            "\n",
            "Regression analysis with the columns: ['most ads hour', 'most ads day', 'converted']\n",
            "\n",
            "                            OLS Regression Results                            \n",
            "==============================================================================\n",
            "Dep. Variable:              total ads   R-squared:                       0.063\n",
            "Model:                            OLS   Adj. R-squared:                  0.063\n",
            "Method:                 Least Squares   F-statistic:                     4419.\n",
            "Date:                Mon, 06 Jan 2025   Prob (F-statistic):               0.00\n",
            "Time:                        07:50:01   Log-Likelihood:            -2.5505e+06\n",
            "No. Observations:              526655   AIC:                         5.101e+06\n",
            "Df Residuals:                  526646   BIC:                         5.101e+06\n",
            "Df Model:                           8                                         \n",
            "Covariance Type:            nonrobust                                         \n",
            "==========================================================================================\n",
            "                             coef    std err          t      P>|t|      [0.025      0.975]\n",
            "------------------------------------------------------------------------------------------\n",
            "const                     23.8457      0.167    142.514      0.000      23.518      24.174\n",
            "most ads hour             -0.0730      0.009     -8.336      0.000      -0.090      -0.056\n",
            "converted                 51.2201      0.274    187.163      0.000      50.684      51.757\n",
            "most ads day_Monday       -1.5504      0.153    -10.113      0.000      -1.851      -1.250\n",
            "most ads day_Saturday     -0.2771      0.156     -1.778      0.075      -0.582       0.028\n",
            "most ads day_Sunday       -0.8840      0.154     -5.743      0.000      -1.186      -0.582\n",
            "most ads day_Thursday     -2.3435      0.155    -15.102      0.000      -2.648      -2.039\n",
            "most ads day_Tuesday      -1.8930      0.158    -11.970      0.000      -2.203      -1.583\n",
            "most ads day_Wednesday    -1.6324      0.156    -10.458      0.000      -1.938      -1.326\n",
            "==============================================================================\n",
            "Omnibus:                   369873.819   Durbin-Watson:                   1.999\n",
            "Prob(Omnibus):                  0.000   Jarque-Bera (JB):          5852505.086\n",
            "Skew:                           3.275   Prob(JB):                         0.00\n",
            "Kurtosis:                      17.960   Cond. No.                         111.\n",
            "==============================================================================\n",
            "\n",
            "Notes:\n",
            "[1] Standard Errors assume that the covariance matrix of the errors is correctly specified.\n",
            "\n",
            "\n",
            "Mean Squared Error (MSE): 963.0054116416654\n",
            "\n",
            "R-squared: 0.06424832048266627\n"
          ]
        }
      ]
    },
    {
      "cell_type": "markdown",
      "source": [
        "#### **Key Inferences with All Predictors:**\n",
        "\n",
        "1. **Improved Model Fit:** Compared to the previous models, this model including \"converted\" as an additional predictor shows a substantial improvement in fit. The R-squared value has increased to 0.0642, indicating that the model now explains a larger proportion of the variance in \"total ads.\"\n",
        "\n",
        "2. **Statistically Significant Coefficients:**\n",
        "    - \"most ads hour\", \"most ads day\" dummy variables (Monday, Saturday, Sunday, Thursday, Tuesday, Wednesday), and \"converted\" are all statistically significant (p-values < 0.05). This suggests that all these variables are associated with the total number of ads viewed.\n",
        "\n",
        "3. **Interpretation of Coefficients:**\n",
        "    - The negative coefficient for \"most ads hour\" (-0.1201) indicates that, on average, for each additional hour later in the day when the most ads were viewed, the total number of ads viewed tends to decrease.\n",
        "    - The negative coefficients for the \"most ads day\" dummy variables suggest that, compared to the reference category (likely \"Friday\"), users tend to view fewer total ads when their \"most ads day\" falls on these specific days.\n",
        "    - The positive and highly significant coefficient for \"converted\" (51.2201) suggests that users who have converted (likely to a specific action, such as making a purchase) tend to view a substantially higher number of ads compared to those who have not converted.\n",
        "\n",
        "4. **Other Observations:**\n",
        "    - The intercept (const) is 23.8457.\n",
        "    - The standard errors for all coefficients are relatively small.\n",
        "    - The Durbin-Watson statistic is close to 2, suggesting little to no autocorrelation in the residuals.\n",
        "    - The Jarque-Bera test indicates that the residuals are not normally distributed.\n",
        "\n",
        "**Overall:**\n",
        "\n",
        "The regression analysis suggests that the \"most ads hour\", \"most ads day\", and \"converted\" are all statistically significant predictors of \"total ads.\" The inclusion of the \"converted\" variable significantly improves the model's fit, indicating that conversion status has a strong influence on the total number of ads viewed."
      ],
      "metadata": {
        "id": "cO4W_vxlVfy3"
      }
    },
    {
      "cell_type": "markdown",
      "source": [
        "### **Analysis with All Variables + ```test group```**\n",
        "\n",
        "To see about the evidence of the A/B testing result"
      ],
      "metadata": {
        "id": "YKO015afJSkF"
      }
    },
    {
      "cell_type": "code",
      "source": [
        "df['test group'] = df['test group'].map({'ad': 0, 'psa': 1})\n",
        "\n",
        "X_group, X_train_group, X_test_group, y_train_group, y_test_group = regression_analysis(columns = ['test group', 'most ads hour', 'most ads day', 'converted'],\n",
        "                                                                                        target = 'total ads', test_size = 0.10)"
      ],
      "metadata": {
        "colab": {
          "base_uri": "https://localhost:8080/"
        },
        "id": "fziRlIWAZmof",
        "outputId": "21b8e2db-cbec-492a-a1a4-e1abae05b895"
      },
      "execution_count": null,
      "outputs": [
        {
          "output_type": "stream",
          "name": "stdout",
          "text": [
            "Independent data:\n",
            "    test group  most ads hour  converted  most ads day_Monday  \\\n",
            "0           0             20          0                    1   \n",
            "1           0             22          0                    0   \n",
            "2           0             18          0                    0   \n",
            "3           0             14          0                    0   \n",
            "4           0             13          0                    0   \n",
            "\n",
            "   most ads day_Saturday  most ads day_Sunday  most ads day_Thursday  \\\n",
            "0                      0                    0                      0   \n",
            "1                      0                    0                      0   \n",
            "2                      0                    0                      0   \n",
            "3                      0                    0                      0   \n",
            "4                      0                    0                      0   \n",
            "\n",
            "   most ads day_Tuesday  most ads day_Wednesday  \n",
            "0                     0                       0  \n",
            "1                     1                       0  \n",
            "2                     1                       0  \n",
            "3                     0                       0  \n",
            "4                     0                       1  \n",
            "\n",
            "Train set size: 526655\n",
            "Test set size: 58518\n",
            "\n",
            "Regression analysis with the columns: ['test group', 'most ads hour', 'most ads day', 'converted']\n",
            "\n",
            "                            OLS Regression Results                            \n",
            "==============================================================================\n",
            "Dep. Variable:              total ads   R-squared:                       0.063\n",
            "Model:                            OLS   Adj. R-squared:                  0.063\n",
            "Method:                 Least Squares   F-statistic:                     3929.\n",
            "Date:                Mon, 06 Jan 2025   Prob (F-statistic):               0.00\n",
            "Time:                        07:50:01   Log-Likelihood:            -2.5505e+06\n",
            "No. Observations:              526655   AIC:                         5.101e+06\n",
            "Df Residuals:                  526645   BIC:                         5.101e+06\n",
            "Df Model:                           9                                         \n",
            "Covariance Type:            nonrobust                                         \n",
            "==========================================================================================\n",
            "                             coef    std err          t      P>|t|      [0.025      0.975]\n",
            "------------------------------------------------------------------------------------------\n",
            "const                     23.8235      0.168    142.140      0.000      23.495      24.152\n",
            "test group                 0.4894      0.216      2.268      0.023       0.066       0.912\n",
            "most ads hour             -0.0729      0.009     -8.320      0.000      -0.090      -0.056\n",
            "converted                 51.2261      0.274    187.177      0.000      50.690      51.762\n",
            "most ads day_Monday       -1.5500      0.153    -10.111      0.000      -1.851      -1.250\n",
            "most ads day_Saturday     -0.2743      0.156     -1.761      0.078      -0.580       0.031\n",
            "most ads day_Sunday       -0.8816      0.154     -5.728      0.000      -1.183      -0.580\n",
            "most ads day_Thursday     -2.3465      0.155    -15.121      0.000      -2.651      -2.042\n",
            "most ads day_Tuesday      -1.8916      0.158    -11.960      0.000      -2.202      -1.582\n",
            "most ads day_Wednesday    -1.6334      0.156    -10.465      0.000      -1.939      -1.327\n",
            "==============================================================================\n",
            "Omnibus:                   369854.344   Durbin-Watson:                   1.999\n",
            "Prob(Omnibus):                  0.000   Jarque-Bera (JB):          5851755.587\n",
            "Skew:                           3.275   Prob(JB):                         0.00\n",
            "Kurtosis:                      17.959   Cond. No.                         111.\n",
            "==============================================================================\n",
            "\n",
            "Notes:\n",
            "[1] Standard Errors assume that the covariance matrix of the errors is correctly specified.\n",
            "\n",
            "\n",
            "Mean Squared Error (MSE): 962.990054794118\n",
            "\n",
            "R-squared: 0.06426324272060058\n"
          ]
        }
      ]
    },
    {
      "cell_type": "markdown",
      "source": [
        "#### **Key Inferences with All Predictors + test group:**\n",
        "\n",
        "1. **Improved Model Fit:** Compared to the previous models, this model including \"test group\" as an additional predictor shows a slight improvement in fit. The R-squared value has increased from 0.0642 to 0.0643, indicating that the model now explains a slightly larger proportion of the variance in \"total ads.\"\n",
        "\n",
        "2. **Statistically Significant Coefficients:**\n",
        "    - \"most ads hour\", \"most ads day\" dummy variables (Monday, Saturday, Sunday, Thursday, Tuesday, Wednesday), \"converted\", and \"test group\" are all statistically significant (p-values < 0.05). This suggests that all these variables are associated with the total number of ads viewed.\n",
        "\n",
        "3. **Interpretation of Coefficients:**\n",
        "    - The negative coefficient for \"most ads hour\" (-0.0729) indicates that, on average, for each additional hour later in the day when the most ads were viewed, the total number of ads viewed tends to decrease.\n",
        "    - The negative coefficients for the \"most ads day\" dummy variables suggest that, compared to the reference category (likely \"Friday\"), users tend to view fewer total ads when their \"most ads day\" falls on these specific days.\n",
        "    - The positive and highly significant coefficient for \"converted\" (51.2261) suggests that users who have converted (likely to a specific action, such as making a purchase) tend to view a substantially higher number of ads compared to those who have not converted.\n",
        "    - The positive coefficient for \"test group\" (0.4894) indicates that, on average, users in the test group tend to view slightly more ads compared to the control group, after controlling for other factors in the model.\n",
        "\n",
        "4. **Other Observations:**\n",
        "    - The intercept (const) is 23.8235.\n",
        "    - The standard errors for all coefficients are relatively small.\n",
        "    - The Durbin-Watson statistic is close to 2, suggesting little to no autocorrelation in the residuals.\n",
        "    - The Jarque-Bera test indicates that the residuals are not normally distributed.\n",
        "\n",
        "**Overall:**\n",
        "\n",
        "The regression analysis suggests that \"most ads hour\", \"most ads day\", \"converted\", and \"test group\" are all statistically significant predictors of \"total ads.\" The inclusion of the \"test group\" variable provides some evidence of a slight difference in ad viewing behavior between the test and control groups, although the effect size is relatively small."
      ],
      "metadata": {
        "id": "muYpG-z5V4Ft"
      }
    },
    {
      "cell_type": "markdown",
      "source": [
        "### **Summary of Regression Analysis Results**\n",
        "\n",
        "1. **Model Fit**:\n",
        "   - Across the regression models, the overall fit improves with the addition of more predictors, as evidenced by increasing R-squared values:\n",
        "     - **Model 1 (Single Predictor)**: \\( R^2 = 0.0001 \\), indicating almost no explanatory power.\n",
        "     - **Model 2 (Two Predictors)**: \\( R^2 = 0.001 \\), showing a slight improvement.\n",
        "     - **Model 3 (Three Predictors)**: \\( R^2 = 0.0642 \\), reflecting a meaningful increase in variance explained.\n",
        "     - **Model 4 (Four Predictors)**: \\( R^2 = 0.0643 \\), showing a marginal improvement with the addition of the test group.\n",
        "\n",
        "2. **Key Predictors**:\n",
        "   - **Most Ads Hour**:\n",
        "     - A statistically significant but small negative relationship with \"total ads\" in all models. Later hours are associated with slightly fewer ads viewed.\n",
        "   - **Most Ads Day**:\n",
        "     - Statistically significant differences in ads viewed across days of the week. Compared to Friday (reference category), users tend to view fewer ads on other days.\n",
        "   - **Converted**:\n",
        "     - A strong positive predictor in Models 3 and 4. Users who convert tend to view significantly more ads (\\(+51.2\\)) compared to non-converters, contributing substantially to the model's explanatory power.\n",
        "   - **Test Group**:\n",
        "     - In Model 4, the test group is a statistically significant predictor. Users in the test group viewed slightly more ads (\\(+0.49\\)) than those in the control group, though the effect size is small.\n",
        "\n",
        "3. **Other Observations**:\n",
        "   - The intercept across models remains relatively stable, around 23.8–24.4, indicating the baseline number of ads viewed when all predictors are zero.\n",
        "   - Residuals are not normally distributed in all models, as indicated by the Jarque-Bera test, suggesting potential model assumptions are not fully met.\n",
        "   - The Durbin-Watson statistic (~2) suggests no significant autocorrelation in residuals.\n",
        "\n",
        "4. **Practical Implications**:\n",
        "   - The variable \"converted\" is the most impactful predictor, significantly influencing the total ads viewed.\n",
        "   - \"Most ads hour\" and \"most ads day\" provide statistically significant but minor contributions.\n",
        "   - The test group effect is small, indicating minimal practical difference in ad viewing behavior between test and control groups after accounting for other factors.\n",
        "\n",
        "#### **Conclusion:**\n",
        "The regression analyses reveal that while several variables are statistically significant predictors of \"total ads,\" the overall predictive power of the models remains weak to moderate. The key driver of ads viewed is user conversion status, with other variables having smaller practical significance. Further refinement and exploration of additional predictors may be needed to enhance model performance."
      ],
      "metadata": {
        "id": "ti2TLVkjXBV-"
      }
    },
    {
      "cell_type": "markdown",
      "source": [
        "## **Linear Regression Model**\n",
        "\n",
        "**Optional:** To see that whether it is possible to make any predictions or not..."
      ],
      "metadata": {
        "id": "gRqzRJpaJuh8"
      }
    },
    {
      "cell_type": "code",
      "source": [
        "X_train_all, X_test_all, y_train_all, y_test_all # Using all the predictors except the test group"
      ],
      "metadata": {
        "colab": {
          "base_uri": "https://localhost:8080/"
        },
        "id": "JmY4CERAaI59",
        "outputId": "5eb9f5bc-8730-47e1-85de-30288a690d47"
      },
      "execution_count": null,
      "outputs": [
        {
          "output_type": "execute_result",
          "data": {
            "text/plain": [
              "(        most ads hour  converted  most ads day_Monday  most ads day_Saturday  \\\n",
              " 394889             22          0                    0                      0   \n",
              " 201539             10          0                    0                      0   \n",
              " 545603             23          0                    1                      0   \n",
              " 482750             14          0                    0                      0   \n",
              " 145022             12          0                    0                      0   \n",
              " ...               ...        ...                  ...                    ...   \n",
              " 110268             13          0                    0                      0   \n",
              " 259178              8          0                    0                      0   \n",
              " 365838             23          0                    0                      0   \n",
              " 131932             11          0                    0                      0   \n",
              " 121958             19          0                    0                      0   \n",
              " \n",
              "         most ads day_Sunday  most ads day_Thursday  most ads day_Tuesday  \\\n",
              " 394889                    1                      0                     0   \n",
              " 201539                    0                      0                     0   \n",
              " 545603                    0                      0                     0   \n",
              " 482750                    0                      1                     0   \n",
              " 145022                    0                      0                     0   \n",
              " ...                     ...                    ...                   ...   \n",
              " 110268                    0                      0                     1   \n",
              " 259178                    0                      0                     1   \n",
              " 365838                    1                      0                     0   \n",
              " 131932                    1                      0                     0   \n",
              " 121958                    1                      0                     0   \n",
              " \n",
              "         most ads day_Wednesday  \n",
              " 394889                       0  \n",
              " 201539                       1  \n",
              " 545603                       0  \n",
              " 482750                       0  \n",
              " 145022                       0  \n",
              " ...                        ...  \n",
              " 110268                       0  \n",
              " 259178                       0  \n",
              " 365838                       0  \n",
              " 131932                       0  \n",
              " 121958                       0  \n",
              " \n",
              " [526655 rows x 8 columns],\n",
              "         most ads hour  converted  most ads day_Monday  most ads day_Saturday  \\\n",
              " 503879             15          0                    1                      0   \n",
              " 144261             19          0                    0                      0   \n",
              " 342734             16          0                    1                      0   \n",
              " 481998             15          0                    0                      0   \n",
              " 137741             14          0                    0                      0   \n",
              " ...               ...        ...                  ...                    ...   \n",
              " 253996             15          0                    0                      0   \n",
              " 210703             23          0                    0                      1   \n",
              " 484984             17          0                    0                      0   \n",
              " 172411             11          0                    0                      1   \n",
              " 229676             20          0                    0                      0   \n",
              " \n",
              "         most ads day_Sunday  most ads day_Thursday  most ads day_Tuesday  \\\n",
              " 503879                    0                      0                     0   \n",
              " 144261                    0                      1                     0   \n",
              " 342734                    0                      0                     0   \n",
              " 481998                    0                      1                     0   \n",
              " 137741                    0                      1                     0   \n",
              " ...                     ...                    ...                   ...   \n",
              " 253996                    0                      0                     1   \n",
              " 210703                    0                      0                     0   \n",
              " 484984                    0                      1                     0   \n",
              " 172411                    0                      0                     0   \n",
              " 229676                    0                      0                     0   \n",
              " \n",
              "         most ads day_Wednesday  \n",
              " 503879                       0  \n",
              " 144261                       0  \n",
              " 342734                       0  \n",
              " 481998                       0  \n",
              " 137741                       0  \n",
              " ...                        ...  \n",
              " 253996                       0  \n",
              " 210703                       0  \n",
              " 484984                       0  \n",
              " 172411                       0  \n",
              " 229676                       0  \n",
              " \n",
              " [58518 rows x 8 columns],\n",
              " 394889     12\n",
              " 201539      8\n",
              " 545603      9\n",
              " 482750      4\n",
              " 145022     38\n",
              "          ... \n",
              " 110268     19\n",
              " 259178     15\n",
              " 365838     11\n",
              " 131932    105\n",
              " 121958      1\n",
              " Name: total ads, Length: 526655, dtype: int64,\n",
              " 503879      8\n",
              " 144261    120\n",
              " 342734      7\n",
              " 481998     25\n",
              " 137741     19\n",
              "          ... \n",
              " 253996     48\n",
              " 210703     16\n",
              " 484984      4\n",
              " 172411      1\n",
              " 229676     32\n",
              " Name: total ads, Length: 58518, dtype: int64)"
            ]
          },
          "metadata": {},
          "execution_count": 41
        }
      ]
    },
    {
      "cell_type": "code",
      "source": [
        "# Define the column(s) that need to be scaled\n",
        "cols_to_scale = ['most ads hour']\n",
        "\n",
        "# Initialize the MinMaxScaler for feature scaling\n",
        "scaler = MinMaxScaler()\n",
        "\n",
        "# Scale the training dataset for the specified column(s) using MinMaxScaler\n",
        "X_train_all[cols_to_scale] = scaler.fit_transform(X_train_all[cols_to_scale])\n",
        "\n",
        "# Scale the test dataset using the parameters learned from the training dataset\n",
        "X_test_all[cols_to_scale] = scaler.transform(X_test_all[cols_to_scale])\n",
        "\n",
        "X_train_all, X_test_all"
      ],
      "metadata": {
        "colab": {
          "base_uri": "https://localhost:8080/"
        },
        "id": "m81i6BdxeKaN",
        "outputId": "cc8d62cc-6ba0-4932-f5b6-8d31eb23730d"
      },
      "execution_count": null,
      "outputs": [
        {
          "output_type": "execute_result",
          "data": {
            "text/plain": [
              "(        most ads hour  converted  most ads day_Monday  most ads day_Saturday  \\\n",
              " 394889       0.956522          0                    0                      0   \n",
              " 201539       0.434783          0                    0                      0   \n",
              " 545603       1.000000          0                    1                      0   \n",
              " 482750       0.608696          0                    0                      0   \n",
              " 145022       0.521739          0                    0                      0   \n",
              " ...               ...        ...                  ...                    ...   \n",
              " 110268       0.565217          0                    0                      0   \n",
              " 259178       0.347826          0                    0                      0   \n",
              " 365838       1.000000          0                    0                      0   \n",
              " 131932       0.478261          0                    0                      0   \n",
              " 121958       0.826087          0                    0                      0   \n",
              " \n",
              "         most ads day_Sunday  most ads day_Thursday  most ads day_Tuesday  \\\n",
              " 394889                    1                      0                     0   \n",
              " 201539                    0                      0                     0   \n",
              " 545603                    0                      0                     0   \n",
              " 482750                    0                      1                     0   \n",
              " 145022                    0                      0                     0   \n",
              " ...                     ...                    ...                   ...   \n",
              " 110268                    0                      0                     1   \n",
              " 259178                    0                      0                     1   \n",
              " 365838                    1                      0                     0   \n",
              " 131932                    1                      0                     0   \n",
              " 121958                    1                      0                     0   \n",
              " \n",
              "         most ads day_Wednesday  \n",
              " 394889                       0  \n",
              " 201539                       1  \n",
              " 545603                       0  \n",
              " 482750                       0  \n",
              " 145022                       0  \n",
              " ...                        ...  \n",
              " 110268                       0  \n",
              " 259178                       0  \n",
              " 365838                       0  \n",
              " 131932                       0  \n",
              " 121958                       0  \n",
              " \n",
              " [526655 rows x 8 columns],\n",
              "         most ads hour  converted  most ads day_Monday  most ads day_Saturday  \\\n",
              " 503879       0.652174          0                    1                      0   \n",
              " 144261       0.826087          0                    0                      0   \n",
              " 342734       0.695652          0                    1                      0   \n",
              " 481998       0.652174          0                    0                      0   \n",
              " 137741       0.608696          0                    0                      0   \n",
              " ...               ...        ...                  ...                    ...   \n",
              " 253996       0.652174          0                    0                      0   \n",
              " 210703       1.000000          0                    0                      1   \n",
              " 484984       0.739130          0                    0                      0   \n",
              " 172411       0.478261          0                    0                      1   \n",
              " 229676       0.869565          0                    0                      0   \n",
              " \n",
              "         most ads day_Sunday  most ads day_Thursday  most ads day_Tuesday  \\\n",
              " 503879                    0                      0                     0   \n",
              " 144261                    0                      1                     0   \n",
              " 342734                    0                      0                     0   \n",
              " 481998                    0                      1                     0   \n",
              " 137741                    0                      1                     0   \n",
              " ...                     ...                    ...                   ...   \n",
              " 253996                    0                      0                     1   \n",
              " 210703                    0                      0                     0   \n",
              " 484984                    0                      1                     0   \n",
              " 172411                    0                      0                     0   \n",
              " 229676                    0                      0                     0   \n",
              " \n",
              "         most ads day_Wednesday  \n",
              " 503879                       0  \n",
              " 144261                       0  \n",
              " 342734                       0  \n",
              " 481998                       0  \n",
              " 137741                       0  \n",
              " ...                        ...  \n",
              " 253996                       0  \n",
              " 210703                       0  \n",
              " 484984                       0  \n",
              " 172411                       0  \n",
              " 229676                       0  \n",
              " \n",
              " [58518 rows x 8 columns])"
            ]
          },
          "metadata": {},
          "execution_count": 42
        }
      ]
    },
    {
      "cell_type": "code",
      "source": [
        "# Check the types of the datasets conversion\n",
        "type(X_train_all), type(X_test_all), type(y_train_all), type(y_test_all)"
      ],
      "metadata": {
        "colab": {
          "base_uri": "https://localhost:8080/"
        },
        "id": "9ou1umUrfCgt",
        "outputId": "07b8d3c2-039a-41af-ff62-066961996462"
      },
      "execution_count": null,
      "outputs": [
        {
          "output_type": "execute_result",
          "data": {
            "text/plain": [
              "(pandas.core.frame.DataFrame,\n",
              " pandas.core.frame.DataFrame,\n",
              " pandas.core.series.Series,\n",
              " pandas.core.series.Series)"
            ]
          },
          "metadata": {},
          "execution_count": 43
        }
      ]
    },
    {
      "cell_type": "code",
      "source": [
        "# Convert the training and test datasets (features and target) to numpy arrays\n",
        "X_train_all, X_test_all, y_train_all, y_test_all = X_train_all.values, X_test_all.values, y_train_all.values, y_test_all.values\n",
        "\n",
        "type(X_train_all), type(X_test_all), type(y_train_all), type(y_test_all)"
      ],
      "metadata": {
        "colab": {
          "base_uri": "https://localhost:8080/"
        },
        "id": "6BtJZhQMfOFN",
        "outputId": "a37bae90-b21f-4e44-eecf-d410010dd06f"
      },
      "execution_count": null,
      "outputs": [
        {
          "output_type": "execute_result",
          "data": {
            "text/plain": [
              "(numpy.ndarray, numpy.ndarray, numpy.ndarray, numpy.ndarray)"
            ]
          },
          "metadata": {},
          "execution_count": 44
        }
      ]
    },
    {
      "cell_type": "code",
      "source": [
        "# Create a simple sequential neural network model\n",
        "model = tf.keras.models.Sequential([\n",
        "    # Add a Dense layer with 1 neuron and no activation function for regression\n",
        "    tf.keras.layers.Dense(1, input_shape=(X_train_all.shape[1],), activation=None)\n",
        "])\n",
        "\n",
        "# Compile the model with Adam optimizer, Mean Squared Error loss, and Mean Absolute Error as a metric\n",
        "model.compile(\n",
        "    optimizer=tf.keras.optimizers.Adam(learning_rate=0.01),\n",
        "    loss='mse',  # Mean Squared Error for regression problems\n",
        "    metrics=['mae']  # Mean Absolute Error for evaluation\n",
        ")\n",
        "\n",
        "# Train the model on the training dataset and validate it on the test dataset\n",
        "history = model.fit(\n",
        "    X_train_all, y_train_all,\n",
        "    epochs=100, # Train for 100 epochs\n",
        "    batch_size=32, # Use a batch size of 32\n",
        "    validation_data=(X_test_all, y_test_all), # Provide validation data\n",
        "    verbose=1  # Display progress\n",
        ")"
      ],
      "metadata": {
        "colab": {
          "base_uri": "https://localhost:8080/"
        },
        "id": "SwgMjstEfZQe",
        "outputId": "4ad9a052-e6eb-4327-f6b2-192b0cddbaa9"
      },
      "execution_count": null,
      "outputs": [
        {
          "output_type": "stream",
          "name": "stdout",
          "text": [
            "Epoch 1/100\n",
            "\u001b[1m16458/16458\u001b[0m \u001b[32m━━━━━━━━━━━━━━━━━━━━\u001b[0m\u001b[37m\u001b[0m \u001b[1m43s\u001b[0m 3ms/step - loss: 1032.3446 - mae: 19.2155 - val_loss: 966.8604 - val_mae: 19.1362\n",
            "Epoch 2/100\n",
            "\u001b[1m16458/16458\u001b[0m \u001b[32m━━━━━━━━━━━━━━━━━━━━\u001b[0m\u001b[37m\u001b[0m \u001b[1m67s\u001b[0m 2ms/step - loss: 945.4079 - mae: 19.1394 - val_loss: 963.5436 - val_mae: 19.1600\n",
            "Epoch 3/100\n",
            "\u001b[1m16458/16458\u001b[0m \u001b[32m━━━━━━━━━━━━━━━━━━━━\u001b[0m\u001b[37m\u001b[0m \u001b[1m42s\u001b[0m 2ms/step - loss: 941.4813 - mae: 19.1098 - val_loss: 963.1284 - val_mae: 19.3552\n",
            "Epoch 4/100\n",
            "\u001b[1m16458/16458\u001b[0m \u001b[32m━━━━━━━━━━━━━━━━━━━━\u001b[0m\u001b[37m\u001b[0m \u001b[1m29s\u001b[0m 2ms/step - loss: 944.2126 - mae: 19.1666 - val_loss: 963.0706 - val_mae: 19.1984\n",
            "Epoch 5/100\n",
            "\u001b[1m16458/16458\u001b[0m \u001b[32m━━━━━━━━━━━━━━━━━━━━\u001b[0m\u001b[37m\u001b[0m \u001b[1m41s\u001b[0m 2ms/step - loss: 937.4432 - mae: 19.1201 - val_loss: 962.9973 - val_mae: 19.2110\n",
            "Epoch 6/100\n",
            "\u001b[1m16458/16458\u001b[0m \u001b[32m━━━━━━━━━━━━━━━━━━━━\u001b[0m\u001b[37m\u001b[0m \u001b[1m40s\u001b[0m 2ms/step - loss: 938.9449 - mae: 19.1570 - val_loss: 963.1523 - val_mae: 19.3650\n",
            "Epoch 7/100\n",
            "\u001b[1m16458/16458\u001b[0m \u001b[32m━━━━━━━━━━━━━━━━━━━━\u001b[0m\u001b[37m\u001b[0m \u001b[1m28s\u001b[0m 2ms/step - loss: 948.4999 - mae: 19.2202 - val_loss: 963.0865 - val_mae: 19.2103\n",
            "Epoch 8/100\n",
            "\u001b[1m16458/16458\u001b[0m \u001b[32m━━━━━━━━━━━━━━━━━━━━\u001b[0m\u001b[37m\u001b[0m \u001b[1m41s\u001b[0m 2ms/step - loss: 945.9927 - mae: 19.2081 - val_loss: 963.0652 - val_mae: 19.2013\n",
            "Epoch 9/100\n",
            "\u001b[1m16458/16458\u001b[0m \u001b[32m━━━━━━━━━━━━━━━━━━━━\u001b[0m\u001b[37m\u001b[0m \u001b[1m41s\u001b[0m 2ms/step - loss: 940.9334 - mae: 19.1806 - val_loss: 963.1017 - val_mae: 19.2882\n",
            "Epoch 10/100\n",
            "\u001b[1m16458/16458\u001b[0m \u001b[32m━━━━━━━━━━━━━━━━━━━━\u001b[0m\u001b[37m\u001b[0m \u001b[1m28s\u001b[0m 2ms/step - loss: 940.2217 - mae: 19.1614 - val_loss: 963.0300 - val_mae: 19.2561\n",
            "Epoch 11/100\n",
            "\u001b[1m16458/16458\u001b[0m \u001b[32m━━━━━━━━━━━━━━━━━━━━\u001b[0m\u001b[37m\u001b[0m \u001b[1m41s\u001b[0m 2ms/step - loss: 939.3061 - mae: 19.1206 - val_loss: 963.0639 - val_mae: 19.1793\n",
            "Epoch 12/100\n",
            "\u001b[1m16458/16458\u001b[0m \u001b[32m━━━━━━━━━━━━━━━━━━━━\u001b[0m\u001b[37m\u001b[0m \u001b[1m28s\u001b[0m 2ms/step - loss: 944.8155 - mae: 19.1664 - val_loss: 963.4184 - val_mae: 19.0580\n",
            "Epoch 13/100\n",
            "\u001b[1m16458/16458\u001b[0m \u001b[32m━━━━━━━━━━━━━━━━━━━━\u001b[0m\u001b[37m\u001b[0m \u001b[1m30s\u001b[0m 2ms/step - loss: 944.5866 - mae: 19.1872 - val_loss: 963.1094 - val_mae: 19.2619\n",
            "Epoch 14/100\n",
            "\u001b[1m16458/16458\u001b[0m \u001b[32m━━━━━━━━━━━━━━━━━━━━\u001b[0m\u001b[37m\u001b[0m \u001b[1m40s\u001b[0m 2ms/step - loss: 941.4085 - mae: 19.1505 - val_loss: 963.0867 - val_mae: 19.1923\n",
            "Epoch 15/100\n",
            "\u001b[1m16458/16458\u001b[0m \u001b[32m━━━━━━━━━━━━━━━━━━━━\u001b[0m\u001b[37m\u001b[0m \u001b[1m28s\u001b[0m 2ms/step - loss: 943.8896 - mae: 19.1885 - val_loss: 963.0482 - val_mae: 19.2253\n",
            "Epoch 16/100\n",
            "\u001b[1m16458/16458\u001b[0m \u001b[32m━━━━━━━━━━━━━━━━━━━━\u001b[0m\u001b[37m\u001b[0m \u001b[1m42s\u001b[0m 2ms/step - loss: 938.0051 - mae: 19.1568 - val_loss: 963.1063 - val_mae: 19.1226\n",
            "Epoch 17/100\n",
            "\u001b[1m16458/16458\u001b[0m \u001b[32m━━━━━━━━━━━━━━━━━━━━\u001b[0m\u001b[37m\u001b[0m \u001b[1m29s\u001b[0m 2ms/step - loss: 944.1733 - mae: 19.1862 - val_loss: 963.1565 - val_mae: 19.3224\n",
            "Epoch 18/100\n",
            "\u001b[1m16458/16458\u001b[0m \u001b[32m━━━━━━━━━━━━━━━━━━━━\u001b[0m\u001b[37m\u001b[0m \u001b[1m30s\u001b[0m 2ms/step - loss: 933.3777 - mae: 19.0944 - val_loss: 963.5756 - val_mae: 19.0407\n",
            "Epoch 19/100\n",
            "\u001b[1m16458/16458\u001b[0m \u001b[32m━━━━━━━━━━━━━━━━━━━━\u001b[0m\u001b[37m\u001b[0m \u001b[1m31s\u001b[0m 2ms/step - loss: 932.8563 - mae: 19.0918 - val_loss: 962.9536 - val_mae: 19.2556\n",
            "Epoch 20/100\n",
            "\u001b[1m16458/16458\u001b[0m \u001b[32m━━━━━━━━━━━━━━━━━━━━\u001b[0m\u001b[37m\u001b[0m \u001b[1m40s\u001b[0m 2ms/step - loss: 949.2966 - mae: 19.2251 - val_loss: 963.0993 - val_mae: 19.3255\n",
            "Epoch 21/100\n",
            "\u001b[1m16458/16458\u001b[0m \u001b[32m━━━━━━━━━━━━━━━━━━━━\u001b[0m\u001b[37m\u001b[0m \u001b[1m31s\u001b[0m 2ms/step - loss: 935.0833 - mae: 19.1523 - val_loss: 963.1810 - val_mae: 19.2272\n",
            "Epoch 22/100\n",
            "\u001b[1m16458/16458\u001b[0m \u001b[32m━━━━━━━━━━━━━━━━━━━━\u001b[0m\u001b[37m\u001b[0m \u001b[1m29s\u001b[0m 2ms/step - loss: 948.9156 - mae: 19.2129 - val_loss: 963.0385 - val_mae: 19.1514\n",
            "Epoch 23/100\n",
            "\u001b[1m16458/16458\u001b[0m \u001b[32m━━━━━━━━━━━━━━━━━━━━\u001b[0m\u001b[37m\u001b[0m \u001b[1m29s\u001b[0m 2ms/step - loss: 939.5400 - mae: 19.1680 - val_loss: 962.9858 - val_mae: 19.2769\n",
            "Epoch 24/100\n",
            "\u001b[1m16458/16458\u001b[0m \u001b[32m━━━━━━━━━━━━━━━━━━━━\u001b[0m\u001b[37m\u001b[0m \u001b[1m41s\u001b[0m 2ms/step - loss: 939.6090 - mae: 19.1500 - val_loss: 963.2380 - val_mae: 19.1809\n",
            "Epoch 25/100\n",
            "\u001b[1m16458/16458\u001b[0m \u001b[32m━━━━━━━━━━━━━━━━━━━━\u001b[0m\u001b[37m\u001b[0m \u001b[1m29s\u001b[0m 2ms/step - loss: 937.2457 - mae: 19.1067 - val_loss: 963.3235 - val_mae: 19.1240\n",
            "Epoch 26/100\n",
            "\u001b[1m16458/16458\u001b[0m \u001b[32m━━━━━━━━━━━━━━━━━━━━\u001b[0m\u001b[37m\u001b[0m \u001b[1m41s\u001b[0m 2ms/step - loss: 931.2180 - mae: 19.1076 - val_loss: 963.2172 - val_mae: 19.1941\n",
            "Epoch 27/100\n",
            "\u001b[1m16458/16458\u001b[0m \u001b[32m━━━━━━━━━━━━━━━━━━━━\u001b[0m\u001b[37m\u001b[0m \u001b[1m43s\u001b[0m 2ms/step - loss: 932.7377 - mae: 19.1017 - val_loss: 962.9932 - val_mae: 19.2004\n",
            "Epoch 28/100\n",
            "\u001b[1m16458/16458\u001b[0m \u001b[32m━━━━━━━━━━━━━━━━━━━━\u001b[0m\u001b[37m\u001b[0m \u001b[1m28s\u001b[0m 2ms/step - loss: 945.7320 - mae: 19.1985 - val_loss: 963.1662 - val_mae: 19.2394\n",
            "Epoch 29/100\n",
            "\u001b[1m16458/16458\u001b[0m \u001b[32m━━━━━━━━━━━━━━━━━━━━\u001b[0m\u001b[37m\u001b[0m \u001b[1m41s\u001b[0m 2ms/step - loss: 944.2646 - mae: 19.1953 - val_loss: 963.0132 - val_mae: 19.2257\n",
            "Epoch 30/100\n",
            "\u001b[1m16458/16458\u001b[0m \u001b[32m━━━━━━━━━━━━━━━━━━━━\u001b[0m\u001b[37m\u001b[0m \u001b[1m43s\u001b[0m 2ms/step - loss: 943.6799 - mae: 19.1814 - val_loss: 963.0386 - val_mae: 19.2238\n",
            "Epoch 31/100\n",
            "\u001b[1m16458/16458\u001b[0m \u001b[32m━━━━━━━━━━━━━━━━━━━━\u001b[0m\u001b[37m\u001b[0m \u001b[1m29s\u001b[0m 2ms/step - loss: 934.8796 - mae: 19.1276 - val_loss: 962.9910 - val_mae: 19.2562\n",
            "Epoch 32/100\n",
            "\u001b[1m16458/16458\u001b[0m \u001b[32m━━━━━━━━━━━━━━━━━━━━\u001b[0m\u001b[37m\u001b[0m \u001b[1m43s\u001b[0m 2ms/step - loss: 930.7544 - mae: 19.0766 - val_loss: 963.0128 - val_mae: 19.2899\n",
            "Epoch 33/100\n",
            "\u001b[1m16458/16458\u001b[0m \u001b[32m━━━━━━━━━━━━━━━━━━━━\u001b[0m\u001b[37m\u001b[0m \u001b[1m41s\u001b[0m 2ms/step - loss: 941.7399 - mae: 19.1616 - val_loss: 963.1258 - val_mae: 19.3044\n",
            "Epoch 34/100\n",
            "\u001b[1m16458/16458\u001b[0m \u001b[32m━━━━━━━━━━━━━━━━━━━━\u001b[0m\u001b[37m\u001b[0m \u001b[1m39s\u001b[0m 2ms/step - loss: 945.0557 - mae: 19.1629 - val_loss: 963.0453 - val_mae: 19.3688\n",
            "Epoch 35/100\n",
            "\u001b[1m16458/16458\u001b[0m \u001b[32m━━━━━━━━━━━━━━━━━━━━\u001b[0m\u001b[37m\u001b[0m \u001b[1m31s\u001b[0m 2ms/step - loss: 935.7355 - mae: 19.1479 - val_loss: 963.0396 - val_mae: 19.1950\n",
            "Epoch 36/100\n",
            "\u001b[1m16458/16458\u001b[0m \u001b[32m━━━━━━━━━━━━━━━━━━━━\u001b[0m\u001b[37m\u001b[0m \u001b[1m29s\u001b[0m 2ms/step - loss: 945.1517 - mae: 19.2195 - val_loss: 963.0481 - val_mae: 19.2269\n",
            "Epoch 37/100\n",
            "\u001b[1m16458/16458\u001b[0m \u001b[32m━━━━━━━━━━━━━━━━━━━━\u001b[0m\u001b[37m\u001b[0m \u001b[1m41s\u001b[0m 2ms/step - loss: 938.1663 - mae: 19.1503 - val_loss: 963.0257 - val_mae: 19.3088\n",
            "Epoch 38/100\n",
            "\u001b[1m16458/16458\u001b[0m \u001b[32m━━━━━━━━━━━━━━━━━━━━\u001b[0m\u001b[37m\u001b[0m \u001b[1m31s\u001b[0m 2ms/step - loss: 941.1089 - mae: 19.1937 - val_loss: 963.1089 - val_mae: 19.2571\n",
            "Epoch 39/100\n",
            "\u001b[1m16458/16458\u001b[0m \u001b[32m━━━━━━━━━━━━━━━━━━━━\u001b[0m\u001b[37m\u001b[0m \u001b[1m42s\u001b[0m 2ms/step - loss: 944.1617 - mae: 19.1943 - val_loss: 963.0468 - val_mae: 19.1978\n",
            "Epoch 40/100\n",
            "\u001b[1m16458/16458\u001b[0m \u001b[32m━━━━━━━━━━━━━━━━━━━━\u001b[0m\u001b[37m\u001b[0m \u001b[1m38s\u001b[0m 2ms/step - loss: 945.5198 - mae: 19.2016 - val_loss: 963.1364 - val_mae: 19.1857\n",
            "Epoch 41/100\n",
            "\u001b[1m16458/16458\u001b[0m \u001b[32m━━━━━━━━━━━━━━━━━━━━\u001b[0m\u001b[37m\u001b[0m \u001b[1m41s\u001b[0m 2ms/step - loss: 940.2736 - mae: 19.1522 - val_loss: 963.0519 - val_mae: 19.1692\n",
            "Epoch 42/100\n",
            "\u001b[1m16458/16458\u001b[0m \u001b[32m━━━━━━━━━━━━━━━━━━━━\u001b[0m\u001b[37m\u001b[0m \u001b[1m42s\u001b[0m 2ms/step - loss: 943.8663 - mae: 19.1644 - val_loss: 963.0982 - val_mae: 19.2391\n",
            "Epoch 43/100\n",
            "\u001b[1m16458/16458\u001b[0m \u001b[32m━━━━━━━━━━━━━━━━━━━━\u001b[0m\u001b[37m\u001b[0m \u001b[1m41s\u001b[0m 2ms/step - loss: 947.7766 - mae: 19.2032 - val_loss: 963.2592 - val_mae: 19.1337\n",
            "Epoch 44/100\n",
            "\u001b[1m16458/16458\u001b[0m \u001b[32m━━━━━━━━━━━━━━━━━━━━\u001b[0m\u001b[37m\u001b[0m \u001b[1m29s\u001b[0m 2ms/step - loss: 936.6318 - mae: 19.1148 - val_loss: 963.1012 - val_mae: 19.2115\n",
            "Epoch 45/100\n",
            "\u001b[1m16458/16458\u001b[0m \u001b[32m━━━━━━━━━━━━━━━━━━━━\u001b[0m\u001b[37m\u001b[0m \u001b[1m29s\u001b[0m 2ms/step - loss: 932.5343 - mae: 19.1195 - val_loss: 963.3200 - val_mae: 19.0920\n",
            "Epoch 46/100\n",
            "\u001b[1m16458/16458\u001b[0m \u001b[32m━━━━━━━━━━━━━━━━━━━━\u001b[0m\u001b[37m\u001b[0m \u001b[1m33s\u001b[0m 2ms/step - loss: 925.9622 - mae: 19.0487 - val_loss: 963.3291 - val_mae: 19.1391\n",
            "Epoch 47/100\n",
            "\u001b[1m16458/16458\u001b[0m \u001b[32m━━━━━━━━━━━━━━━━━━━━\u001b[0m\u001b[37m\u001b[0m \u001b[1m38s\u001b[0m 2ms/step - loss: 947.3403 - mae: 19.2165 - val_loss: 963.0313 - val_mae: 19.2721\n",
            "Epoch 48/100\n",
            "\u001b[1m16458/16458\u001b[0m \u001b[32m━━━━━━━━━━━━━━━━━━━━\u001b[0m\u001b[37m\u001b[0m \u001b[1m40s\u001b[0m 2ms/step - loss: 941.2325 - mae: 19.1860 - val_loss: 963.0938 - val_mae: 19.3699\n",
            "Epoch 49/100\n",
            "\u001b[1m16458/16458\u001b[0m \u001b[32m━━━━━━━━━━━━━━━━━━━━\u001b[0m\u001b[37m\u001b[0m \u001b[1m29s\u001b[0m 2ms/step - loss: 941.1002 - mae: 19.1633 - val_loss: 963.0258 - val_mae: 19.2944\n",
            "Epoch 50/100\n",
            "\u001b[1m16458/16458\u001b[0m \u001b[32m━━━━━━━━━━━━━━━━━━━━\u001b[0m\u001b[37m\u001b[0m \u001b[1m29s\u001b[0m 2ms/step - loss: 941.4172 - mae: 19.1553 - val_loss: 963.0195 - val_mae: 19.2609\n",
            "Epoch 51/100\n",
            "\u001b[1m16458/16458\u001b[0m \u001b[32m━━━━━━━━━━━━━━━━━━━━\u001b[0m\u001b[37m\u001b[0m \u001b[1m29s\u001b[0m 2ms/step - loss: 944.2574 - mae: 19.2002 - val_loss: 963.1285 - val_mae: 19.3491\n",
            "Epoch 52/100\n",
            "\u001b[1m16458/16458\u001b[0m \u001b[32m━━━━━━━━━━━━━━━━━━━━\u001b[0m\u001b[37m\u001b[0m \u001b[1m42s\u001b[0m 3ms/step - loss: 939.9275 - mae: 19.1793 - val_loss: 963.3746 - val_mae: 19.1265\n",
            "Epoch 53/100\n",
            "\u001b[1m16458/16458\u001b[0m \u001b[32m━━━━━━━━━━━━━━━━━━━━\u001b[0m\u001b[37m\u001b[0m \u001b[1m44s\u001b[0m 3ms/step - loss: 936.1379 - mae: 19.1109 - val_loss: 963.0463 - val_mae: 19.2072\n",
            "Epoch 54/100\n",
            "\u001b[1m16458/16458\u001b[0m \u001b[32m━━━━━━━━━━━━━━━━━━━━\u001b[0m\u001b[37m\u001b[0m \u001b[1m31s\u001b[0m 2ms/step - loss: 941.6267 - mae: 19.1595 - val_loss: 963.0721 - val_mae: 19.2253\n",
            "Epoch 55/100\n",
            "\u001b[1m16458/16458\u001b[0m \u001b[32m━━━━━━━━━━━━━━━━━━━━\u001b[0m\u001b[37m\u001b[0m \u001b[1m47s\u001b[0m 2ms/step - loss: 949.9928 - mae: 19.2285 - val_loss: 963.3057 - val_mae: 19.1285\n",
            "Epoch 56/100\n",
            "\u001b[1m16458/16458\u001b[0m \u001b[32m━━━━━━━━━━━━━━━━━━━━\u001b[0m\u001b[37m\u001b[0m \u001b[1m30s\u001b[0m 2ms/step - loss: 937.0412 - mae: 19.1297 - val_loss: 963.0362 - val_mae: 19.3689\n",
            "Epoch 57/100\n",
            "\u001b[1m16458/16458\u001b[0m \u001b[32m━━━━━━━━━━━━━━━━━━━━\u001b[0m\u001b[37m\u001b[0m \u001b[1m40s\u001b[0m 2ms/step - loss: 946.4030 - mae: 19.2036 - val_loss: 963.1340 - val_mae: 19.2097\n",
            "Epoch 58/100\n",
            "\u001b[1m16458/16458\u001b[0m \u001b[32m━━━━━━━━━━━━━━━━━━━━\u001b[0m\u001b[37m\u001b[0m \u001b[1m41s\u001b[0m 2ms/step - loss: 946.3103 - mae: 19.1603 - val_loss: 963.0642 - val_mae: 19.3364\n",
            "Epoch 59/100\n",
            "\u001b[1m16458/16458\u001b[0m \u001b[32m━━━━━━━━━━━━━━━━━━━━\u001b[0m\u001b[37m\u001b[0m \u001b[1m30s\u001b[0m 2ms/step - loss: 942.2692 - mae: 19.1503 - val_loss: 963.0887 - val_mae: 19.2798\n",
            "Epoch 60/100\n",
            "\u001b[1m16458/16458\u001b[0m \u001b[32m━━━━━━━━━━━━━━━━━━━━\u001b[0m\u001b[37m\u001b[0m \u001b[1m29s\u001b[0m 2ms/step - loss: 945.3023 - mae: 19.2025 - val_loss: 963.1129 - val_mae: 19.2571\n",
            "Epoch 61/100\n",
            "\u001b[1m16458/16458\u001b[0m \u001b[32m━━━━━━━━━━━━━━━━━━━━\u001b[0m\u001b[37m\u001b[0m \u001b[1m29s\u001b[0m 2ms/step - loss: 945.1442 - mae: 19.1471 - val_loss: 963.1541 - val_mae: 19.2459\n",
            "Epoch 62/100\n",
            "\u001b[1m16458/16458\u001b[0m \u001b[32m━━━━━━━━━━━━━━━━━━━━\u001b[0m\u001b[37m\u001b[0m \u001b[1m29s\u001b[0m 2ms/step - loss: 942.4089 - mae: 19.1486 - val_loss: 963.1096 - val_mae: 19.1993\n",
            "Epoch 63/100\n",
            "\u001b[1m16458/16458\u001b[0m \u001b[32m━━━━━━━━━━━━━━━━━━━━\u001b[0m\u001b[37m\u001b[0m \u001b[1m30s\u001b[0m 2ms/step - loss: 948.6619 - mae: 19.2144 - val_loss: 963.1060 - val_mae: 19.2181\n",
            "Epoch 64/100\n",
            "\u001b[1m16458/16458\u001b[0m \u001b[32m━━━━━━━━━━━━━━━━━━━━\u001b[0m\u001b[37m\u001b[0m \u001b[1m31s\u001b[0m 2ms/step - loss: 936.2481 - mae: 19.1132 - val_loss: 962.9913 - val_mae: 19.1739\n",
            "Epoch 65/100\n",
            "\u001b[1m16458/16458\u001b[0m \u001b[32m━━━━━━━━━━━━━━━━━━━━\u001b[0m\u001b[37m\u001b[0m \u001b[1m40s\u001b[0m 2ms/step - loss: 946.2941 - mae: 19.2099 - val_loss: 962.9908 - val_mae: 19.2770\n",
            "Epoch 66/100\n",
            "\u001b[1m16458/16458\u001b[0m \u001b[32m━━━━━━━━━━━━━━━━━━━━\u001b[0m\u001b[37m\u001b[0m \u001b[1m40s\u001b[0m 2ms/step - loss: 932.5692 - mae: 19.1387 - val_loss: 963.4861 - val_mae: 19.5115\n",
            "Epoch 67/100\n",
            "\u001b[1m16458/16458\u001b[0m \u001b[32m━━━━━━━━━━━━━━━━━━━━\u001b[0m\u001b[37m\u001b[0m \u001b[1m41s\u001b[0m 2ms/step - loss: 951.8145 - mae: 19.2692 - val_loss: 963.2094 - val_mae: 19.2759\n",
            "Epoch 68/100\n",
            "\u001b[1m16458/16458\u001b[0m \u001b[32m━━━━━━━━━━━━━━━━━━━━\u001b[0m\u001b[37m\u001b[0m \u001b[1m41s\u001b[0m 2ms/step - loss: 949.0743 - mae: 19.2173 - val_loss: 963.1443 - val_mae: 19.2118\n",
            "Epoch 69/100\n",
            "\u001b[1m16458/16458\u001b[0m \u001b[32m━━━━━━━━━━━━━━━━━━━━\u001b[0m\u001b[37m\u001b[0m \u001b[1m44s\u001b[0m 2ms/step - loss: 938.9586 - mae: 19.1173 - val_loss: 963.2229 - val_mae: 19.1872\n",
            "Epoch 70/100\n",
            "\u001b[1m16458/16458\u001b[0m \u001b[32m━━━━━━━━━━━━━━━━━━━━\u001b[0m\u001b[37m\u001b[0m \u001b[1m37s\u001b[0m 2ms/step - loss: 946.6864 - mae: 19.2124 - val_loss: 963.0306 - val_mae: 19.1811\n",
            "Epoch 71/100\n",
            "\u001b[1m16458/16458\u001b[0m \u001b[32m━━━━━━━━━━━━━━━━━━━━\u001b[0m\u001b[37m\u001b[0m \u001b[1m30s\u001b[0m 2ms/step - loss: 942.7753 - mae: 19.1883 - val_loss: 963.1583 - val_mae: 19.1961\n",
            "Epoch 72/100\n",
            "\u001b[1m16458/16458\u001b[0m \u001b[32m━━━━━━━━━━━━━━━━━━━━\u001b[0m\u001b[37m\u001b[0m \u001b[1m41s\u001b[0m 2ms/step - loss: 945.0268 - mae: 19.2007 - val_loss: 963.1013 - val_mae: 19.1638\n",
            "Epoch 73/100\n",
            "\u001b[1m16458/16458\u001b[0m \u001b[32m━━━━━━━━━━━━━━━━━━━━\u001b[0m\u001b[37m\u001b[0m \u001b[1m29s\u001b[0m 2ms/step - loss: 946.1753 - mae: 19.1541 - val_loss: 963.0232 - val_mae: 19.2983\n",
            "Epoch 74/100\n",
            "\u001b[1m16458/16458\u001b[0m \u001b[32m━━━━━━━━━━━━━━━━━━━━\u001b[0m\u001b[37m\u001b[0m \u001b[1m41s\u001b[0m 2ms/step - loss: 944.8366 - mae: 19.2034 - val_loss: 963.1873 - val_mae: 19.2800\n",
            "Epoch 75/100\n",
            "\u001b[1m16458/16458\u001b[0m \u001b[32m━━━━━━━━━━━━━━━━━━━━\u001b[0m\u001b[37m\u001b[0m \u001b[1m40s\u001b[0m 2ms/step - loss: 939.4217 - mae: 19.1287 - val_loss: 963.0253 - val_mae: 19.2983\n",
            "Epoch 76/100\n",
            "\u001b[1m16458/16458\u001b[0m \u001b[32m━━━━━━━━━━━━━━━━━━━━\u001b[0m\u001b[37m\u001b[0m \u001b[1m43s\u001b[0m 2ms/step - loss: 943.5139 - mae: 19.1630 - val_loss: 962.9428 - val_mae: 19.2965\n",
            "Epoch 77/100\n",
            "\u001b[1m16458/16458\u001b[0m \u001b[32m━━━━━━━━━━━━━━━━━━━━\u001b[0m\u001b[37m\u001b[0m \u001b[1m42s\u001b[0m 2ms/step - loss: 937.7109 - mae: 19.1446 - val_loss: 963.1324 - val_mae: 19.1266\n",
            "Epoch 78/100\n",
            "\u001b[1m16458/16458\u001b[0m \u001b[32m━━━━━━━━━━━━━━━━━━━━\u001b[0m\u001b[37m\u001b[0m \u001b[1m30s\u001b[0m 2ms/step - loss: 936.5433 - mae: 19.1411 - val_loss: 962.9690 - val_mae: 19.3489\n",
            "Epoch 79/100\n",
            "\u001b[1m16458/16458\u001b[0m \u001b[32m━━━━━━━━━━━━━━━━━━━━\u001b[0m\u001b[37m\u001b[0m \u001b[1m30s\u001b[0m 2ms/step - loss: 948.0433 - mae: 19.1987 - val_loss: 962.9866 - val_mae: 19.3110\n",
            "Epoch 80/100\n",
            "\u001b[1m16458/16458\u001b[0m \u001b[32m━━━━━━━━━━━━━━━━━━━━\u001b[0m\u001b[37m\u001b[0m \u001b[1m41s\u001b[0m 2ms/step - loss: 941.2264 - mae: 19.1297 - val_loss: 963.2601 - val_mae: 19.3183\n",
            "Epoch 81/100\n",
            "\u001b[1m16458/16458\u001b[0m \u001b[32m━━━━━━━━━━━━━━━━━━━━\u001b[0m\u001b[37m\u001b[0m \u001b[1m29s\u001b[0m 2ms/step - loss: 949.5399 - mae: 19.2117 - val_loss: 962.9176 - val_mae: 19.2656\n",
            "Epoch 82/100\n",
            "\u001b[1m16458/16458\u001b[0m \u001b[32m━━━━━━━━━━━━━━━━━━━━\u001b[0m\u001b[37m\u001b[0m \u001b[1m30s\u001b[0m 2ms/step - loss: 943.7222 - mae: 19.1763 - val_loss: 963.0734 - val_mae: 19.2785\n",
            "Epoch 83/100\n",
            "\u001b[1m16458/16458\u001b[0m \u001b[32m━━━━━━━━━━━━━━━━━━━━\u001b[0m\u001b[37m\u001b[0m \u001b[1m30s\u001b[0m 2ms/step - loss: 941.8194 - mae: 19.1754 - val_loss: 963.0976 - val_mae: 19.1962\n",
            "Epoch 84/100\n",
            "\u001b[1m16458/16458\u001b[0m \u001b[32m━━━━━━━━━━━━━━━━━━━━\u001b[0m\u001b[37m\u001b[0m \u001b[1m30s\u001b[0m 2ms/step - loss: 935.9777 - mae: 19.1104 - val_loss: 963.1328 - val_mae: 19.2163\n",
            "Epoch 85/100\n",
            "\u001b[1m16458/16458\u001b[0m \u001b[32m━━━━━━━━━━━━━━━━━━━━\u001b[0m\u001b[37m\u001b[0m \u001b[1m41s\u001b[0m 2ms/step - loss: 947.8919 - mae: 19.1932 - val_loss: 963.1252 - val_mae: 19.1606\n",
            "Epoch 86/100\n",
            "\u001b[1m16458/16458\u001b[0m \u001b[32m━━━━━━━━━━━━━━━━━━━━\u001b[0m\u001b[37m\u001b[0m \u001b[1m42s\u001b[0m 2ms/step - loss: 941.9384 - mae: 19.1351 - val_loss: 963.1119 - val_mae: 19.1607\n",
            "Epoch 87/100\n",
            "\u001b[1m16458/16458\u001b[0m \u001b[32m━━━━━━━━━━━━━━━━━━━━\u001b[0m\u001b[37m\u001b[0m \u001b[1m38s\u001b[0m 2ms/step - loss: 946.1202 - mae: 19.1782 - val_loss: 963.1393 - val_mae: 19.2898\n",
            "Epoch 88/100\n",
            "\u001b[1m16458/16458\u001b[0m \u001b[32m━━━━━━━━━━━━━━━━━━━━\u001b[0m\u001b[37m\u001b[0m \u001b[1m31s\u001b[0m 2ms/step - loss: 950.5051 - mae: 19.2305 - val_loss: 963.0208 - val_mae: 19.1901\n",
            "Epoch 89/100\n",
            "\u001b[1m16458/16458\u001b[0m \u001b[32m━━━━━━━━━━━━━━━━━━━━\u001b[0m\u001b[37m\u001b[0m \u001b[1m31s\u001b[0m 2ms/step - loss: 945.5112 - mae: 19.1948 - val_loss: 963.2256 - val_mae: 19.1098\n",
            "Epoch 90/100\n",
            "\u001b[1m16458/16458\u001b[0m \u001b[32m━━━━━━━━━━━━━━━━━━━━\u001b[0m\u001b[37m\u001b[0m \u001b[1m29s\u001b[0m 2ms/step - loss: 932.6052 - mae: 19.0639 - val_loss: 963.2122 - val_mae: 19.3514\n",
            "Epoch 91/100\n",
            "\u001b[1m16458/16458\u001b[0m \u001b[32m━━━━━━━━━━━━━━━━━━━━\u001b[0m\u001b[37m\u001b[0m \u001b[1m40s\u001b[0m 2ms/step - loss: 941.2628 - mae: 19.1709 - val_loss: 963.0546 - val_mae: 19.1960\n",
            "Epoch 92/100\n",
            "\u001b[1m16458/16458\u001b[0m \u001b[32m━━━━━━━━━━━━━━━━━━━━\u001b[0m\u001b[37m\u001b[0m \u001b[1m29s\u001b[0m 2ms/step - loss: 958.1040 - mae: 19.2711 - val_loss: 963.0606 - val_mae: 19.2367\n",
            "Epoch 93/100\n",
            "\u001b[1m16458/16458\u001b[0m \u001b[32m━━━━━━━━━━━━━━━━━━━━\u001b[0m\u001b[37m\u001b[0m \u001b[1m41s\u001b[0m 2ms/step - loss: 942.9274 - mae: 19.1734 - val_loss: 963.1340 - val_mae: 19.1912\n",
            "Epoch 94/100\n",
            "\u001b[1m16458/16458\u001b[0m \u001b[32m━━━━━━━━━━━━━━━━━━━━\u001b[0m\u001b[37m\u001b[0m \u001b[1m29s\u001b[0m 2ms/step - loss: 943.3765 - mae: 19.1984 - val_loss: 963.3411 - val_mae: 19.1005\n",
            "Epoch 95/100\n",
            "\u001b[1m16458/16458\u001b[0m \u001b[32m━━━━━━━━━━━━━━━━━━━━\u001b[0m\u001b[37m\u001b[0m \u001b[1m32s\u001b[0m 2ms/step - loss: 938.2913 - mae: 19.1269 - val_loss: 963.0023 - val_mae: 19.2916\n",
            "Epoch 96/100\n",
            "\u001b[1m16458/16458\u001b[0m \u001b[32m━━━━━━━━━━━━━━━━━━━━\u001b[0m\u001b[37m\u001b[0m \u001b[1m30s\u001b[0m 2ms/step - loss: 953.7560 - mae: 19.3093 - val_loss: 963.0712 - val_mae: 19.2556\n",
            "Epoch 97/100\n",
            "\u001b[1m16458/16458\u001b[0m \u001b[32m━━━━━━━━━━━━━━━━━━━━\u001b[0m\u001b[37m\u001b[0m \u001b[1m30s\u001b[0m 2ms/step - loss: 940.9731 - mae: 19.1758 - val_loss: 963.0634 - val_mae: 19.1437\n",
            "Epoch 98/100\n",
            "\u001b[1m16458/16458\u001b[0m \u001b[32m━━━━━━━━━━━━━━━━━━━━\u001b[0m\u001b[37m\u001b[0m \u001b[1m31s\u001b[0m 2ms/step - loss: 950.7926 - mae: 19.2197 - val_loss: 963.2024 - val_mae: 19.1396\n",
            "Epoch 99/100\n",
            "\u001b[1m16458/16458\u001b[0m \u001b[32m━━━━━━━━━━━━━━━━━━━━\u001b[0m\u001b[37m\u001b[0m \u001b[1m39s\u001b[0m 2ms/step - loss: 939.8228 - mae: 19.1359 - val_loss: 963.1317 - val_mae: 19.1277\n",
            "Epoch 100/100\n",
            "\u001b[1m16458/16458\u001b[0m \u001b[32m━━━━━━━━━━━━━━━━━━━━\u001b[0m\u001b[37m\u001b[0m \u001b[1m29s\u001b[0m 2ms/step - loss: 943.2162 - mae: 19.1976 - val_loss: 963.1851 - val_mae: 19.1767\n"
          ]
        }
      ]
    },
    {
      "cell_type": "code",
      "source": [
        "# Get the weights and bias\n",
        "weights, bias = model.layers[0].get_weights()\n",
        "\n",
        "# Print the coefficients for each independent variable\n",
        "print(\"Coefficients for Independent Variables:\")\n",
        "for feature, coef in zip(X_all.columns, weights.flatten()):\n",
        "    print(f\"{feature}: {coef:.4f}\")\n",
        "\n",
        "print(f\"Intercept (Bias): {bias[0]:.4f}\")"
      ],
      "metadata": {
        "colab": {
          "base_uri": "https://localhost:8080/"
        },
        "id": "W4ZWinZIlbcU",
        "outputId": "64ebe037-712b-4a48-d610-59e0a079e8a3"
      },
      "execution_count": null,
      "outputs": [
        {
          "output_type": "stream",
          "name": "stdout",
          "text": [
            "Coefficients for Independent Variables:\n",
            "most ads hour: -1.7285\n",
            "converted: 51.3690\n",
            "most ads day_Monday: -1.6107\n",
            "most ads day_Saturday: -0.3947\n",
            "most ads day_Sunday: -0.8141\n",
            "most ads day_Thursday: -2.7815\n",
            "most ads day_Tuesday: -2.2405\n",
            "most ads day_Wednesday: -1.6491\n",
            "Intercept (Bias): 23.7978\n"
          ]
        }
      ]
    },
    {
      "cell_type": "code",
      "source": [
        "# Plot the training and validation loss over epochs\n",
        "plt.figure(figsize=(10, 6))\n",
        "plt.plot(history.history['loss'], label='Training Loss')\n",
        "plt.plot(history.history['val_loss'], label='Validation Loss')\n",
        "plt.title('Loss Over Epochs')\n",
        "plt.xlabel('Epochs')\n",
        "plt.ylabel('Loss')\n",
        "plt.legend()\n",
        "plt.show()"
      ],
      "metadata": {
        "colab": {
          "base_uri": "https://localhost:8080/",
          "height": 569
        },
        "id": "Azrp8COxtCD2",
        "outputId": "c06cfd7c-0981-4589-f603-353370d2a9b1"
      },
      "execution_count": null,
      "outputs": [
        {
          "output_type": "display_data",
          "data": {
            "text/plain": [
              "<Figure size 1000x600 with 1 Axes>"
            ],
            "image/png": "[encoded data removed]"
          },
          "metadata": {}
        }
      ]
    },
    {
      "cell_type": "markdown",
      "source": [
        "#### **Model Coefficients:**\n",
        "1. **Independent Variables**:\n",
        "   - `most ads hour`: -1.7285\n",
        "   - `converted`: 51.3690\n",
        "   - `most ads day` (Categorical Variables, encoded as dummies):\n",
        "     - Monday: -1.6107\n",
        "     - Saturday: -0.3947\n",
        "     - Sunday: -0.8141\n",
        "     - Thursday: -2.7815\n",
        "     - Tuesday: -2.2405\n",
        "     - Wednesday: -1.6491\n",
        "\n",
        "2. **Intercept (Bias)**: 23.7978\n",
        "\n",
        "#### **Inference:**\n",
        "1. **Significance of `converted`**:\n",
        "   - The variable `converted` has the largest positive coefficient (51.3690). This suggests that if the `converted` variable is set to 1, it significantly increases the predicted output. It is the most influential variable in the model.\n",
        "\n",
        "2. **Impact of `most ads hour`**:\n",
        "   - The negative coefficient (-1.7285) indicates that higher values for the number of ads shown in a specific hour reduce the predicted value slightly. This means more ads shown in a given hour may negatively impact the target variable.\n",
        "\n",
        "3. **Day of the Week Influence**:\n",
        "   - Each dummy variable representing the day of the week has a negative coefficient, meaning all other days (compared to the reference category, likely Friday) have a negative impact on the predicted output.\n",
        "   - Thursday (-2.7815) and Tuesday (-2.2405) have the most negative impact, suggesting they are the least effective days for whatever is being predicted.\n",
        "   - Saturday (-0.3947) and Sunday (-0.8141) have the least negative impact, which might mean these days perform relatively better than other weekdays.\n",
        "\n",
        "4. **Intercept (Bias)**:\n",
        "   - The intercept (23.7978) is the baseline value when all other variables are zero. It provides the starting point for predictions when no specific factors (e.g., ads or days) are contributing.\n",
        "\n",
        "#### **General Interpretation:**\n",
        "- **Converted** is the key factor that drives up the predicted value.\n",
        "- Fewer ads shown during a specific hour and avoiding ad focus on days like Thursday and Tuesday could potentially yield better outcomes based on the model.\n",
        "- Days like Saturday and Sunday are more effective than weekdays, apart from Friday (if it’s the reference category).\n",
        "  \n",
        "If this is predicting something like ad conversions or engagement, optimizing for `converted` and targeting specific hours/days could be beneficial."
      ],
      "metadata": {
        "id": "1a0wsgzCZmAW"
      }
    },
    {
      "cell_type": "code",
      "source": [
        "# Make predictions\n",
        "y_pred = model.predict(X_test_all).flatten()\n",
        "\n",
        "# Plot actual vs predicted values\n",
        "plt.figure(figsize=(10, 6))\n",
        "plt.scatter(y_test_all, y_pred, alpha=0.6, color='blue', label='Predicted vs Actual')\n",
        "plt.plot([y_test_all.min(), y_test_all.max()],\n",
        "         [y_test_all.min(), y_test_all.max()],\n",
        "         color='red', linestyle='--', label='Perfect Prediction')\n",
        "plt.title('Actual vs Predicted Values')\n",
        "plt.xlabel('Actual Total Ads')\n",
        "plt.ylabel('Predicted Total Ads')\n",
        "plt.legend()\n",
        "plt.show()"
      ],
      "metadata": {
        "colab": {
          "base_uri": "https://localhost:8080/",
          "height": 586
        },
        "id": "TfHVULrstH-O",
        "outputId": "b9b6358c-830d-435d-fedc-e3564d0dff11"
      },
      "execution_count": null,
      "outputs": [
        {
          "output_type": "stream",
          "name": "stdout",
          "text": [
            "\u001b[1m1829/1829\u001b[0m \u001b[32m━━━━━━━━━━━━━━━━━━━━\u001b[0m\u001b[37m\u001b[0m \u001b[1m3s\u001b[0m 1ms/step\n"
          ]
        },
        {
          "output_type": "display_data",
          "data": {
            "text/plain": [
              "<Figure size 1000x600 with 1 Axes>"
            ],
            "image/png": "[encoded data removed]"
          },
          "metadata": {}
        }
      ]
    },
    {
      "cell_type": "code",
      "source": [
        "r2_score(y_test_all, y_pred) # R-Squared Score"
      ],
      "metadata": {
        "colab": {
          "base_uri": "https://localhost:8080/"
        },
        "id": "xcqgG1qYtLoN",
        "outputId": "be918d48-2282-40da-8f84-0203c3006238"
      },
      "execution_count": null,
      "outputs": [
        {
          "output_type": "execute_result",
          "data": {
            "text/plain": [
              "0.06407380104064941"
            ]
          },
          "metadata": {},
          "execution_count": 49
        }
      ]
    },
    {
      "cell_type": "markdown",
      "source": [
        "#### **Key Observations:**\n",
        "\n",
        "* **Two Distinct Clusters:** The plot reveals two distinct clusters of points. This suggests that the model is making two primary predictions: one around the 50 mark and another around the 250 mark.\n",
        "\n",
        "* **Limited Prediction Range:** The model appears to be confined to these two prediction clusters. It struggles to accurately predict values between these clusters or outside this range.\n",
        "\n",
        "* **Poor Fit:** The points deviate significantly from the diagonal line representing perfect prediction. This indicates that the model's predictions are not very accurate and have a large error.\n",
        "\n",
        "**Possible Interpretations:**\n",
        "\n",
        "* **Clustering in Data:** The two distinct clusters might suggest that the data itself has inherent groupings or segments. The model might be struggling to capture the nuances within these groups.\n",
        "* **Model Limitations:** The current model might be too simplistic to capture the complex relationships within the data. It might be necessary to explore more sophisticated models or feature engineering techniques.\n",
        "* **Outliers:** The presence of outliers in the data could be influencing the model's predictions and leading to these distinct clusters.\n",
        "\n",
        "**Recommendations:**\n",
        "\n",
        "* **Investigate Data Clustering:** Analyze the data for potential groupings or segments. This might involve techniques like k-means clustering or other segmentation methods.\n",
        "* **Explore Model Complexity:** Consider using more complex models, such as decision trees, random forests, or support vector machines, which might be better able to capture non-linear relationships in the data.\n",
        "* **Feature Engineering:** Create new features or transform existing ones to improve model performance.\n",
        "* **Outlier Detection and Handling:** Identify and handle outliers appropriately to improve model robustness.\n",
        "\n",
        "**Overall:**\n",
        "\n",
        "The scatter plot indicates that the current model is not performing well in predicting \"Total Ads.\" Further investigation and model refinement are necessary to improve its accuracy."
      ],
      "metadata": {
        "id": "l60rGoVbZ7Rt"
      }
    },
    {
      "cell_type": "code",
      "source": [],
      "metadata": {
        "id": "_Yoy62Un0ZMT"
      },
      "execution_count": null,
      "outputs": []
    }
  ]
}